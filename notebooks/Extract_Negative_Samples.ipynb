{
 "cells": [
  {
   "cell_type": "code",
   "execution_count": 1,
   "metadata": {},
   "outputs": [],
   "source": [
    "import os, sys, email,re\n",
    "import numpy as np \n",
    "import pandas as pd\n",
    "\n",
    "# Plotting\n",
    "import matplotlib.pyplot as plt\n",
    "%matplotlib inline\n",
    "import seaborn as sns; sns.set_style('whitegrid')\n",
    "import wordcloud\n",
    "\n",
    "# Network analysis\n",
    "import networkx as nx\n",
    "\n",
    "# NLP\n",
    "import nltk\n",
    "import glob\n",
    "from nltk.tokenize.regexp import RegexpTokenizer\n",
    "\n",
    "import gensim\n",
    "from gensim import corpora\n",
    "from nltk.corpus import stopwords \n",
    "from nltk.stem.wordnet import WordNetLemmatizer\n",
    "import string\n",
    "from nltk.stem.porter import PorterStemmer"
   ]
  },
  {
   "cell_type": "code",
   "execution_count": 2,
   "metadata": {},
   "outputs": [],
   "source": [
    "# One Time Downloads\n",
    "# nltk.download('punkt')\n",
    "# nltk.download('wordnet')"
   ]
  },
  {
   "cell_type": "code",
   "execution_count": 3,
   "metadata": {
    "scrolled": true
   },
   "outputs": [],
   "source": [
    "# ***** LEGIT ***** #\n",
    "\n",
    "# Instantiate line storage\n",
    "lines = []\n",
    "\n",
    "# Append strings that start off each sentence that you want removed from the data.\n",
    "prefixes = ('Message-ID:', 'Cc: ','----------------------','SRS\\n----------------------')\n",
    "\n",
    "# Searches through each sentence and removes sentences containing any of the following strings\n",
    "bad_words = ['-----Original Message-----','---------------------- Forwarded by',\n",
    "             'Subject:','**********','MAP0000.jpg','?','Please call','please call',\n",
    "             'Please review','please review','Please send', 'please send','please immediately notify',\n",
    "             'Please advise','please advise']\n",
    "\n",
    "# Instantiate final_list\n",
    "final_list = []\n",
    "\n",
    "# Directory that the .txt files are being pulled from\n",
    "# file_directory = glob.glob(\"../data/enron_with_categories/3/*.txt\")\n",
    "# file_directory1 = glob.glob(\"../data/enron_with_categories/1/*.txt\")\n",
    "# file_directory2 = glob.glob(\"../data/enron_with_categories/2/*.txt\")\n",
    "file_directory3 = glob.glob(\"../data/enron_with_categories/3/*.txt\")\n",
    "tokenizer = nltk.data.load('tokenizers/punkt/english.pickle')\n",
    "\n",
    "# Loops through all .txt files in 'files'\n",
    "for txt_fle in file_directory3:\n",
    "    with open(txt_fle) as f:\n",
    "        data = f.read()\n",
    "        lines += tokenizer.tokenize(data)\n",
    "\n",
    "# Looping through every sentence. If condition is met, then the sentence is removed\n",
    "for sentence in lines[:]:\n",
    "    if sentence.startswith(prefixes) or any(bad_word in sentence for bad_word in bad_words):\n",
    "        lines.remove(sentence)\n",
    "\n",
    "# Getting rid of numbers and and other unnecessary symbols\n",
    "for element in lines:\n",
    "    element=element.rstrip()\n",
    "    element = re.sub(r'[^a-zA-Z&\\']', ' ', element) #This determines what characters get to stay behind\n",
    "\n",
    "    # Dropping the empty rows\n",
    "    if element != '':\n",
    "        \n",
    "        # Getting rid of the new lines\"\\n\"s AND removes multiple whitespace\n",
    "        final_list.append(' '.join(element.replace(\"\\n\", \"\").split()))\n",
    "        \n",
    "filter_object = filter(lambda x: x != \"\", final_list)\n",
    "without_empty_strings = list(filter_object)\n",
    "final_list = without_empty_strings"
   ]
  },
  {
   "cell_type": "code",
   "execution_count": 4,
   "metadata": {},
   "outputs": [
    {
     "name": "stdout",
     "output_type": "stream",
     "text": [
      "<class 'str'>\n"
     ]
    },
    {
     "data": {
      "text/plain": [
       "'It seems the only time the Board becomes animated is when one of three issues are on the agenda price caps FTRs and priorities for software enhancements'"
      ]
     },
     "execution_count": 4,
     "metadata": {},
     "output_type": "execute_result"
    }
   ],
   "source": [
    "print(type(final_list[191]))\n",
    "final_list[191]"
   ]
  },
  {
   "cell_type": "code",
   "execution_count": 5,
   "metadata": {},
   "outputs": [
    {
     "name": "stdout",
     "output_type": "stream",
     "text": [
      "3492\n"
     ]
    }
   ],
   "source": [
    "# Length of final_list\n",
    "print(len(final_list))\n",
    "\n",
    "# Turning the list into a pandas dataframe\n",
    "df = pd.DataFrame(final_list)"
   ]
  },
  {
   "cell_type": "code",
   "execution_count": 6,
   "metadata": {},
   "outputs": [
    {
     "data": {
      "text/html": [
       "<div>\n",
       "<style scoped>\n",
       "    .dataframe tbody tr th:only-of-type {\n",
       "        vertical-align: middle;\n",
       "    }\n",
       "\n",
       "    .dataframe tbody tr th {\n",
       "        vertical-align: top;\n",
       "    }\n",
       "\n",
       "    .dataframe thead th {\n",
       "        text-align: right;\n",
       "    }\n",
       "</style>\n",
       "<table border=\"1\" class=\"dataframe\">\n",
       "  <thead>\n",
       "    <tr style=\"text-align: right;\">\n",
       "      <th></th>\n",
       "      <th>0</th>\n",
       "    </tr>\n",
       "  </thead>\n",
       "  <tbody>\n",
       "    <tr>\n",
       "      <th>0</th>\n",
       "      <td>Steve and Mark a good friend of mine works for...</td>\n",
       "    </tr>\n",
       "    <tr>\n",
       "      <th>1</th>\n",
       "      <td>They have been offered this opportunity by the...</td>\n",
       "    </tr>\n",
       "    <tr>\n",
       "      <th>2</th>\n",
       "      <td>for Social and Economic Development for a comm...</td>\n",
       "    </tr>\n",
       "    <tr>\n",
       "      <th>3</th>\n",
       "      <td>Since Mr Lay has been a past recipient accordi...</td>\n",
       "    </tr>\n",
       "    <tr>\n",
       "      <th>4</th>\n",
       "      <td>Thanks for your help</td>\n",
       "    </tr>\n",
       "    <tr>\n",
       "      <th>5</th>\n",
       "      <td>Hi Sherri We would be most appreciative if you...</td>\n",
       "    </tr>\n",
       "    <tr>\n",
       "      <th>6</th>\n",
       "      <td>In this letter Mr Wu mentions that Dr Kenneth ...</td>\n",
       "    </tr>\n",
       "    <tr>\n",
       "      <th>7</th>\n",
       "      <td>Well you just called so I won't complete this ...</td>\n",
       "    </tr>\n",
       "    <tr>\n",
       "      <th>8</th>\n",
       "      <td>I would like to keep this confidential especia...</td>\n",
       "    </tr>\n",
       "    <tr>\n",
       "      <th>9</th>\n",
       "      <td>As my request has nothing to do with the peopl...</td>\n",
       "    </tr>\n",
       "    <tr>\n",
       "      <th>10</th>\n",
       "      <td>Afterwards of course we all were changed to Ne...</td>\n",
       "    </tr>\n",
       "    <tr>\n",
       "      <th>11</th>\n",
       "      <td>After a couple of months I made the move back ...</td>\n",
       "    </tr>\n",
       "    <tr>\n",
       "      <th>12</th>\n",
       "      <td>It was never my intention to leave Enron Since...</td>\n",
       "    </tr>\n",
       "    <tr>\n",
       "      <th>13</th>\n",
       "      <td>I was on the trading floor working with Dave D...</td>\n",
       "    </tr>\n",
       "    <tr>\n",
       "      <th>14</th>\n",
       "      <td>I would appreciate it very much if you were ab...</td>\n",
       "    </tr>\n",
       "    <tr>\n",
       "      <th>15</th>\n",
       "      <td>Sincerely Teri Teri Connor Smith Admin Coordin...</td>\n",
       "    </tr>\n",
       "    <tr>\n",
       "      <th>16</th>\n",
       "      <td>Let's communicate Breathitt's interest to Bone...</td>\n",
       "    </tr>\n",
       "    <tr>\n",
       "      <th>17</th>\n",
       "      <td>He had just gotten off the phone with Massey</td>\n",
       "    </tr>\n",
       "    <tr>\n",
       "      <th>18</th>\n",
       "      <td>Massey believes Linda B is spending time at th...</td>\n",
       "    </tr>\n",
       "    <tr>\n",
       "      <th>19</th>\n",
       "      <td>I would prefer backing Massey</td>\n",
       "    </tr>\n",
       "    <tr>\n",
       "      <th>20</th>\n",
       "      <td>The President will then name a new Chairman</td>\n",
       "    </tr>\n",
       "    <tr>\n",
       "      <th>21</th>\n",
       "      <td>Bill Massey is quite interested in receiving t...</td>\n",
       "    </tr>\n",
       "    <tr>\n",
       "      <th>22</th>\n",
       "      <td>John</td>\n",
       "    </tr>\n",
       "    <tr>\n",
       "      <th>23</th>\n",
       "      <td>No big changes</td>\n",
       "    </tr>\n",
       "    <tr>\n",
       "      <th>24</th>\n",
       "      <td>Andrea and I look forward to seeing you on Monday</td>\n",
       "    </tr>\n",
       "    <tr>\n",
       "      <th>25</th>\n",
       "      <td>Regards Eugenio</td>\n",
       "    </tr>\n",
       "    <tr>\n",
       "      <th>26</th>\n",
       "      <td>I was glad to do it and would do it again next...</td>\n",
       "    </tr>\n",
       "    <tr>\n",
       "      <th>27</th>\n",
       "      <td>I benefitted a great deal from what I heard fr...</td>\n",
       "    </tr>\n",
       "    <tr>\n",
       "      <th>28</th>\n",
       "      <td>FYI we conducted a post event survey on opinio...</td>\n",
       "    </tr>\n",
       "    <tr>\n",
       "      <th>29</th>\n",
       "      <td>When asked what should be kept the same next t...</td>\n",
       "    </tr>\n",
       "  </tbody>\n",
       "</table>\n",
       "</div>"
      ],
      "text/plain": [
       "                                                    0\n",
       "0   Steve and Mark a good friend of mine works for...\n",
       "1   They have been offered this opportunity by the...\n",
       "2   for Social and Economic Development for a comm...\n",
       "3   Since Mr Lay has been a past recipient accordi...\n",
       "4                                Thanks for your help\n",
       "5   Hi Sherri We would be most appreciative if you...\n",
       "6   In this letter Mr Wu mentions that Dr Kenneth ...\n",
       "7   Well you just called so I won't complete this ...\n",
       "8   I would like to keep this confidential especia...\n",
       "9   As my request has nothing to do with the peopl...\n",
       "10  Afterwards of course we all were changed to Ne...\n",
       "11  After a couple of months I made the move back ...\n",
       "12  It was never my intention to leave Enron Since...\n",
       "13  I was on the trading floor working with Dave D...\n",
       "14  I would appreciate it very much if you were ab...\n",
       "15  Sincerely Teri Teri Connor Smith Admin Coordin...\n",
       "16  Let's communicate Breathitt's interest to Bone...\n",
       "17       He had just gotten off the phone with Massey\n",
       "18  Massey believes Linda B is spending time at th...\n",
       "19                      I would prefer backing Massey\n",
       "20        The President will then name a new Chairman\n",
       "21  Bill Massey is quite interested in receiving t...\n",
       "22                                               John\n",
       "23                                     No big changes\n",
       "24  Andrea and I look forward to seeing you on Monday\n",
       "25                                    Regards Eugenio\n",
       "26  I was glad to do it and would do it again next...\n",
       "27  I benefitted a great deal from what I heard fr...\n",
       "28  FYI we conducted a post event survey on opinio...\n",
       "29  When asked what should be kept the same next t..."
      ]
     },
     "execution_count": 6,
     "metadata": {},
     "output_type": "execute_result"
    }
   ],
   "source": [
    "df[:30]"
   ]
  },
  {
   "cell_type": "code",
   "execution_count": 7,
   "metadata": {},
   "outputs": [
    {
     "name": "stdout",
     "output_type": "stream",
     "text": [
      "0    The Democrats in Sacramento are doing that for me\n",
      "Name: 186, dtype: object\n"
     ]
    }
   ],
   "source": [
    "print(df.iloc[186])"
   ]
  },
  {
   "cell_type": "code",
   "execution_count": 8,
   "metadata": {},
   "outputs": [],
   "source": [
    "# # Use to sample 300 random rows\n",
    "# subset_300 = df.sample(300)"
   ]
  },
  {
   "cell_type": "code",
   "execution_count": 10,
   "metadata": {},
   "outputs": [],
   "source": [
    "# # Use to save the output of 300 samples\n",
    "# subset_300.to_csv(\"../data/NegativeSamplesSubset.csv\",header=False,index=False)"
   ]
  },
  {
   "cell_type": "code",
   "execution_count": null,
   "metadata": {},
   "outputs": [],
   "source": []
  },
  {
   "cell_type": "code",
   "execution_count": null,
   "metadata": {},
   "outputs": [],
   "source": []
  },
  {
   "cell_type": "code",
   "execution_count": 11,
   "metadata": {},
   "outputs": [],
   "source": [
    "# # TESTING: Use this to index specific rows from the dataset\n",
    "# print(type(df.iloc[28]))"
   ]
  },
  {
   "cell_type": "code",
   "execution_count": 12,
   "metadata": {},
   "outputs": [],
   "source": [
    "# # Allows for the non-truncated version of the dataframe to be available\n",
    "# pd.set_option('display.max_colwidth',-1)"
   ]
  },
  {
   "cell_type": "code",
   "execution_count": 13,
   "metadata": {},
   "outputs": [],
   "source": [
    "# # TESTING: All cleaning procedures moved to the #LEGIT cell\n",
    "# def clean(text):\n",
    "#     stop = set(stopwords.words('english'))\n",
    "# #     stop.update((\"to\",\"cc\",\"subject\",\"http\",\"from\",\"sent\",\"aaaaaaaaaaaaaaaaaaaaaaaaaaaaaaaaaaaaaaaaaaaaaaaaaaaaaaaaaaaaaaaaaaaaaaaaaaaa\"))\n",
    "# #     exclude = set(string.punctuation) \n",
    "# #     lemma = WordNetLemmatizer()\n",
    "# #     porter= PorterStemmer()\n",
    "    \n",
    "#     text=text.rstrip()\n",
    "#     text = re.sub(r'[^a-zA-Z&]', ' ', text)\n",
    "# #     text = re.sub('-----Original Message-----[^>]+RE:', '', s)\n",
    "# #     stop_free = \" \".join([i for i in text.lower().split() if((i not in stop) and (not i.isdigit()))])\n",
    "# #     punc_free = ''.join(ch for ch in stop_free if ch not in exclude)\n",
    "# #     normalized = \" \".join(lemma.lemmatize(word) for word in punc_free.split())\n",
    "#     #stem = \" \".join(porter.stem(token) for token in normalized.split())\n",
    "    \n",
    "#     return text"
   ]
  },
  {
   "cell_type": "code",
   "execution_count": 14,
   "metadata": {},
   "outputs": [],
   "source": [
    "# # Testing\n",
    "# tokenizer = nltk.data.load('tokenizers/punkt/english.pickle')\n",
    "# fp = open('../data/enron_with_categories/3/9085.txt')\n",
    "# data = fp.read()\n",
    "# print(data)\n",
    "# print('\\n-----\\n'.join(tokenizer.tokenize(data)))"
   ]
  },
  {
   "cell_type": "code",
   "execution_count": 15,
   "metadata": {},
   "outputs": [],
   "source": [
    "# # Testing\n",
    "# d = list(tokenizer.tokenize(data))\n",
    "# test = d\n",
    "# test"
   ]
  },
  {
   "cell_type": "code",
   "execution_count": 16,
   "metadata": {},
   "outputs": [],
   "source": [
    "# # Testing: Removing items that start with certain tags\n",
    "# prefixes = ('Message-ID:')\n",
    "# for word in test[:]:\n",
    "#     if word.startswith(prefixes):\n",
    "#         test.remove(word)\n",
    "        \n",
    "# print(test)"
   ]
  },
  {
   "cell_type": "code",
   "execution_count": 17,
   "metadata": {},
   "outputs": [],
   "source": [
    "# # Testing: Removing the newlines ('/n')\n",
    "# list2 = []\n",
    "# sample_list = test\n",
    "# for element in sample_list:\n",
    "#     list2.append(element.replace(\"\\n\", \"\"))\n",
    "# print(list2)"
   ]
  },
  {
   "cell_type": "code",
   "execution_count": 18,
   "metadata": {},
   "outputs": [],
   "source": [
    "# test2 = []\n",
    "# for element in test:\n",
    "#     test2.append(re.sub(r'^.*?Re:', '', element))# Deletes everything before 'Re:'\n",
    "#     test2.append(re.sub(r'^.*?Subject:', '', element))# Deletes everything after ''\n",
    "    \n",
    "# print(test2)"
   ]
  },
  {
   "cell_type": "code",
   "execution_count": null,
   "metadata": {},
   "outputs": [],
   "source": []
  }
 ],
 "metadata": {
  "kernelspec": {
   "display_name": "Python 3",
   "language": "python",
   "name": "python3"
  },
  "language_info": {
   "codemirror_mode": {
    "name": "ipython",
    "version": 3
   },
   "file_extension": ".py",
   "mimetype": "text/x-python",
   "name": "python",
   "nbconvert_exporter": "python",
   "pygments_lexer": "ipython3",
   "version": "3.7.3"
  }
 },
 "nbformat": 4,
 "nbformat_minor": 2
}
