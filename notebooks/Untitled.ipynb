{
 "cells": [
  {
   "cell_type": "code",
   "execution_count": null,
   "metadata": {},
   "outputs": [],
   "source": [
    "import spacy\n",
    "\n",
    "nlp = spacy.load(\"en_core_web_sm\")\n",
    "doc = nlp(\"Autonomous cars shift insurance liability toward manufacturers\")\n",
    "for token in doc:\n",
    "    print(token.text, token.dep_, token.head.text, token.head.pos_,\n",
    "            [child for child in token.children])"
   ]
  },
  {
   "cell_type": "code",
   "execution_count": null,
   "metadata": {},
   "outputs": [],
   "source": [
    "nlp = spacy.load(\"en_core_web_sm\")\n",
    "doc = nlp(\"The great bamino was a fantastic tasty man immediately with many documents, and don't forget the juice\")\n",
    "for chunk in doc.noun_chunks:\n",
    "    print(chunk.text, chunk.root.text, chunk.root.dep_, chunk.root.head.text)\n",
    "#     print(chunk.text)"
   ]
  },
  {
   "cell_type": "code",
   "execution_count": null,
   "metadata": {},
   "outputs": [],
   "source": [
    "nlp = spacy.load(\"en_core_web_sm\")\n",
    "doc = nlp(\"The great bamino was a fantastic tasty man immediately with many documents, and don't forget the juice\")\n",
    "for chunk in doc.noun_chunks:\n",
    "    print(chunk.text, chunk.root.text, chunk.root.dep_, chunk.root.head.text)\n",
    "#     print(chunk.text)"
   ]
  },
  {
   "cell_type": "code",
   "execution_count": null,
   "metadata": {},
   "outputs": [],
   "source": [
    "\n",
    "# CREATE CUSTOM NLP function from SpaCy\n",
    "nlp = spacy.load(\"en_core_web_sm\", disable=[\"tagger\"])\n",
    "# nlp.add_pipe(custom_ents, name = 'custom', first=True)\n",
    "nlp.add_pipe(nlp.create_pipe(\"merge_entities\"))\n",
    "nlp.add_pipe(nlp.create_pipe(\"merge_noun_chunks\"))"
   ]
  },
  {
   "cell_type": "code",
   "execution_count": 7,
   "metadata": {},
   "outputs": [],
   "source": [
    "import spacy\n",
    "nlp = spacy.load(\"en_core_web_sm\")\n",
    "\n",
    "texts = [t.text for t in nlp(\"I have a blue car\")]\n",
    "assert texts == [\"I\", \"have\", \"a\", \"blue\", \"car\"]\n",
    "\n",
    "nlp.add_pipe(nlp.create_pipe(\"merge_entities\"))\n",
    "nlp.add_pipe(nlp.create_pipe(\"merge_noun_chunks\"))\n",
    "\n",
    "texts = [t.text for t in nlp(\"I have a blue car\")]\n",
    "assert texts == [\"I\", \"have\", \"a blue car\"]"
   ]
  },
  {
   "cell_type": "code",
   "execution_count": 8,
   "metadata": {},
   "outputs": [
    {
     "data": {
      "text/plain": [
       "['I', 'have', 'a blue car']"
      ]
     },
     "execution_count": 8,
     "metadata": {},
     "output_type": "execute_result"
    }
   ],
   "source": [
    "texts"
   ]
  },
  {
   "cell_type": "code",
   "execution_count": 42,
   "metadata": {},
   "outputs": [],
   "source": [
    "s = \"Dear Vince, I hope your trip to Australia was successful. It's one of SENDER's favorite places to go. I've copied you on the email to Mike initiating Enron's trial service to Energycast. Thanks for helping to set this up. Would you ask the authorities in Enron to refresh my access to Enrononline?\"\n",
    "\n"
   ]
  },
  {
   "cell_type": "code",
   "execution_count": 43,
   "metadata": {},
   "outputs": [],
   "source": [
    "doc = nlp(s)"
   ]
  },
  {
   "cell_type": "code",
   "execution_count": 44,
   "metadata": {},
   "outputs": [
    {
     "name": "stdout",
     "output_type": "stream",
     "text": [
      "I I nsubj hope\n",
      "your trip your trip nsubj was\n",
      "Australia Australia pobj to\n",
      "It It nsubj 's\n",
      "SENDER's favorite places SENDER's favorite places pobj of\n",
      "I I nsubj copied\n",
      "you you dobj copied\n",
      "the email the email pobj on\n",
      "Mike Mike pobj to\n",
      "Enron's trial service Enron's trial service dobj initiating\n",
      "Energycast Energycast pobj to\n",
      "Thanks Thanks ROOT Thanks\n",
      "you you nsubj ask\n",
      "the authorities the authorities dobj ask\n",
      "Enron Enron pobj in\n",
      "my access my access dobj refresh\n",
      "Enrononline Enrononline pobj to\n"
     ]
    }
   ],
   "source": [
    "for chunk in doc.noun_chunks:\n",
    "    print(chunk.text, chunk.root.text, chunk.root.dep_, chunk.root.head.text)"
   ]
  },
  {
   "cell_type": "code",
   "execution_count": 45,
   "metadata": {},
   "outputs": [
    {
     "name": "stdout",
     "output_type": "stream",
     "text": [
      "I\t\t\t\tI\t\t\t\tnsubj\thope\n",
      "your trip\t\t\t\tyour trip\t\t\t\tnsubj\twas\n",
      "Australia\t\t\t\tAustralia\t\t\t\tpobj\tto\n",
      "It\t\t\t\tIt\t\t\t\tnsubj\t's\n",
      "SENDER's favorite places\t\t\t\tSENDER's favorite places\t\t\t\tpobj\tof\n",
      "I\t\t\t\tI\t\t\t\tnsubj\tcopied\n",
      "you\t\t\t\tyou\t\t\t\tdobj\tcopied\n",
      "the email\t\t\t\tthe email\t\t\t\tpobj\ton\n",
      "Mike\t\t\t\tMike\t\t\t\tpobj\tto\n",
      "Enron's trial service\t\t\t\tEnron's trial service\t\t\t\tdobj\tinitiating\n",
      "Energycast\t\t\t\tEnergycast\t\t\t\tpobj\tto\n",
      "Thanks\t\t\t\tThanks\t\t\t\tROOT\tThanks\n",
      "you\t\t\t\tyou\t\t\t\tnsubj\task\n",
      "the authorities\t\t\t\tthe authorities\t\t\t\tdobj\task\n",
      "Enron\t\t\t\tEnron\t\t\t\tpobj\tin\n",
      "my access\t\t\t\tmy access\t\t\t\tdobj\trefresh\n",
      "Enrononline\t\t\t\tEnrononline\t\t\t\tpobj\tto\n"
     ]
    }
   ],
   "source": [
    "for chunk in doc.noun_chunks:\n",
    "    print(chunk.text + '\\t\\t\\t\\t' + chunk.root.text + '\\t\\t\\t\\t' + chunk.root.dep_ + '\\t' + chunk.root.head.text)"
   ]
  },
  {
   "cell_type": "code",
   "execution_count": 28,
   "metadata": {},
   "outputs": [
    {
     "data": {
      "text/plain": [
       "spacy.tokens.token.Token"
      ]
     },
     "execution_count": 28,
     "metadata": {},
     "output_type": "execute_result"
    }
   ],
   "source": [
    "type(t)"
   ]
  },
  {
   "cell_type": "code",
   "execution_count": 48,
   "metadata": {},
   "outputs": [
    {
     "data": {
      "text/plain": [
       "10"
      ]
     },
     "execution_count": 48,
     "metadata": {},
     "output_type": "execute_result"
    }
   ],
   "source": [
    "re.t.text"
   ]
  },
  {
   "cell_type": "code",
   "execution_count": 12,
   "metadata": {},
   "outputs": [
    {
     "name": "stdout",
     "output_type": "stream",
     "text": [
      "ORG\n",
      "\n",
      "\n",
      "\n",
      "\n",
      "\n",
      "\n",
      "\n"
     ]
    }
   ],
   "source": [
    "for t in doc:\n",
    "    print(t.ent_type_)"
   ]
  },
  {
   "cell_type": "code",
   "execution_count": 46,
   "metadata": {},
   "outputs": [
    {
     "data": {
      "text/plain": [
       "[Dear Vince,\n",
       " ,,\n",
       " I,\n",
       " hope,\n",
       " your trip,\n",
       " to,\n",
       " Australia,\n",
       " was,\n",
       " successful,\n",
       " .,\n",
       " It,\n",
       " 's,\n",
       " one,\n",
       " of,\n",
       " SENDER's favorite places,\n",
       " to,\n",
       " go,\n",
       " .,\n",
       " I,\n",
       " 've,\n",
       " copied,\n",
       " you,\n",
       " on,\n",
       " the email,\n",
       " to,\n",
       " Mike,\n",
       " initiating,\n",
       " Enron's trial service,\n",
       " to,\n",
       " Energycast,\n",
       " .,\n",
       " Thanks,\n",
       " for,\n",
       " helping,\n",
       " to,\n",
       " set,\n",
       " this,\n",
       " up,\n",
       " .,\n",
       " Would,\n",
       " you,\n",
       " ask,\n",
       " the authorities,\n",
       " in,\n",
       " Enron,\n",
       " to,\n",
       " refresh,\n",
       " my access,\n",
       " to,\n",
       " Enrononline,\n",
       " ?]"
      ]
     },
     "execution_count": 46,
     "metadata": {},
     "output_type": "execute_result"
    }
   ],
   "source": [
    "list(doc)"
   ]
  },
  {
   "cell_type": "code",
   "execution_count": null,
   "metadata": {},
   "outputs": [
    {
     "name": "stderr",
     "output_type": "stream",
     "text": [
      "/Users/rowancassius/opt/anaconda3/lib/python3.7/importlib/_bootstrap.py:219: RuntimeWarning: spacy.morphology.Morphology size changed, may indicate binary incompatibility. Expected 104 from C header, got 112 from PyObject\n",
      "  return f(*args, **kwds)\n",
      "/Users/rowancassius/opt/anaconda3/lib/python3.7/importlib/_bootstrap.py:219: RuntimeWarning: spacy.vocab.Vocab size changed, may indicate binary incompatibility. Expected 96 from C header, got 104 from PyObject\n",
      "  return f(*args, **kwds)\n",
      "/Users/rowancassius/opt/anaconda3/lib/python3.7/importlib/_bootstrap.py:219: RuntimeWarning: spacy.tokens.span.Span size changed, may indicate binary incompatibility. Expected 72 from C header, got 80 from PyObject\n",
      "  return f(*args, **kwds)\n"
     ]
    }
   ],
   "source": [
    "import spacy\n",
    "import neuralcoref\n",
    "\n",
    "nlp = spacy.load('en_core_web_sm')\n",
    "neuralcoref.add_to_pipe(nlp)\n",
    "doc1 = nlp('My sister has a dog. She loves him.')\n",
    "print(doc1._.coref_clusters)\n",
    "\n",
    "doc2 = nlp('Angela lives in Boston. She is quite happy in that city.')\n",
    "for ent in doc2.ents:\n",
    "    print(ent._.coref_cluster)"
   ]
  },
  {
   "cell_type": "code",
   "execution_count": 1,
   "metadata": {},
   "outputs": [],
   "source": [
    "import spacy"
   ]
  },
  {
   "cell_type": "code",
   "execution_count": 2,
   "metadata": {},
   "outputs": [
    {
     "data": {
      "text/plain": [
       "'2.2.4'"
      ]
     },
     "execution_count": 2,
     "metadata": {},
     "output_type": "execute_result"
    }
   ],
   "source": [
    "spacy.__version__"
   ]
  },
  {
   "cell_type": "code",
   "execution_count": null,
   "metadata": {},
   "outputs": [],
   "source": []
  }
 ],
 "metadata": {
  "kernelspec": {
   "display_name": "Python 3",
   "language": "python",
   "name": "python3"
  },
  "language_info": {
   "codemirror_mode": {
    "name": "ipython",
    "version": 3
   },
   "file_extension": ".py",
   "mimetype": "text/x-python",
   "name": "python",
   "nbconvert_exporter": "python",
   "pygments_lexer": "ipython3",
   "version": "3.7.4"
  }
 },
 "nbformat": 4,
 "nbformat_minor": 2
}
