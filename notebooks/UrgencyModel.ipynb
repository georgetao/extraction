{
 "cells": [
  {
   "cell_type": "code",
   "execution_count": 1,
   "metadata": {},
   "outputs": [],
   "source": [
    "# Outside imports\n",
    "import os\n",
    "import importlib\n",
    "import warnings\n",
    "warnings.filterwarnings('ignore')\n",
    "\n",
    "import numpy as np\n",
    "import pandas as pd"
   ]
  },
  {
   "cell_type": "code",
   "execution_count": 12,
   "metadata": {},
   "outputs": [],
   "source": [
    "from sklearn.feature_extraction.text import CountVectorizer, TfidfVectorizer\n",
    "from sklearn.model_selection import train_test_split"
   ]
  },
  {
   "cell_type": "code",
   "execution_count": 2,
   "metadata": {},
   "outputs": [],
   "source": [
    "df = pd.read_csv(os.path.join('/Users/rowancassius/Desktop/capstone/data', 'context_task_data.tsv'), sep = '\\t')"
   ]
  },
  {
   "cell_type": "code",
   "execution_count": 4,
   "metadata": {},
   "outputs": [
    {
     "data": {
      "text/html": [
       "<div>\n",
       "<style scoped>\n",
       "    .dataframe tbody tr th:only-of-type {\n",
       "        vertical-align: middle;\n",
       "    }\n",
       "\n",
       "    .dataframe tbody tr th {\n",
       "        vertical-align: top;\n",
       "    }\n",
       "\n",
       "    .dataframe thead th {\n",
       "        text-align: right;\n",
       "    }\n",
       "</style>\n",
       "<table border=\"1\" class=\"dataframe\">\n",
       "  <thead>\n",
       "    <tr style=\"text-align: right;\">\n",
       "      <th></th>\n",
       "      <th>#</th>\n",
       "      <th>NoRequestInContext</th>\n",
       "      <th>Urgent</th>\n",
       "      <th>NotRequest</th>\n",
       "      <th>RandomNumber</th>\n",
       "    </tr>\n",
       "  </thead>\n",
       "  <tbody>\n",
       "    <tr>\n",
       "      <td>count</td>\n",
       "      <td>2820.000000</td>\n",
       "      <td>1155.000000</td>\n",
       "      <td>2395.000000</td>\n",
       "      <td>699.000000</td>\n",
       "      <td>2820.000000</td>\n",
       "    </tr>\n",
       "    <tr>\n",
       "      <td>mean</td>\n",
       "      <td>3013.021631</td>\n",
       "      <td>0.948052</td>\n",
       "      <td>0.041754</td>\n",
       "      <td>0.406295</td>\n",
       "      <td>0.498823</td>\n",
       "    </tr>\n",
       "    <tr>\n",
       "      <td>std</td>\n",
       "      <td>1998.136736</td>\n",
       "      <td>0.222018</td>\n",
       "      <td>0.200067</td>\n",
       "      <td>0.491493</td>\n",
       "      <td>0.287290</td>\n",
       "    </tr>\n",
       "    <tr>\n",
       "      <td>min</td>\n",
       "      <td>1.000000</td>\n",
       "      <td>0.000000</td>\n",
       "      <td>0.000000</td>\n",
       "      <td>0.000000</td>\n",
       "      <td>0.000344</td>\n",
       "    </tr>\n",
       "    <tr>\n",
       "      <td>25%</td>\n",
       "      <td>708.750000</td>\n",
       "      <td>1.000000</td>\n",
       "      <td>0.000000</td>\n",
       "      <td>0.000000</td>\n",
       "      <td>0.252866</td>\n",
       "    </tr>\n",
       "    <tr>\n",
       "      <td>50%</td>\n",
       "      <td>3688.500000</td>\n",
       "      <td>1.000000</td>\n",
       "      <td>0.000000</td>\n",
       "      <td>0.000000</td>\n",
       "      <td>0.494803</td>\n",
       "    </tr>\n",
       "    <tr>\n",
       "      <td>75%</td>\n",
       "      <td>4729.250000</td>\n",
       "      <td>1.000000</td>\n",
       "      <td>0.000000</td>\n",
       "      <td>1.000000</td>\n",
       "      <td>0.750499</td>\n",
       "    </tr>\n",
       "    <tr>\n",
       "      <td>max</td>\n",
       "      <td>5550.000000</td>\n",
       "      <td>1.000000</td>\n",
       "      <td>1.000000</td>\n",
       "      <td>1.000000</td>\n",
       "      <td>0.999570</td>\n",
       "    </tr>\n",
       "  </tbody>\n",
       "</table>\n",
       "</div>"
      ],
      "text/plain": [
       "                 #  NoRequestInContext       Urgent  NotRequest  RandomNumber\n",
       "count  2820.000000         1155.000000  2395.000000  699.000000   2820.000000\n",
       "mean   3013.021631            0.948052     0.041754    0.406295      0.498823\n",
       "std    1998.136736            0.222018     0.200067    0.491493      0.287290\n",
       "min       1.000000            0.000000     0.000000    0.000000      0.000344\n",
       "25%     708.750000            1.000000     0.000000    0.000000      0.252866\n",
       "50%    3688.500000            1.000000     0.000000    0.000000      0.494803\n",
       "75%    4729.250000            1.000000     0.000000    1.000000      0.750499\n",
       "max    5550.000000            1.000000     1.000000    1.000000      0.999570"
      ]
     },
     "execution_count": 4,
     "metadata": {},
     "output_type": "execute_result"
    }
   ],
   "source": [
    "df.describe()"
   ]
  },
  {
   "cell_type": "code",
   "execution_count": 5,
   "metadata": {},
   "outputs": [
    {
     "data": {
      "text/plain": [
       "0.0    2295\n",
       "1.0     100\n",
       "Name: Urgent, dtype: int64"
      ]
     },
     "execution_count": 5,
     "metadata": {},
     "output_type": "execute_result"
    }
   ],
   "source": [
    "df['Urgent'].value_counts()"
   ]
  },
  {
   "cell_type": "code",
   "execution_count": 8,
   "metadata": {},
   "outputs": [],
   "source": [
    "pd.set_option('display.max_colwidth', -1)"
   ]
  },
  {
   "cell_type": "code",
   "execution_count": 10,
   "metadata": {},
   "outputs": [
    {
     "data": {
      "text/html": [
       "<div>\n",
       "<style scoped>\n",
       "    .dataframe tbody tr th:only-of-type {\n",
       "        vertical-align: middle;\n",
       "    }\n",
       "\n",
       "    .dataframe tbody tr th {\n",
       "        vertical-align: top;\n",
       "    }\n",
       "\n",
       "    .dataframe thead th {\n",
       "        text-align: right;\n",
       "    }\n",
       "</style>\n",
       "<table border=\"1\" class=\"dataframe\">\n",
       "  <thead>\n",
       "    <tr style=\"text-align: right;\">\n",
       "      <th></th>\n",
       "      <th>TaskSentence</th>\n",
       "    </tr>\n",
       "  </thead>\n",
       "  <tbody>\n",
       "    <tr>\n",
       "      <td>2253</td>\n",
       "      <td>Could you sign off ASAP.</td>\n",
       "    </tr>\n",
       "    <tr>\n",
       "      <td>816</td>\n",
       "      <td>The card will remain on the server for about two weeks, so please pick it up as soon as you can.</td>\n",
       "    </tr>\n",
       "    <tr>\n",
       "      <td>2769</td>\n",
       "      <td>PLEASE READ THE ATTACHED FILE Ethical Wall Procedure AND PRINT AND SIGN THE EMPLOYEE CERTIFICATION below .</td>\n",
       "    </tr>\n",
       "    <tr>\n",
       "      <td>126</td>\n",
       "      <td>PLEASE REVIEW THE NOTICE AND DISCLAIMER BELOW</td>\n",
       "    </tr>\n",
       "    <tr>\n",
       "      <td>352</td>\n",
       "      <td>Please remove any items you have in the refrigerator immediately.</td>\n",
       "    </tr>\n",
       "    <tr>\n",
       "      <td>2676</td>\n",
       "      <td>Please review and let me know as soon as possible if you have changes as I need to send this to the conference people today.</td>\n",
       "    </tr>\n",
       "    <tr>\n",
       "      <td>2177</td>\n",
       "      <td>Sue: Please review ASAP after Jeff.</td>\n",
       "    </tr>\n",
       "    <tr>\n",
       "      <td>460</td>\n",
       "      <td>PLEASE FORWARD YOUR SHIRT SIZE TO ME S, M, L, XL, ETC. AS SOON AS POSSIBLE,</td>\n",
       "    </tr>\n",
       "    <tr>\n",
       "      <td>48</td>\n",
       "      <td>plz respond with comments asap.</td>\n",
       "    </tr>\n",
       "    <tr>\n",
       "      <td>2092</td>\n",
       "      <td>Seating will be limited, so please reserve your seat as soon as possible via E-Mail to jennifer.wilson@enron.com.</td>\n",
       "    </tr>\n",
       "    <tr>\n",
       "      <td>858</td>\n",
       "      <td>Please have your Book Admin notify me as soon as you get a chance to look at these.</td>\n",
       "    </tr>\n",
       "    <tr>\n",
       "      <td>2218</td>\n",
       "      <td>Please send the list of proposed Reference Entities as soon as possible.</td>\n",
       "    </tr>\n",
       "    <tr>\n",
       "      <td>1283</td>\n",
       "      <td>Pls send first thing.</td>\n",
       "    </tr>\n",
       "    <tr>\n",
       "      <td>1354</td>\n",
       "      <td>Please review the list and let me know ASAP if you know anyone on the list and would be willing to make calls.</td>\n",
       "    </tr>\n",
       "    <tr>\n",
       "      <td>952</td>\n",
       "      <td>Please offer that approval as quickly as posible, as John Lavoratto is eager to see this offered on EOL.</td>\n",
       "    </tr>\n",
       "    <tr>\n",
       "      <td>2005</td>\n",
       "      <td>PLEASE FORWARD TO THE PERSON IN CHARGE OF YOUR OUTAGE CO-ORDINATION</td>\n",
       "    </tr>\n",
       "    <tr>\n",
       "      <td>888</td>\n",
       "      <td>Can you please get a contact name and phone number for this counterparty from Mike Swerzbin as soon as possible?</td>\n",
       "    </tr>\n",
       "    <tr>\n",
       "      <td>745</td>\n",
       "      <td>PLEASE OPEN THE FOLLOWING ATTACHMENT AND SNED IN YOUR RESPONSE ASAP.</td>\n",
       "    </tr>\n",
       "    <tr>\n",
       "      <td>319</td>\n",
       "      <td>Would you please get the necessary information to Susan Wimberly so that we can get this straightened out in PEP and in the GCS as soon as possible?</td>\n",
       "    </tr>\n",
       "    <tr>\n",
       "      <td>268</td>\n",
       "      <td>Please review the attached and give me a call.</td>\n",
       "    </tr>\n",
       "  </tbody>\n",
       "</table>\n",
       "</div>"
      ],
      "text/plain": [
       "                                                                                                                                              TaskSentence\n",
       "2253  Could you sign off ASAP.                                                                                                                            \n",
       "816   The card will remain on the server for about two weeks, so please pick it up as soon as you can.                                                    \n",
       "2769  PLEASE READ THE ATTACHED FILE Ethical Wall Procedure AND PRINT AND SIGN THE EMPLOYEE CERTIFICATION below .                                          \n",
       "126   PLEASE REVIEW THE NOTICE AND DISCLAIMER BELOW                                                                                                       \n",
       "352   Please remove any items you have in the refrigerator immediately.                                                                                   \n",
       "2676  Please review and let me know as soon as possible if you have changes as I need to send this to the conference people today.                        \n",
       "2177  Sue: Please review ASAP after Jeff.                                                                                                                 \n",
       "460   PLEASE FORWARD YOUR SHIRT SIZE TO ME S, M, L, XL, ETC. AS SOON AS POSSIBLE,                                                                         \n",
       "48    plz respond with comments asap.                                                                                                                     \n",
       "2092  Seating will be limited, so please reserve your seat as soon as possible via E-Mail to jennifer.wilson@enron.com.                                   \n",
       "858   Please have your Book Admin notify me as soon as you get a chance to look at these.                                                                 \n",
       "2218  Please send the list of proposed Reference Entities as soon as possible.                                                                            \n",
       "1283  Pls send first thing.                                                                                                                               \n",
       "1354  Please review the list and let me know ASAP if you know anyone on the list and would be willing to make calls.                                      \n",
       "952   Please offer that approval as quickly as posible, as John Lavoratto is eager to see this offered on EOL.                                            \n",
       "2005  PLEASE FORWARD TO THE PERSON IN CHARGE OF YOUR OUTAGE CO-ORDINATION                                                                                 \n",
       "888   Can you please get a contact name and phone number for this counterparty from Mike Swerzbin as soon as possible?                                    \n",
       "745   PLEASE OPEN THE FOLLOWING ATTACHMENT AND SNED IN YOUR RESPONSE ASAP.                                                                                \n",
       "319   Would you please get the necessary information to Susan Wimberly so that we can get this straightened out in PEP and in the GCS as soon as possible?\n",
       "268   Please review the attached and give me a call.                                                                                                      "
      ]
     },
     "execution_count": 10,
     "metadata": {},
     "output_type": "execute_result"
    }
   ],
   "source": [
    "df[df['Urgent']==1][['TaskSentence']].sample(20)"
   ]
  },
  {
   "cell_type": "code",
   "execution_count": 11,
   "metadata": {},
   "outputs": [],
   "source": [
    "def clean(text):\n",
    "    return text.lower()"
   ]
  },
  {
   "cell_type": "code",
   "execution_count": 21,
   "metadata": {},
   "outputs": [],
   "source": [
    "is_na = df['Urgent'].isna()\n",
    "df = df[~is_na]\n",
    "df['Urgent'] = df['Urgent'].astype(int)"
   ]
  },
  {
   "cell_type": "code",
   "execution_count": 22,
   "metadata": {},
   "outputs": [],
   "source": [
    "np.random.seed(111)\n",
    "df = df.sample(frac=1)\n",
    "\n",
    "train_size = int(.8*df.shape[0])\n",
    "train_data = df[:train_size]\n",
    "test_data = df[train_size:]"
   ]
  },
  {
   "cell_type": "code",
   "execution_count": 42,
   "metadata": {},
   "outputs": [],
   "source": [
    "tfidf = TfidfVectorizer(lowercase=False)\n",
    "x_train = tfidf.fit_transform(train_data['TaskSentence'])\n",
    "x_test = tfidf.transform(test_data['TaskSentence'])"
   ]
  },
  {
   "cell_type": "code",
   "execution_count": 139,
   "metadata": {},
   "outputs": [],
   "source": [
    "y_train = train_data['Urgent']\n",
    "y_test = test_data['Urgent']"
   ]
  },
  {
   "cell_type": "code",
   "execution_count": 140,
   "metadata": {},
   "outputs": [
    {
     "data": {
      "text/plain": [
       "scipy.sparse.csr.csr_matrix"
      ]
     },
     "execution_count": 140,
     "metadata": {},
     "output_type": "execute_result"
    }
   ],
   "source": [
    "type(x_train)"
   ]
  },
  {
   "cell_type": "code",
   "execution_count": 141,
   "metadata": {},
   "outputs": [
    {
     "data": {
      "text/plain": [
       "array([[0., 0., 0., ..., 0., 0., 0.],\n",
       "       [0., 0., 0., ..., 0., 0., 0.],\n",
       "       [0., 0., 0., ..., 0., 0., 0.],\n",
       "       ...,\n",
       "       [0., 0., 0., ..., 0., 0., 0.],\n",
       "       [0., 0., 0., ..., 0., 0., 0.],\n",
       "       [0., 0., 0., ..., 0., 0., 0.]])"
      ]
     },
     "execution_count": 141,
     "metadata": {},
     "output_type": "execute_result"
    }
   ],
   "source": [
    "x_test.toarray()"
   ]
  },
  {
   "cell_type": "code",
   "execution_count": 142,
   "metadata": {},
   "outputs": [
    {
     "data": {
      "text/plain": [
       "(1916, 4347)"
      ]
     },
     "execution_count": 142,
     "metadata": {},
     "output_type": "execute_result"
    }
   ],
   "source": [
    "x_train.shape"
   ]
  },
  {
   "cell_type": "code",
   "execution_count": 143,
   "metadata": {},
   "outputs": [
    {
     "data": {
      "text/plain": [
       "(479,)"
      ]
     },
     "execution_count": 143,
     "metadata": {},
     "output_type": "execute_result"
    }
   ],
   "source": [
    "y_test.shape"
   ]
  },
  {
   "cell_type": "code",
   "execution_count": 144,
   "metadata": {},
   "outputs": [],
   "source": [
    "from sklearn.linear_model import LogisticRegression"
   ]
  },
  {
   "cell_type": "code",
   "execution_count": 145,
   "metadata": {},
   "outputs": [
    {
     "data": {
      "text/plain": [
       "LogisticRegression(C=1.0, class_weight={0: 0.05, 1: 0.95}, dual=False,\n",
       "                   fit_intercept=True, intercept_scaling=1, l1_ratio=None,\n",
       "                   max_iter=100, multi_class='warn', n_jobs=None, penalty='l2',\n",
       "                   random_state=None, solver='warn', tol=0.0001, verbose=0,\n",
       "                   warm_start=False)"
      ]
     },
     "execution_count": 145,
     "metadata": {},
     "output_type": "execute_result"
    }
   ],
   "source": [
    "lr = LogisticRegression(class_weight={0: 0.05, 1: 0.95})\n",
    "lr.fit(X=x_train.toarray(), y=y_train)"
   ]
  },
  {
   "cell_type": "code",
   "execution_count": 146,
   "metadata": {},
   "outputs": [],
   "source": [
    "y_pred = lr.predict(X=x_test.toarray())"
   ]
  },
  {
   "cell_type": "code",
   "execution_count": 147,
   "metadata": {},
   "outputs": [],
   "source": [
    "from sklearn.metrics import classification_report"
   ]
  },
  {
   "cell_type": "code",
   "execution_count": 148,
   "metadata": {},
   "outputs": [],
   "source": [
    "report = classification_report(y_test, y_pred, output_dict=True)"
   ]
  },
  {
   "cell_type": "code",
   "execution_count": 149,
   "metadata": {},
   "outputs": [
    {
     "data": {
      "text/plain": [
       "{'0': {'precision': 0.9847161572052402,\n",
       "  'recall': 1.0,\n",
       "  'f1-score': 0.9922992299229924,\n",
       "  'support': 451},\n",
       " '1': {'precision': 1.0,\n",
       "  'recall': 0.75,\n",
       "  'f1-score': 0.8571428571428571,\n",
       "  'support': 28},\n",
       " 'accuracy': 0.9853862212943633,\n",
       " 'macro avg': {'precision': 0.99235807860262,\n",
       "  'recall': 0.875,\n",
       "  'f1-score': 0.9247210435329247,\n",
       "  'support': 479},\n",
       " 'weighted avg': {'precision': 0.9856095759907376,\n",
       "  'recall': 0.9853862212943633,\n",
       "  'f1-score': 0.9843986486331305,\n",
       "  'support': 479}}"
      ]
     },
     "execution_count": 149,
     "metadata": {},
     "output_type": "execute_result"
    }
   ],
   "source": [
    "report"
   ]
  },
  {
   "cell_type": "code",
   "execution_count": 150,
   "metadata": {},
   "outputs": [],
   "source": [
    "err = (y_pred != y_test)\n",
    "correct = y_pred == y_test\n",
    "pos = y_test == 1"
   ]
  },
  {
   "cell_type": "code",
   "execution_count": 151,
   "metadata": {},
   "outputs": [
    {
     "data": {
      "text/html": [
       "<div>\n",
       "<style scoped>\n",
       "    .dataframe tbody tr th:only-of-type {\n",
       "        vertical-align: middle;\n",
       "    }\n",
       "\n",
       "    .dataframe tbody tr th {\n",
       "        vertical-align: top;\n",
       "    }\n",
       "\n",
       "    .dataframe thead th {\n",
       "        text-align: right;\n",
       "    }\n",
       "</style>\n",
       "<table border=\"1\" class=\"dataframe\">\n",
       "  <thead>\n",
       "    <tr style=\"text-align: right;\">\n",
       "      <th></th>\n",
       "      <th>TaskSentence</th>\n",
       "    </tr>\n",
       "  </thead>\n",
       "  <tbody>\n",
       "    <tr>\n",
       "      <td>1737</td>\n",
       "      <td>Please give me your comments ASAP.</td>\n",
       "    </tr>\n",
       "    <tr>\n",
       "      <td>632</td>\n",
       "      <td>etc. , please respond to this e-mail ASAP.</td>\n",
       "    </tr>\n",
       "    <tr>\n",
       "      <td>2581</td>\n",
       "      <td>It is currently in Stage, and as soon as you both get a chance to test it, and give it your ok, I can get it moved to production.</td>\n",
       "    </tr>\n",
       "    <tr>\n",
       "      <td>991</td>\n",
       "      <td>Please respond with a deal number, or further suggestions for resolution so that I can clear this up as soon as possible.</td>\n",
       "    </tr>\n",
       "    <tr>\n",
       "      <td>2616</td>\n",
       "      <td>Please review attached letter to customers ASAP.</td>\n",
       "    </tr>\n",
       "    <tr>\n",
       "      <td>266</td>\n",
       "      <td>PLEASE CONFIRM THIS .</td>\n",
       "    </tr>\n",
       "    <tr>\n",
       "      <td>1093</td>\n",
       "      <td>Please send as soon as possible.</td>\n",
       "    </tr>\n",
       "    <tr>\n",
       "      <td>2582</td>\n",
       "      <td>Please login to iPayit and resolve this invoice as soon as possible.</td>\n",
       "    </tr>\n",
       "    <tr>\n",
       "      <td>1001</td>\n",
       "      <td>Please contact us as soon as possible with any further comments and to coordinate execution.</td>\n",
       "    </tr>\n",
       "    <tr>\n",
       "      <td>1895</td>\n",
       "      <td>Please forward this information to me as soon as possible.</td>\n",
       "    </tr>\n",
       "    <tr>\n",
       "      <td>830</td>\n",
       "      <td>Please review and return your comments to me as soon as possible.</td>\n",
       "    </tr>\n",
       "    <tr>\n",
       "      <td>2506</td>\n",
       "      <td>Kay, can you please try to organize ASAP.</td>\n",
       "    </tr>\n",
       "    <tr>\n",
       "      <td>1141</td>\n",
       "      <td>Please review your individual quotes and let me know if you have any revisions as soon as possible.</td>\n",
       "    </tr>\n",
       "    <tr>\n",
       "      <td>966</td>\n",
       "      <td>Please review for correctness/completeness and reply to John Dazey ... ASAP!</td>\n",
       "    </tr>\n",
       "    <tr>\n",
       "      <td>1137</td>\n",
       "      <td>Please take a few minutes to update the information and return by email as soon as possible.</td>\n",
       "    </tr>\n",
       "    <tr>\n",
       "      <td>103</td>\n",
       "      <td>Could you please respond as soon as possible to this email or directly to Bonnie White if you know of any reason why ENA should not go forward with filing this suit.</td>\n",
       "    </tr>\n",
       "    <tr>\n",
       "      <td>1894</td>\n",
       "      <td>Please process this request ASAP.</td>\n",
       "    </tr>\n",
       "    <tr>\n",
       "      <td>1006</td>\n",
       "      <td>Also, please get me your one-page background statement as soon as possible.</td>\n",
       "    </tr>\n",
       "    <tr>\n",
       "      <td>2092</td>\n",
       "      <td>Seating will be limited, so please reserve your seat as soon as possible via E-Mail to jennifer.wilson@enron.com.</td>\n",
       "    </tr>\n",
       "    <tr>\n",
       "      <td>2568</td>\n",
       "      <td>If so please could could email them to me as soon as possible.</td>\n",
       "    </tr>\n",
       "    <tr>\n",
       "      <td>126</td>\n",
       "      <td>PLEASE REVIEW THE NOTICE AND DISCLAIMER BELOW</td>\n",
       "    </tr>\n",
       "  </tbody>\n",
       "</table>\n",
       "</div>"
      ],
      "text/plain": [
       "                                                                                                                                                               TaskSentence\n",
       "1737  Please give me your comments ASAP.                                                                                                                                   \n",
       "632   etc. , please respond to this e-mail ASAP.                                                                                                                           \n",
       "2581  It is currently in Stage, and as soon as you both get a chance to test it, and give it your ok, I can get it moved to production.                                    \n",
       "991   Please respond with a deal number, or further suggestions for resolution so that I can clear this up as soon as possible.                                            \n",
       "2616  Please review attached letter to customers ASAP.                                                                                                                     \n",
       "266   PLEASE CONFIRM THIS .                                                                                                                                                \n",
       "1093  Please send as soon as possible.                                                                                                                                     \n",
       "2582  Please login to iPayit and resolve this invoice as soon as possible.                                                                                                 \n",
       "1001  Please contact us as soon as possible with any further comments and to coordinate execution.                                                                         \n",
       "1895  Please forward this information to me as soon as possible.                                                                                                           \n",
       "830   Please review and return your comments to me as soon as possible.                                                                                                    \n",
       "2506  Kay, can you please try to organize ASAP.                                                                                                                            \n",
       "1141  Please review your individual quotes and let me know if you have any revisions as soon as possible.                                                                  \n",
       "966   Please review for correctness/completeness and reply to John Dazey ... ASAP!                                                                                         \n",
       "1137  Please take a few minutes to update the information and return by email as soon as possible.                                                                         \n",
       "103   Could you please respond as soon as possible to this email or directly to Bonnie White if you know of any reason why ENA should not go forward with filing this suit.\n",
       "1894  Please process this request ASAP.                                                                                                                                    \n",
       "1006  Also, please get me your one-page background statement as soon as possible.                                                                                          \n",
       "2092  Seating will be limited, so please reserve your seat as soon as possible via E-Mail to jennifer.wilson@enron.com.                                                    \n",
       "2568  If so please could could email them to me as soon as possible.                                                                                                       \n",
       "126   PLEASE REVIEW THE NOTICE AND DISCLAIMER BELOW                                                                                                                        "
      ]
     },
     "execution_count": 151,
     "metadata": {},
     "output_type": "execute_result"
    }
   ],
   "source": [
    "# True Positives\n",
    "test_data[['TaskSentence']][correct & y_test]"
   ]
  },
  {
   "cell_type": "code",
   "execution_count": 152,
   "metadata": {},
   "outputs": [
    {
     "data": {
      "text/html": [
       "<div>\n",
       "<style scoped>\n",
       "    .dataframe tbody tr th:only-of-type {\n",
       "        vertical-align: middle;\n",
       "    }\n",
       "\n",
       "    .dataframe tbody tr th {\n",
       "        vertical-align: top;\n",
       "    }\n",
       "\n",
       "    .dataframe thead th {\n",
       "        text-align: right;\n",
       "    }\n",
       "</style>\n",
       "<table border=\"1\" class=\"dataframe\">\n",
       "  <thead>\n",
       "    <tr style=\"text-align: right;\">\n",
       "      <th></th>\n",
       "      <th>TaskSentence</th>\n",
       "    </tr>\n",
       "  </thead>\n",
       "  <tbody>\n",
       "    <tr>\n",
       "      <td>566</td>\n",
       "      <td>Stephanie - As discussed, please shut down all Duke entities immediately for all CAISO products on EOL.</td>\n",
       "    </tr>\n",
       "    <tr>\n",
       "      <td>2425</td>\n",
       "      <td>Would you please check into this and make sure they post it ASAP, especially since our time frame is quite tight.</td>\n",
       "    </tr>\n",
       "    <tr>\n",
       "      <td>48</td>\n",
       "      <td>plz respond with comments asap.</td>\n",
       "    </tr>\n",
       "    <tr>\n",
       "      <td>730</td>\n",
       "      <td>If you have received it in error, please notify the sender immediately and delete the original.</td>\n",
       "    </tr>\n",
       "    <tr>\n",
       "      <td>2692</td>\n",
       "      <td>If you have any questions or are not certain of the status of a transaction, please contact us immediately on:</td>\n",
       "    </tr>\n",
       "    <tr>\n",
       "      <td>1283</td>\n",
       "      <td>Pls send first thing.</td>\n",
       "    </tr>\n",
       "    <tr>\n",
       "      <td>1190</td>\n",
       "      <td>Can we please get a list of the attorneys in your groups that work on EGM cases by the end of today?</td>\n",
       "    </tr>\n",
       "  </tbody>\n",
       "</table>\n",
       "</div>"
      ],
      "text/plain": [
       "                                                                                                           TaskSentence\n",
       "566   Stephanie - As discussed, please shut down all Duke entities immediately for all CAISO products on EOL.          \n",
       "2425  Would you please check into this and make sure they post it ASAP, especially since our time frame is quite tight.\n",
       "48    plz respond with comments asap.                                                                                  \n",
       "730   If you have received it in error, please notify the sender immediately and delete the original.                  \n",
       "2692  If you have any questions or are not certain of the status of a transaction, please contact us immediately on:   \n",
       "1283  Pls send first thing.                                                                                            \n",
       "1190  Can we please get a list of the attorneys in your groups that work on EGM cases by the end of today?             "
      ]
     },
     "execution_count": 152,
     "metadata": {},
     "output_type": "execute_result"
    }
   ],
   "source": [
    "# False Negatives\n",
    "test_data[['TaskSentence']][err & y_test]"
   ]
  },
  {
   "cell_type": "code",
   "execution_count": 153,
   "metadata": {},
   "outputs": [
    {
     "data": {
      "text/html": [
       "<div>\n",
       "<style scoped>\n",
       "    .dataframe tbody tr th:only-of-type {\n",
       "        vertical-align: middle;\n",
       "    }\n",
       "\n",
       "    .dataframe tbody tr th {\n",
       "        vertical-align: top;\n",
       "    }\n",
       "\n",
       "    .dataframe thead th {\n",
       "        text-align: right;\n",
       "    }\n",
       "</style>\n",
       "<table border=\"1\" class=\"dataframe\">\n",
       "  <thead>\n",
       "    <tr style=\"text-align: right;\">\n",
       "      <th></th>\n",
       "      <th>TaskSentence</th>\n",
       "    </tr>\n",
       "  </thead>\n",
       "  <tbody>\n",
       "  </tbody>\n",
       "</table>\n",
       "</div>"
      ],
      "text/plain": [
       "Empty DataFrame\n",
       "Columns: [TaskSentence]\n",
       "Index: []"
      ]
     },
     "execution_count": 153,
     "metadata": {},
     "output_type": "execute_result"
    }
   ],
   "source": [
    "# False Positives\n",
    "test_data[['TaskSentence']][err & ~y_test]"
   ]
  },
  {
   "cell_type": "code",
   "execution_count": 136,
   "metadata": {},
   "outputs": [],
   "source": [
    "for i in [2581, 991, 2568]:\n",
    "    test_data['Urgent'][i] = 1"
   ]
  },
  {
   "cell_type": "code",
   "execution_count": 137,
   "metadata": {},
   "outputs": [],
   "source": [
    "test_data['Urgent'][2581] = 1"
   ]
  },
  {
   "cell_type": "code",
   "execution_count": 138,
   "metadata": {},
   "outputs": [
    {
     "data": {
      "text/plain": [
       "#                     4697                                                                                                                                                                                                                                                                                                                                                                                 \n",
       "Task                  Stage, and as soon as you both get a chance to test it, and give it your ok,                                                                                                                                                                                                                                                                                                         \n",
       "Context               Hi Kate, Cara,. I'm the new Enpower QA here in Houston, replacing Nadine who has moved on to another project.. There was a bug found in the Fwd Obl report, concerning the desk choice disappearing after the report has been ran.. Corry Bentley here in Houston has looked at the fix and I would like for you two to have a chance to view it also before moving it to production.\n",
       "TaskSentence          It is currently in Stage, and as soon as you both get a chance to test it, and give it your ok, I can get it moved to production.                                                                                                                                                                                                                                                    \n",
       "Summary               test it and approve                                                                                                                                                                                                                                                                                                                                                                  \n",
       "Labeler               Sophie                                                                                                                                                                                                                                                                                                                                                                               \n",
       "NoRequestInContext    NaN                                                                                                                                                                                                                                                                                                                                                                                  \n",
       "Urgent                1                                                                                                                                                                                                                                                                                                                                                                                    \n",
       "NotRequest            NaN                                                                                                                                                                                                                                                                                                                                                                                  \n",
       "Unsure/Discuss        NaN                                                                                                                                                                                                                                                                                                                                                                                  \n",
       "RandomNumber          0.945768                                                                                                                                                                                                                                                                                                                                                                             \n",
       "Name: 2581, dtype: object"
      ]
     },
     "execution_count": 138,
     "metadata": {},
     "output_type": "execute_result"
    }
   ],
   "source": [
    "test_data.loc[2581]"
   ]
  },
  {
   "cell_type": "code",
   "execution_count": null,
   "metadata": {},
   "outputs": [],
   "source": []
  }
 ],
 "metadata": {
  "kernelspec": {
   "display_name": "Python 3",
   "language": "python",
   "name": "python3"
  },
  "language_info": {
   "codemirror_mode": {
    "name": "ipython",
    "version": 3
   },
   "file_extension": ".py",
   "mimetype": "text/x-python",
   "name": "python",
   "nbconvert_exporter": "python",
   "pygments_lexer": "ipython3",
   "version": "3.7.4"
  }
 },
 "nbformat": 4,
 "nbformat_minor": 2
}
