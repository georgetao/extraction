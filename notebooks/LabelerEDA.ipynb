{
 "cells": [
  {
   "cell_type": "markdown",
   "metadata": {},
   "source": [
    "# EDA of Summarization Data\n",
    "### June 19th 2020"
   ]
  },
  {
   "cell_type": "code",
   "execution_count": 4,
   "metadata": {},
   "outputs": [],
   "source": [
    "# Outside imports\n",
    "import os\n",
    "import importlib\n",
    "import warnings\n",
    "warnings.filterwarnings('ignore')\n",
    "\n",
    "import numpy as np\n",
    "import pandas as pd\n",
    "import matplotlib.pyplot as plt\n",
    "from sklearn.model_selection import train_test_split\n",
    "\n",
    "from keras.preprocessing.text import Tokenizer\n",
    "from keras.preprocessing.sequence import pad_sequences"
   ]
  },
  {
   "cell_type": "code",
   "execution_count": 2,
   "metadata": {},
   "outputs": [],
   "source": [
    "# load real data\n",
    "data_path = '/Users/rowancassius/Desktop/capstone/data/context_task_data_fresh.tsv'\n",
    "dat = pd.read_csv(data_path, sep='\\t')\n",
    "\n",
    "# fill nas\n",
    "dat.fillna('', inplace=True)\n",
    "\n"
   ]
  },
  {
   "cell_type": "code",
   "execution_count": 12,
   "metadata": {},
   "outputs": [
    {
     "data": {
      "text/plain": [
       "Rowan      509\n",
       "Natalie    499\n",
       "George     339\n",
       "Percy      100\n",
       "Name: Labeler, dtype: int64"
      ]
     },
     "execution_count": 12,
     "metadata": {},
     "output_type": "execute_result"
    }
   ],
   "source": [
    "# value counts\n",
    "dat.Labeler.value_counts()"
   ]
  },
  {
   "cell_type": "code",
   "execution_count": 48,
   "metadata": {},
   "outputs": [],
   "source": [
    "# data\n",
    "dat['SumWC'] = dat.Summary.apply(lambda s: len(s.split()))\n",
    "dat['TaskWC'] = dat.TaskSentence.apply(lambda s: len(s.split()))"
   ]
  },
  {
   "cell_type": "code",
   "execution_count": 63,
   "metadata": {},
   "outputs": [
    {
     "data": {
      "text/html": [
       "<div>\n",
       "<style scoped>\n",
       "    .dataframe tbody tr th:only-of-type {\n",
       "        vertical-align: middle;\n",
       "    }\n",
       "\n",
       "    .dataframe tbody tr th {\n",
       "        vertical-align: top;\n",
       "    }\n",
       "\n",
       "    .dataframe thead th {\n",
       "        text-align: right;\n",
       "    }\n",
       "</style>\n",
       "<table border=\"1\" class=\"dataframe\">\n",
       "  <thead>\n",
       "    <tr style=\"text-align: right;\">\n",
       "      <th></th>\n",
       "      <th>Context</th>\n",
       "      <th>TaskSentence</th>\n",
       "      <th>TaskWC</th>\n",
       "      <th>Summary</th>\n",
       "      <th>SumWC</th>\n",
       "      <th>Labeler</th>\n",
       "    </tr>\n",
       "  </thead>\n",
       "  <tbody>\n",
       "    <tr>\n",
       "      <td>929</td>\n",
       "      <td></td>\n",
       "      <td>Can we please send an Amendment letter to Forcenergy Inc. increasing the collateral threshold in the recently signed Master Swap agreement to 7.5MM?</td>\n",
       "      <td>23</td>\n",
       "      <td>Send Ammendment letter to Forcenergy Inc.</td>\n",
       "      <td>6</td>\n",
       "      <td>George</td>\n",
       "    </tr>\n",
       "    <tr>\n",
       "      <td>376</td>\n",
       "      <td>I got a copy of 2000 Definitions Annex via distribution today.. However, I did not know of nor do I have the 2000 Definitions, which apparently restated/conformed the 1991/1998 basic ISDA definitions.. Our Master still refs 1991, as amended etc., so it probably does pick up the 2000 issuance by ISDA.. Do you have the 2000?. Do we need to order?. Should we consider revising the master agreement in respect of the definition incorporation language?</td>\n",
       "      <td>Give me a call.</td>\n",
       "      <td>4</td>\n",
       "      <td>Call SENDER</td>\n",
       "      <td>2</td>\n",
       "      <td>Rowan</td>\n",
       "    </tr>\n",
       "    <tr>\n",
       "      <td>1176</td>\n",
       "      <td>Heather,. Attached is an Excel file containg deals with Dow over the last three years.</td>\n",
       "      <td>Please call me with any questions ypu may have.</td>\n",
       "      <td>9</td>\n",
       "      <td>Call SENDER with questions about deals with Dow</td>\n",
       "      <td>8</td>\n",
       "      <td>Natalie</td>\n",
       "    </tr>\n",
       "    <tr>\n",
       "      <td>739</td>\n",
       "      <td>Shirley,</td>\n",
       "      <td>Please, register me.</td>\n",
       "      <td>3</td>\n",
       "      <td>Register me.</td>\n",
       "      <td>2</td>\n",
       "      <td>George</td>\n",
       "    </tr>\n",
       "    <tr>\n",
       "      <td>1154</td>\n",
       "      <td></td>\n",
       "      <td>Please respond to dchang@aer.com</td>\n",
       "      <td>4</td>\n",
       "      <td>Respond to dchange@aer.com</td>\n",
       "      <td>3</td>\n",
       "      <td>Natalie</td>\n",
       "    </tr>\n",
       "    <tr>\n",
       "      <td>944</td>\n",
       "      <td>Shirley,</td>\n",
       "      <td>Please, coordinate this interview.</td>\n",
       "      <td>4</td>\n",
       "      <td>Coordinate interview.</td>\n",
       "      <td>2</td>\n",
       "      <td>George</td>\n",
       "    </tr>\n",
       "    <tr>\n",
       "      <td>964</td>\n",
       "      <td>And Enron made an astronomical profit during the California energy crisis last year.. As a result, there are thousands of consumers who are unable to pay their basic energy bills and the largest utility in the state is bankrupt.. The New York Times reported that you sold 101 million worth of Enron stock while aggressively urging the company's employees to keep buying it.</td>\n",
       "      <td>Please donate this money to the funds set up to help repair the lives of those Americans hurt by Enron's underhanded dealings.</td>\n",
       "      <td>22</td>\n",
       "      <td>Donate money to funds to help repair the lives of those Americans hurt by Enron's dealings</td>\n",
       "      <td>16</td>\n",
       "      <td>Natalie</td>\n",
       "    </tr>\n",
       "    <tr>\n",
       "      <td>615</td>\n",
       "      <td>Why am I receiving copies of everyones responses to this group.. I would like to receive information but do not want to be copied on requests for removal or additions.</td>\n",
       "      <td>Please try to correct this problem.</td>\n",
       "      <td>6</td>\n",
       "      <td>Correct problem: \"Why is SENDER receiving copies of everyones responses to this group\".</td>\n",
       "      <td>13</td>\n",
       "      <td>George</td>\n",
       "    </tr>\n",
       "    <tr>\n",
       "      <td>1131</td>\n",
       "      <td>Ron: It looks like Jane has not received these questions.. Let me know where they are in terms of being answered.. Thanks!. Ben. This message and any attachments are intended for the individual or entity named above.</td>\n",
       "      <td>Let me know where they are in terms of being answered</td>\n",
       "      <td>11</td>\n",
       "      <td>Respond to SENDER about questions</td>\n",
       "      <td>5</td>\n",
       "      <td>Natalie</td>\n",
       "    </tr>\n",
       "    <tr>\n",
       "      <td>510</td>\n",
       "      <td>The attached worksheet contains a preliminary list of potential customers for the Bandwidth launch on EnronOnline.. This list is currently a work in progress, but I wanted to get it into your hands ASAP.</td>\n",
       "      <td>Please begin the process of reviewing this list as well as the complete EnronOnline counterparty list for Bandwidth trading.</td>\n",
       "      <td>19</td>\n",
       "      <td>Review preliminary list of potential customers as well as the complete EnronOnline counterparty list for Bandwidth trading</td>\n",
       "      <td>17</td>\n",
       "      <td>Percy</td>\n",
       "    </tr>\n",
       "  </tbody>\n",
       "</table>\n",
       "</div>"
      ],
      "text/plain": [
       "                                                                                                                                                                                                                                                                                                                                                                                                                                                                Context  \\\n",
       "929                                                                                                                                                                                                                                                                                                                                                                                                                                                                       \n",
       "376   I got a copy of 2000 Definitions Annex via distribution today.. However, I did not know of nor do I have the 2000 Definitions, which apparently restated/conformed the 1991/1998 basic ISDA definitions.. Our Master still refs 1991, as amended etc., so it probably does pick up the 2000 issuance by ISDA.. Do you have the 2000?. Do we need to order?. Should we consider revising the master agreement in respect of the definition incorporation language?   \n",
       "1176  Heather,. Attached is an Excel file containg deals with Dow over the last three years.                                                                                                                                                                                                                                                                                                                                                                              \n",
       "739   Shirley,                                                                                                                                                                                                                                                                                                                                                                                                                                                            \n",
       "1154                                                                                                                                                                                                                                                                                                                                                                                                                                                                      \n",
       "944   Shirley,                                                                                                                                                                                                                                                                                                                                                                                                                                                            \n",
       "964   And Enron made an astronomical profit during the California energy crisis last year.. As a result, there are thousands of consumers who are unable to pay their basic energy bills and the largest utility in the state is bankrupt.. The New York Times reported that you sold 101 million worth of Enron stock while aggressively urging the company's employees to keep buying it.                                                                               \n",
       "615   Why am I receiving copies of everyones responses to this group.. I would like to receive information but do not want to be copied on requests for removal or additions.                                                                                                                                                                                                                                                                                             \n",
       "1131  Ron: It looks like Jane has not received these questions.. Let me know where they are in terms of being answered.. Thanks!. Ben. This message and any attachments are intended for the individual or entity named above.                                                                                                                                                                                                                                            \n",
       "510   The attached worksheet contains a preliminary list of potential customers for the Bandwidth launch on EnronOnline.. This list is currently a work in progress, but I wanted to get it into your hands ASAP.                                                                                                                                                                                                                                                         \n",
       "\n",
       "                                                                                                                                              TaskSentence  \\\n",
       "929   Can we please send an Amendment letter to Forcenergy Inc. increasing the collateral threshold in the recently signed Master Swap agreement to 7.5MM?   \n",
       "376   Give me a call.                                                                                                                                        \n",
       "1176  Please call me with any questions ypu may have.                                                                                                        \n",
       "739   Please, register me.                                                                                                                                   \n",
       "1154  Please respond to dchang@aer.com                                                                                                                       \n",
       "944   Please, coordinate this interview.                                                                                                                     \n",
       "964   Please donate this money to the funds set up to help repair the lives of those Americans hurt by Enron's underhanded dealings.                         \n",
       "615   Please try to correct this problem.                                                                                                                    \n",
       "1131  Let me know where they are in terms of being answered                                                                                                  \n",
       "510   Please begin the process of reviewing this list as well as the complete EnronOnline counterparty list for Bandwidth trading.                           \n",
       "\n",
       "      TaskWC  \\\n",
       "929   23       \n",
       "376   4        \n",
       "1176  9        \n",
       "739   3        \n",
       "1154  4        \n",
       "944   4        \n",
       "964   22       \n",
       "615   6        \n",
       "1131  11       \n",
       "510   19       \n",
       "\n",
       "                                                                                                                         Summary  \\\n",
       "929   Send Ammendment letter to Forcenergy Inc.                                                                                    \n",
       "376   Call SENDER                                                                                                                  \n",
       "1176  Call SENDER with questions about deals with Dow                                                                              \n",
       "739   Register me.                                                                                                                 \n",
       "1154  Respond to dchange@aer.com                                                                                                   \n",
       "944   Coordinate interview.                                                                                                        \n",
       "964   Donate money to funds to help repair the lives of those Americans hurt by Enron's dealings                                   \n",
       "615   Correct problem: \"Why is SENDER receiving copies of everyones responses to this group\".                                      \n",
       "1131  Respond to SENDER about questions                                                                                            \n",
       "510   Review preliminary list of potential customers as well as the complete EnronOnline counterparty list for Bandwidth trading   \n",
       "\n",
       "      SumWC  Labeler  \n",
       "929   6      George   \n",
       "376   2      Rowan    \n",
       "1176  8      Natalie  \n",
       "739   2      George   \n",
       "1154  3      Natalie  \n",
       "944   2      George   \n",
       "964   16     Natalie  \n",
       "615   13     George   \n",
       "1131  5      Natalie  \n",
       "510   17     Percy    "
      ]
     },
     "execution_count": 63,
     "metadata": {},
     "output_type": "execute_result"
    }
   ],
   "source": [
    "pd.set_option('display.max_colwidth', -1)\n",
    "cols = ['Context', 'TaskSentence', 'TaskWC', 'Summary', 'SumWC', 'Labeler']\n",
    "dat[cols].sample(10)"
   ]
  },
  {
   "cell_type": "code",
   "execution_count": 59,
   "metadata": {},
   "outputs": [
    {
     "data": {
      "text/plain": [
       "75"
      ]
     },
     "execution_count": 59,
     "metadata": {},
     "output_type": "execute_result"
    }
   ],
   "source": [
    "len(\"You bought 80 shares of BRCD Brocade Communications Sys I Com at 245 13/16.. ORDER DETAILS: The tracking number for this order is: B-300-AAYM-8378 Order entered at: 14:36:12 on 11/02/00 Order processing began at: 14:36:12 Order executed at: 14:36:13 on 11/02/00. You will receive a printed Datek Online confirmation by postal mail, or by electronic delivery if you are subscribed to that service.. Questions regarding this transaction?. Contact our Customer Support department by e-mailing support@datek.com.\".split())"
   ]
  },
  {
   "cell_type": "code",
   "execution_count": 62,
   "metadata": {},
   "outputs": [
    {
     "data": {
      "text/plain": [
       "Labeler\n",
       "George     14.123894\n",
       "Natalie    14.456914\n",
       "Percy      12.310000\n",
       "Rowan      13.603143\n",
       "Name: TaskWC, dtype: float64"
      ]
     },
     "execution_count": 62,
     "metadata": {},
     "output_type": "execute_result"
    }
   ],
   "source": [
    "dat.groupby('Labeler').TaskWC.mean()"
   ]
  },
  {
   "cell_type": "code",
   "execution_count": 50,
   "metadata": {},
   "outputs": [
    {
     "data": {
      "text/plain": [
       "Labeler\n",
       "George     5.539823\n",
       "Natalie    7.332665\n",
       "Percy      5.740000\n",
       "Rowan      5.025540\n",
       "Name: SumWC, dtype: float64"
      ]
     },
     "execution_count": 50,
     "metadata": {},
     "output_type": "execute_result"
    }
   ],
   "source": [
    "dat.groupby('Labeler').SumWC.mean()"
   ]
  },
  {
   "cell_type": "code",
   "execution_count": 51,
   "metadata": {},
   "outputs": [
    {
     "data": {
      "image/png": "[encoded data removed]",
      "text/plain": [
       "<Figure size 576x576 with 1 Axes>"
      ]
     },
     "metadata": {
      "needs_background": "light"
     },
     "output_type": "display_data"
    }
   ],
   "source": [
    "dat[['SumWC', 'Labeler']].hist(figsize = (8,8), sharex = True, alpha = 0.7)\n",
    "plt.show()"
   ]
  },
  {
   "cell_type": "markdown",
   "metadata": {},
   "source": [
    "## Examine Summaries with WordCount > 15"
   ]
  },
  {
   "cell_type": "code",
   "execution_count": 52,
   "metadata": {},
   "outputs": [
    {
     "data": {
      "image/png": "[encoded data removed]",
      "text/plain": [
       "<Figure size 720x720 with 4 Axes>"
      ]
     },
     "metadata": {
      "needs_background": "light"
     },
     "output_type": "display_data"
    }
   ],
   "source": [
    "dat[['SumWC', 'Labeler']].hist(by = 'Labeler', figsize = (10,10), sharex = True, alpha = 0.7)\n",
    "plt.show()"
   ]
  },
  {
   "cell_type": "code",
   "execution_count": 54,
   "metadata": {},
   "outputs": [
    {
     "data": {
      "image/png": "[encoded data removed]",
      "text/plain": [
       "<Figure size 576x576 with 1 Axes>"
      ]
     },
     "metadata": {
      "needs_background": "light"
     },
     "output_type": "display_data"
    }
   ],
   "source": [
    "dat[['SumWC', 'Labeler']].boxplot(by = 'Labeler', figsize = (8,8))\n",
    "plt.show()"
   ]
  },
  {
   "cell_type": "markdown",
   "metadata": {},
   "source": [
    "### Checking Task Sentence Word Count"
   ]
  },
  {
   "cell_type": "code",
   "execution_count": 56,
   "metadata": {},
   "outputs": [
    {
     "data": {
      "image/png": "[encoded data removed]",
      "text/plain": [
       "<Figure size 720x720 with 4 Axes>"
      ]
     },
     "metadata": {
      "needs_background": "light"
     },
     "output_type": "display_data"
    }
   ],
   "source": [
    "dat[['TaskWC', 'Labeler']].hist(by = 'Labeler', figsize = (10,10), sharex = True, alpha = 0.7)\n",
    "plt.show()"
   ]
  },
  {
   "cell_type": "code",
   "execution_count": 58,
   "metadata": {},
   "outputs": [
    {
     "data": {
      "image/png": "[encoded data removed]",
      "text/plain": [
       "<Figure size 576x576 with 1 Axes>"
      ]
     },
     "metadata": {
      "needs_background": "light"
     },
     "output_type": "display_data"
    }
   ],
   "source": [
    "dat[['TaskWC', 'Labeler']].boxplot(by = 'Labeler', figsize = (8,8))\n",
    "plt.show()"
   ]
  },
  {
   "cell_type": "code",
   "execution_count": null,
   "metadata": {},
   "outputs": [],
   "source": []
  }
 ],
 "metadata": {
  "kernelspec": {
   "display_name": "Python 3",
   "language": "python",
   "name": "python3"
  },
  "language_info": {
   "codemirror_mode": {
    "name": "ipython",
    "version": 3
   },
   "file_extension": ".py",
   "mimetype": "text/x-python",
   "name": "python",
   "nbconvert_exporter": "python",
   "pygments_lexer": "ipython3",
   "version": "3.7.4"
  }
 },
 "nbformat": 4,
 "nbformat_minor": 2
}
