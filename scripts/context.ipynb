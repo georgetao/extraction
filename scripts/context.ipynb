{
 "cells": [
  {
   "cell_type": "markdown",
   "metadata": {},
   "source": [
    "Cleaning Script"
   ]
  },
  {
   "cell_type": "code",
   "execution_count": 73,
   "metadata": {},
   "outputs": [
    {
     "name": "stdout",
     "output_type": "stream",
     "text": [
      "Overwriting preprocess.py\n"
     ]
    }
   ],
   "source": [
    "%%writefile preprocess.py\n",
    "#!/usr/bin/python\n",
    "\n",
    "# imports\n",
    "import re\n",
    "import numpy as np\n",
    "from nltk.tokenize import sent_tokenize\n",
    "\n",
    "# Regexes\n",
    "HTML = r'</?\\w+/?>|>|<'\n",
    "BR = r'</?br/?>'\n",
    "BRBR = BR+BR\n",
    "MARK = r'</?mark/?>|>|<'\n",
    "WHITE = r'\\s+'\n",
    "HYPHENS = r'---+'\n",
    "YW = \"you wrote:\"\n",
    "\n",
    "EMAIL_TIME = \"[0-9]?[0-9]:[0-9][0-9]\\s[AP]M\"\n",
    "EA = r\"\\b[A-Za-z0-9._%+-]+@[A-Za-z0-9.-]+\\.[A-Za-z]{2,}\\b\"\n",
    "PH = r\"(\\d{0,2}[\\s\\.-]{0,3}\\(?\\d{0,3}\\)?[\\s\\.-]{0,3}\\d{3}[\\s\\.-]{0,3}\\d{4})\"\n",
    "BLACK = \"[^A-Za-z0-9\\s\\?!,\\.;:/-]+\"\n",
    "\n",
    "\n",
    "# Strings\n",
    "BREAK = 'BREAK'\n",
    "FORWARD = 'Forwarded by'\n",
    "SPACE = ' '\n",
    "EMAIL = ' EMAILADDRESS '\n",
    "PHONE = ' PHONE '\n",
    "\n",
    "# components\n",
    "email_components = [\n",
    "    'Date:',\n",
    "    'From:',\n",
    "    'To:',\n",
    "    'Subject:',\n",
    "    'Re:',\n",
    "    'Mime-Version:',\n",
    "    'Content-Type:',\n",
    "    'Content-Transfer-Encoding:',\n",
    "    '-From:',\n",
    "    '-To:',\n",
    "    '-cc:',\n",
    "    '-bcc:',\n",
    "    '-Folder:',\n",
    "    '-Origin:',\n",
    "    '-FileName:'\n",
    "]\n",
    "\n",
    "##### Preprocessing Functions ####\n",
    "\n",
    "def make_regex(lst):\n",
    "    return '|'.join(lst)\n",
    "\n",
    "break_regex = make_regex([BRBR, HYPHENS, YW])\n",
    "comp_regex = make_regex(email_components+[EMAIL_TIME])\n",
    "\n",
    "def clean(text):\n",
    "    text = re.sub(break_regex, BREAK, text)\n",
    "    text = re.sub(HTML, SPACE, text)\n",
    "    text = re.sub(BLACK, SPACE, text)\n",
    "    text = text.strip()\n",
    "    return text\n",
    "\n",
    "\n",
    "def clean_info(text):\n",
    "    text = re.sub(EA, EMAIL, text)\n",
    "    text = re.sub(PH, PHONE, text)\n",
    "    text = re.sub(WHITE, SPACE, text)\n",
    "    text = text.strip()\n",
    "    return text\n",
    "        \n",
    "    \n",
    "def trim_sents(sents, max_tokens=75):\n",
    "    \"\"\"Take the most sentences from the tail that together meet the tokens requirement\n",
    "    \"\"\"\n",
    "    lens = [len(s.split()) for s in sents]\n",
    "    trimmed_sents = [sents[i] for i in range(len(lens)) \n",
    "                     if sum(lens[i:]) <= max_tokens]\n",
    "    return trimmed_sents"
   ]
  },
  {
   "cell_type": "code",
   "execution_count": 88,
   "metadata": {},
   "outputs": [
    {
     "data": {
      "text/plain": [
       "['However, incorrect curve names will result in the positions not being captured in the VAR calculation.']"
      ]
     },
     "execution_count": 88,
     "metadata": {},
     "output_type": "execute_result"
    }
   ],
   "source": [
    "sents = [\n",
    "    'As I m sure j ksdhs so o ao  i  ii i i i i i i iii i i i i i i i i i i i..',\n",
    "    'One possible cause that we would like ..', \n",
    "    'It is my understanding that positions will be correct even if the curves loaded are spelled incorrectly.. As I m sure j ksdhs so o ao  i  ii i i i i i i iii i i i i i i i i i i i..',\n",
    "    'However, incorrect curve names will result in the positions not being captured in the VAR calculation.'\n",
    "]\n",
    "trim_func(sents)"
   ]
  },
  {
   "cell_type": "code",
   "execution_count": 72,
   "metadata": {},
   "outputs": [],
   "source": []
  },
  {
   "cell_type": "code",
   "execution_count": 98,
   "metadata": {},
   "outputs": [
    {
     "name": "stdout",
     "output_type": "stream",
     "text": [
      "Overwriting contextMapper.py\n"
     ]
    }
   ],
   "source": [
    "%%writefile contextMapper.py\n",
    "#!/usr/bin/python\n",
    "\n",
    "# imports\n",
    "import sys\n",
    "import re\n",
    "import numpy as np\n",
    "from nltk.tokenize import sent_tokenize\n",
    "\n",
    "from preprocess import *\n",
    "\n",
    "\n",
    "for line in sys.stdin:\n",
    "   \n",
    "    try:\n",
    "        # load\n",
    "        message, task = line.split('\\t')\n",
    "        # clean\n",
    "        task, message = clean(task), clean(message)    \n",
    "        sents = sum([sent_tokenize(m) for m in message.split(BREAK)], [])\n",
    "\n",
    "        # identify entire task sentence\n",
    "        i = np.argmax([bool(re.search(task, s)) for s in sents])\n",
    "        ts = sents[i]\n",
    "\n",
    "        # identify context\n",
    "        if i > 0 and not re.search(comp_regex, sents[i-1]):\n",
    "            cs = sents[i-1]\n",
    "            context_sents = [s for s in sents[:i] if not re.search(comp_regex, s)]\n",
    "            context_sents = trim_sents(context_sents)\n",
    "            context = '. '.join(context_sents)\n",
    "        else:\n",
    "            cs, context = '',''\n",
    "\n",
    "        # print\n",
    "        print(f'{task}\\t{clean_info(context)}\\t{clean_info(cs)}\\t{clean_info(ts)}')\n",
    "        \n",
    "#         print(20*'=')\n",
    "#         print('CONTEXT', clean_info(context))\n",
    "#         print()\n",
    "#         print('TASKSEN', clean_info(ts))\n",
    "#         print()\n",
    "        \n",
    "        \n",
    "    except:\n",
    "        continue\n"
   ]
  },
  {
   "cell_type": "code",
   "execution_count": 99,
   "metadata": {},
   "outputs": [],
   "source": [
    "!chmod +x contextMapper.py"
   ]
  },
  {
   "cell_type": "code",
   "execution_count": 100,
   "metadata": {},
   "outputs": [
    {
     "name": "stdout",
     "output_type": "stream",
     "text": [
      "Please reply  Brent\tPlease find attached the final versions of the ETA and PA with the changes discussed and agreed on today s conference call.\tPlease find attached the final versions of the ETA and PA with the changes discussed and agreed on today s conference call.\tPlease reply Brent Hendry with your approval and let me know if you have any questions/comments Thanks Carlos x5-8705\n",
      "Please incorporate these changes into the 2000 plan.\t\t\tPlease incorporate these changes into the 2000 plan.\n",
      "Please forward this information to any one in your organization\tThe last public seminars that PGS Energy Training will be offering until October have been scheduled at the downtown Houston Hyatt Regency on June 12, 13, 14 15.. Programs listed below .. For more information, call PHONE or visit http://www.pgsenergy.com/schedule.html\tFor more information, call PHONE or visit http://www.pgsenergy.com/schedule.html\tPlease forward this information to any one in your organization who might benefit from a better understanding of energy derivatives, gas-to-electricity arbitrage or electric power trading.\n",
      "Please forward this email on to other members of your group that\tYes it does.. It includes any original guarantees we may be giving or receiving.. Tana:. Does this include original Enron Corp. guarantees?. On the physical side, we have the counterparty sign the Enron Corp. document and therefore have an original.. Let me know.. Thanks,. Jeff. Per the email below, please note that if you haven t been sending your original guarantees to Credit, it appears this should be done so in the future.\tPer the email below, please note that if you haven t been sending your original guarantees to Credit, it appears this should be done so in the future.\tPlease forward this email on to other members of your group that might be responsible for filing original guarantees.\n",
      "Please verify that all the curves are\tOne possible cause that we would like your help investigating is the Curve Codes that are being loaded in the position files that are manually loaded into the system each night.. It is my understanding that positions will be correct even if the curves loaded are spelled incorrectly.. However, incorrect curve names will result in the positions not being captured in the VAR calculation.\tHowever, incorrect curve names will result in the positions not being captured in the VAR calculation.\tPlease verify that all the curves are spelled correctly in all position files.\n",
      "Please forward this to Steven Schwarzbach if everything looks OK.\tTracy, Attached is the 4th quarter forecast for EGAS.. It is essentially 4Q from 3CE.. This does not include gain/loss on assets sale which right now it would be Greenfield Shipping loss and EcoElectrica gain.. I ll find out the latest for those numbers .\tI ll find out the latest for those numbers .\tPlease forward this to Steven Schwarzbach if everything looks OK.\n",
      "Martha, please coordinate with\tI can fly from Houston to Denver on Thur.. late afternoon or evening so I m available to meet with MMS anytime on Friday.\tlate afternoon or evening so I m available to meet with MMS anytime on Friday.\tMartha, please coordinate with Paul and Mark and get me where I need to be, returning to Omaha on Friday after the meeting Mark is setting up.\n",
      "Please collect your thoughts and we we schedule a time to get tehm in.\tBecause of Johnnie s urgencies, I did not have the chance to pretty up format and section and page numbers, please forgive.. We will get it next time.. You guys also have the un-revised draft exhibits.. I think Rigby was to revise to try and revise them to fit the form - I await the draft exhibits withbaited breath.\tI think Rigby was to revise to try and revise them to fit the form - I await the draft exhibits withbaited breath.\tPlease collect your thoughts and we we schedule a time to get tehm in.\n",
      "verification is required please request a hard-copy version.\tPlease notify the sender immediately by e-mail if you have received this e-mail by mistake and delete this e-mail from your system.. E-mail transmission cannot be guaranteed to be secure or error-free as information could be intercepted, corrupted, lost, destroyed, arrive late or incomplete, or contain viruses.. The sender therefore does not accept liability for any errors or omissions in the contents of this message which arise as a result of e-mail transmission.\tThe sender therefore does not accept liability for any errors or omissions in the contents of this message which arise as a result of e-mail transmission.\tIf verification is required please request a hard-copy version.\n",
      "Wanna go ahead and print the tasking letter and I ll initial it?\tStephen,\tStephen,\tWanna go ahead and print the tasking letter and I ll initial it?\n",
      "Please outline the Vulcan contract for Jeff and Jennifer.\tHeidi:\tHeidi:\tPlease outline the Vulcan contract for Jeff and Jennifer.\n",
      "Please send me a hard copy.\tThis letter looks fine.\tThis letter looks fine.\tPlease send me a hard copy.\n",
      "Kate, please check, deal 565759.01, I verballed the trade with APB on Friday\t\t\tKate, please check, deal 565759.01, I verballed the trade with APB on Friday 3/30/01 Enron Sells Idaho 4/2-4/2 220.00 total mw s400 sp 15\n",
      "Can you please provide her with the best\tJohn:. I will be here most of the week, and am looking forward to working with Niamh C. I will also check the availability of people in Vince K. group as well as Naveen Andrews in ours.. Regards. Bjorn H.. Bjorn, Niamh Clarke is going to come to houston from mon afternoon to friday next week to work on nVAR.. She developed VAR models for Mitsubishi and has lots of experience in this area.\tShe developed VAR models for Mitsubishi and has lots of experience in this area.\tCan you please provide her with the best people we can from research and RAC so we can try and get a better understanding and more confidence in our model.\n",
      "Please, give him my E-mail address or the phone number.\tGrant,. No problem.\tNo problem.\tPlease, give him my E-mail address or the phone number.\n",
      "Please respond no later than 10 a.m. on Wednesday, June 6.\tTana/Kelly/Karen:. The product long descriptions below will fall under the new product type: 20 US Crude WTI Fin Spd 20 Credit Tom Moran has approved copying the profiles for the new product ty pe 20 from the following:. US Crude WTI Fin Swap\tUS Crude WTI Fin Swap\tPlease respond no later than 10 a.m. on Wednesday, June 6.\n",
      "daniel, could you please advise on what to do next.\tvince, this e-mail is to request access to the o:/research/power meteorlogy/weather temps/txtemps.xls file... i was told by tech-support to e-mail you with this request and everything would get squared away.\tvince, this e-mail is to request access to the o:/research/power meteorlogy/weather temps/txtemps.xls file... i was told by tech-support to e-mail you with this request and everything would get squared away.\tdaniel, could you please advise on what to do next.\n",
      "please respond no later than October 6.\tAssociate Analyst Programs Y2K Survey. In an effort to solicit your feedback, the Associate and Analyst Programs are initiating a survey regarding program management, recruiting, HR, the PRC process and more.. We value your honest feedback and would appreciate you taking a few moments to complete the attached survey.. The survey responses will be sent directly to an outside party for compilation.\tThe survey responses will be sent directly to an outside party for compilation.\tThese results will be communicated to you by October 13 so please respond no later than October 6.\n",
      "Please prepare necessary documents.\t\t\tDan, Please prepare necessary documents.\n",
      "email me rest of expenses when you get a chance so I can write you a check\tThe entire phone bill is 300 pesos???. Yes, please fax to me.\tYes, please fax to me.\tAnd please email me rest of expenses when you get a chance so I can write you a check for everything plane,phone, golf, etc., etc.\n",
      "Important: Please provide confirmation number and positive\twhy did i get this?. This e-mail contains Southwest Airlines Ticketless Travel information and is being sent to you at the request of the Purchaser, Passenger, or individual responsible for arranging this air travel.. CONFIRMATION NUMBER. 7PNHN8\t7PNHN8\tImportant: Please provide confirmation number and positive I.D.\n",
      "Please respond.\tStephanie, I my preference is to kick their Password Application back and get them to change it to read something like Cargill Ferrous International, a division of Cargill, Inc. or Cargill, Inc. acting through its Cargill Ferrous International Division .. Any GCP adjustments will be highlighted in red.. Attn.. GCP London: There s a new EOL Counterparty listed in the UK.\tGCP London: There s a new EOL Counterparty listed in the UK.\tPlease respond.\n",
      "process, please call the PEP Help Desk at the following numbers:\tPlease provide feedback on the employee s listed below by accessing the Performance Management System PEP and completing an online feedback form as described in the Performance Management Quick Reference Guide .. You may begin your feedback input immediately.. Please have all feedback forms completed by the date noted below.\tPlease have all feedback forms completed by the date noted below.\tIf you have any questions regarding PEP or your responsibility in the process, please call the PEP Help Desk at the following numbers:\n",
      "Please also can you supply the last figure before you disappear!\tWe ve tied the chapter in with what has gone before and changed some of your notation so that it is consistent with ours.. Vince; could you please send thru the footnotes referred to in the chapter at your convenience.. Could you also please supply a full reference for Routledge, Seppi, Spatt 1999 .. Grant; I hope you don t mind we ve called PDJD just JD to fit in more with our work .\tGrant; I hope you don t mind we ve called PDJD just JD to fit in more with our work .\tPlease also can you supply the last figure before you disappear!\n",
      "Please provide the following lawyers with a guest ID to the above website.\t\t\tPlease provide the following lawyers with a guest ID to the above website.\n",
      "email them to me and send the physical copy back to Laurel, not to Melissa.\tJust to recap in writing....\tJust to recap in writing....\tWhen you are tracking faxed M-Deals, if you come across those that are not in Tagg or are in Tagg with an incorrect status, keep track of these numbers, email them to me and send the physical copy back to Laurel, not to Melissa.\n",
      "Please review and approve or suggest changes.\tMark/Harry,. Attached is a copy of the website text.\tAttached is a copy of the website text.\tPlease review and approve or suggest changes.\n",
      "Please also provide me\tThese changes would be added to Section 14.1.2 Warranty Clarifications in the contract.. Please review this Change Order and let me know if we can live with these warranty provisions.. Otherwise, we will need to talk directly to Jeff s attorney and commercial people to get it resolved.\tOtherwise, we will need to talk directly to Jeff s attorney and commercial people to get it resolved.\tPlease also provide me with any additional comments so that I may route this Change Order for execution.\n",
      "Please contact me or\tWe were able to take out hours 11-24 however, hours 8-10 we were short ex-post by the 7 MW.. Toscos schedule was zeroed out by decing short term cali load in PGE 3 per Jeff Richter.. Note to real time night shift.. Tosco may be coming back on line completely but as of yet they have not called back to notify when that may be.\tTosco may be coming back on line completely but as of yet they have not called back to notify when that may be.\tPlease contact me or Jeremy with any questions.\n",
      "Please put me down for a\tI would like to park in the new parking garage.\tI would like to park in the new parking garage.\tPlease put me down for a yes to participate.\n",
      "Please call me  34772 .\t\t\tPlease call me 34772 .\n",
      "Please open the attached file to read the complete text of the following\t\t\tPlease open the attached file to read the complete text of the following items:\n",
      "Please, call me next week.\tRick,. Thanks for your message.. I am familiar with the Computational Finance program and value its high quality.\tI am familiar with the Computational Finance program and value its high quality.\tPlease, call me next week.\n",
      "Please update me on the answer to the following e-mail.\t\t\tPlease update me on the answer to the following e-mail.\n",
      "Please run us a copy.\tVince,. I ll see you around 8:45 in the morning.. Meanwhile, the attached file contains the latest draft of our questions.\tMeanwhile, the attached file contains the latest draft of our questions.\tPlease run us a copy.\n",
      "Please put on my calendar.\t\t\tPlease put on my calendar.\n",
      "changes in strike-out-underline format and email back to me when you re\tSteve:. Here s a word version of the MSA.. Sorry for the delay.\tSorry for the delay.\tCould you make changes in strike-out-underline format and email back to me when you re done?\n",
      "Please verify whether or not you emailed these to me yesterday as promised.\tJim:. As a follow up to our conversation of yesterday, please note the following:. 1 I have not received your comments to our blackline of EWEB s ISDA Schedule.. 2 I have not received your suggested language to the Deemed ISDA confirmation.\t2 I have not received your suggested language to the Deemed ISDA confirmation.\tPlease verify whether or not you emailed these to me yesterday as promised.\n",
      "To reserve a seat, please call Stephanie E. Taylor at\tSeats fill up fast!\tSeats fill up fast!\tTo reserve a seat, please call Stephanie E. Taylor at 5-7928 The cost is 25.00 Per Person No Shows will be charged 50.00 Please bring your Dow Jones Interactive login ID and password.\n",
      "Can you please update the system with the following marketers?\t\t\tCan you please update the system with the following marketers?\n",
      "Make sure to check the calendar for upcoming events regularly\tThe Full membership remains as in previous years.. The new Regular membership includes all Full membership benefits except JOD.. Membership is based on the calendar year January 1 - December 31, 2001.. Our website was recently updated, when you get a moment, please visit our web site.\tOur website was recently updated, when you get a moment, please visit our web site.\tMake sure to check the calendar for upcoming events regularly since we add to it frequently.\n",
      "01; Please review the detail and let me know if you agree that the\t01; Accordingly, the liquidation detail for post id 102621 0 is 20 in the attached file titled MGMTWST JAN LIQ .. 01; The issue is that it 01; appears 20 Deal QO9203.1 erroneously liquidated in the month of January at a value of 20 306,900 when the deal has a March term date and valued correctly in the 20 liquidations for that month creating a duplicate liquidation for the same 20 deal .\t01; The issue is that it 01; appears 20 Deal QO9203.1 erroneously liquidated in the month of January at a value of 20 306,900 when the deal has a March term date and valued correctly in the 20 liquidations for that month creating a duplicate liquidation for the same 20 deal .\t01; Please review the detail and let me know if you agree that the 20 expense was taken in error by the management west book in Jan, or if I have 20 picked up the incorrect post id, or if there is some other issue that I hav e 20 missed.\n",
      "Please plan to attend a meeting that will provide an overview of the\t\t\tPlease plan to attend a meeting that will provide an overview of the Performance Management Process at Enron to those new hires that arrived in Logistics after our Mid Year Performance Process.\n",
      "Can you help her with the Sun equipment?\t\t\tJarod: Can you help her with the Sun equipment?\n",
      "Can you guys address this and try to implement some\tI spent two hours having to go through many deals in both books to figure out what happened before we could begin checkouts.. I understand some human errors occur - that s why we do checkout s but much of this I feel is just laziness and guys not paying attention.\tI understand some human errors occur - that s why we do checkout s but much of this I feel is just laziness and guys not paying attention.\tCan you guys address this and try to implement some steps to help correct this.\n",
      "Please review and\tHi Darrin,. This is what Mark McCoy sent me about the Cornhusker Deal.\tThis is what Mark McCoy sent me about the Cornhusker Deal.\tPlease review and if there is anything else that Rita Wynne or I need to know about this deal, just shoot me an e-mail!\n",
      "pls send the stack to...\t\t\tpls send the stack to... Scott Halperin c/o Laurie Chod 159 Ladue Farm Road St. Louis, MO 63141 tel.\n",
      "Please donate this money to the funds set up to help repair the lives of those Americans hurt by Enron s underhanded dealings.\tAnd Enron made an astronomical profit during the California energy crisis last year.. As a result, there are thousands of consumers who are unable to pay their basic energy bills and the largest utility in the state is bankrupt.. The New York Times reported that you sold 101 million worth of Enron stock while aggressively urging the company s employees to keep buying it.\tThe New York Times reported that you sold 101 million worth of Enron stock while aggressively urging the company s employees to keep buying it.\tPlease donate this money to the funds set up to help repair the lives of those Americans hurt by Enron s underhanded dealings.\n",
      "Please mark on your calendar.\tShirley,. I plan to take off the 3 days after Christmas for vacation, December 27, 28, and 29th.\tI plan to take off the 3 days after Christmas for vacation, December 27, 28, and 29th.\tPlease mark on your calendar.\n",
      "Effective immediately, please forward your updates for the SWAP Group\t\t\tEffective immediately, please forward your updates for the SWAP Group calendar to Holly Keiser.\n",
      "Can you please make a list of all the paths and files used to prepare the morning reports, including the VaR access database?\tBiliana,. We are making sure this week that we have all the files we use listed to be moved to Netco.\tWe are making sure this week that we have all the files we use listed to be moved to Netco.\tCan you please make a list of all the paths and files used to prepare the morning reports, including the VaR access database?\n",
      "Please take a look and let Elizabeth know which price should be in Sitara.\tWe have a sale to Tractebel on CGAS with a price discrepancy.. This was a deal we took over from CES wholesale.. Here are the terms per the confirm Tractebel faxed us.. Sitara Deals: 158716/227890 the price in sitara is Tco Index.. Elizabeth faxed the confirm to me.. I will gladly give this to David.\tI will gladly give this to David.\tPlease take a look and let Elizabeth know which price should be in Sitara.\n",
      "Can you give him a  call and chat with him for 10 minutes.\tLouise,. Some time ago I sent you a message regarding Ed Krapels.. He is writing a book on energy commodity markets and would like to learn more about EOL.\tHe is writing a book on energy commodity markets and would like to learn more about EOL.\tCan you give him a call and chat with him for 10 minutes.\n",
      "expenses incident to your trip to London, including hotel costs should you\tTop executives of our company do their best to attend.. Starting on the afternoon of October 30, and concluding late in the day on October 31, we will be meeting in London.. I was most impressed with your presentation at the Aspen Institute energy forum, and am hoping that you might consider joining our meeting to discuss Where do we go from here: how to preserve the momentum of deregulation after California.\tI was most impressed with your presentation at the Aspen Institute energy forum, and am hoping that you might consider joining our meeting to discuss Where do we go from here: how to preserve the momentum of deregulation after California.\tWe would be delighted to cover business class travel costs and all other expenses incident to your trip to London, including hotel costs should you choose to extend your stay for several days.\n",
      "Please respond to DownloadsDirectInsiders news.artistdirect.com\tForwarded by Randall L Gay/HOU/ECT on 01/21/2000 10:23 AM\tForwarded by Randall L Gay/HOU/ECT on 01/21/2000 10:23 AM\tDownloadsDirect news.artistdirect.com on 01/20/2000 06:11:23 PM Please respond to DownloadsDirectInsiders news.artistdirect.com To: Randall L Gay/HOU/ECT ECT cc: Subject: Downloads Direct Tipsheet 1.20.00\n",
      "Can you please make sure John receives these passwords?\tJulie,\tJulie,\tCan you please make sure John receives these passwords?\n",
      "Kim - Can you please prepare the offer package based on the above.\tI just spoke to Lavo and he said the same thing.. We are planning on offering Willis an Associate position in East Power.. I propose we offer 75k salary with 25k sign-on.. We would require a 90 day evergreen non-compete and payback of 25k retention in the event he left within the the 1st year.\tWe would require a 90 day evergreen non-compete and payback of 25k retention in the event he left within the the 1st year.\tKim - Can you please prepare the offer package based on the above.\n",
      "Please resolve the trades issues directly with\tAt the request of Anita Herrera, I am enclosing a copy of a list that shows the discrepancies that our records show from the list we were sent of trades to be assigned to J. Aron.\tAt the request of Anita Herrera, I am enclosing a copy of a list that shows the discrepancies that our records show from the list we were sent of trades to be assigned to J. Aron.\tPlease resolve the trades issues directly with Bob Bowen.\n",
      "Please prepare a draft ENFOLIO per the attached for Colorado Springs Utilities.\t\t\tGerald, Please prepare a draft ENFOLIO per the attached for Colorado Springs Utilities.\n",
      "Please review QU0179 in tagg stage and let me know if it looks alright.\tErrol and George,\tErrol and George,\tPlease review QU0179 in tagg stage and let me know if it looks alright.\n",
      "you please email me a daily spreadsheet for COH/TCO Storage similar to what\tLooks like we can no longer see our TCO storage balances on Navigator.\tLooks like we can no longer see our TCO storage balances on Navigator.\tCould you please email me a daily spreadsheet for COH/TCO Storage similar to what you do for AGL and Nipsco?\n"
     ]
    },
    {
     "name": "stdout",
     "output_type": "stream",
     "text": [
      "Take a look at this\tMike\tMike\tTake a look at this\r\n",
      "Laurel:  Will you please contact Treasury per Lynn s email below?\t\t\tLaurel: Will you please contact Treasury per Lynn s email below?\r\n",
      "Can you help us with this?\tThanks, Charles, for the information.. We need to show what utilities would have saved if they had hedged their positions.\tWe need to show what utilities would have saved if they had hedged their positions.\tCan you help us with this?\r\n",
      "Richard, please review and comment asap.\t\t\tRichard, please review and comment asap.\r\n",
      "Please review and let me know what changes are suggested.\tThis was forwarded to me by Phil DeMoes.. Dan,. Take a look at this letter prepared by our surety provider on the PEAK pre-pay.. In particular, note the last paragraph.. I m concerned on the unwind if there is a default.. We plan to meet tomorrow with Joe Deffner and Breese tomorrow morning.. Are you available?. FYI.. Phil-Attached is a first round draft of a reference letter for the PEAK project.\tPhil-Attached is a first round draft of a reference letter for the PEAK project.\tPlease review and let me know what changes are suggested.\r\n",
      "Q: Can you email me the plans?\tQ: Can the cable company detect that I have the descrambler?. A: No, the signal descrambles right at the box and does not move back through the line!. Q: Do I have to alter my existing cable system, television or VCR?. A: The answer is no!. Q: Does this work with my remote control?. A: The answer is yes.. The descrambler is manually controlled--but very easy to use!\tThe descrambler is manually controlled--but very easy to use!\tQ: Can you email me the plans?\r\n",
      "Lin - please put on SFA file - thanks\tFYI, Sara\tFYI, Sara\tLin - please put on SFA file - thanks\r\n",
      "Please email me\tJohn, I think I have the wrong email address for your brother.\tJohn, I think I have the wrong email address for your brother.\tPlease email me the correct one when you get a chance.\r\n",
      "should occur, please copy the full text of the address and paste it into th\tThis half price offer is available at 20 ticketmaster.com/jackpot/enron http://www.ticketmaster.com/jackpot/enron/ 20 beginning on Monday, May 14th at 9 AM and ending on Monday, May 21st at 3 P M.. To take advantage of this discount offer follow these instructions 1.. Click on the link above Please Note: The above hyperlink may not 20 retrieve the web page if the address extends to more than one line.\tClick on the link above Please Note: The above hyperlink may not 20 retrieve the web page if the address extends to more than one line.\tIf this 20 should occur, please copy the full text of the address and paste it into th e 20 address box in your web browser.\r\n",
      "Please copy the URL web address and paste it into your browser  Netscape, Internet Explorer, or AOL .\tTo validate your free ezboard.com account, please click on the URL web address below.. You will also receive a second email with your User Name and Password once you are validated.. If you are an AOL user or you do not see a link below:\tIf you are an AOL user or you do not see a link below:\tPlease copy the URL web address and paste it into your browser Netscape, Internet Explorer, or AOL .\r\n",
      "Can you send me his resume?\tAnurag,. I shall talk about Vikas to our IT people.\tI shall talk about Vikas to our IT people.\tCan you send me his resume?\r\n",
      "Please carefully check the new reservation before cancelling your original\tTo modify your reservation, follow this link: http://www.alamo.com/Default.asp?ConfirmationID PHONE LastName Giron PUMonth Year MAY-2001 PUDay 26 Page Res ResPage M. To cancel your reservation, follow this link: http://www.alamo.com/Default.asp?ConfirmationID PHONE LastName Giron PUMonth Year MAY-2001 PUDay 26 Page Res ResPage C. You may use the Web site to modify your reservation by following the link provided above.. Please note that availability or pricing may have changed.\tPlease note that availability or pricing may have changed.\tPlease carefully check the new reservation before cancelling your original reservation.\r\n",
      "Please point me to the defn of profit by cutting and pasting from wherever it\tcheck out q and a 2 below.. Forwarded by Kay Mann/Corp/Enron on 05/24/2001 02:13 PM. 1.. Need details re item 1 below.. Please suggest language band of acceptability, etc which I will massage and incorporate.. 6.. Do I have the latest draft of Marketing/Risk policies?. 7.. Bogey calc only addresses gas.. What if the fuel of choice is fuel oil?. Does the fuel cost and heat rate change?\tDoes the fuel cost and heat rate change?\tPlease point me to the defn of profit by cutting and pasting from wherever it is.\r\n",
      "Please print in color for me.\t\t\tPlease print in color for me.\r\n",
      "Since I don t yet have the file from my clients, please also send me the\tIt makes no sense for Enron and Exmar to pursue this matter further, given what you have told me.. My plan is to confirm that Enron has in fact a business relationship with Exmar that would allow us to go forward with a drop hands settlement.. If you retained the publication in which you read about the recent charters, I would ask that you send it to me immediately.\tIf you retained the publication in which you read about the recent charters, I would ask that you send it to me immediately.\tSince I don t yet have the file from my clients, please also send me the correct spelling of Exmar s name at your earliest convenience.\r\n",
      "Please prepare two executables for signature.\tMary, Kinder made some changes to our form which are attached below.. I am OK with their changes.\tI am OK with their changes.\tPlease prepare two executables for signature.\r\n",
      "Send your entries by email to sarah.palmer enron.com, by fax to 713-853-679\tAre we natural-born adrenaline junkies?. We think so, but we 20 want to find out from you.. If your idea of a good vacation is training for the Eco-Challenge, driving 20 monster trucks or assisting archeological digs in Siberia, tell us all abou t 20 it.. If you know of an employee who has an unusual pastime like missionary 20 work in the Congo, chasing tornadoes or filming sharks, we want to know.\tIf you know of an employee who has an unusual pastime like missionary 20 work in the Congo, chasing tornadoes or filming sharks, we want to know.\tSend your entries by email to sarah.palmer enron.com, by fax to 713-853-679 0 20 or by mail to Sarah Palmer, Enron Public Relations, EB4703D, Houston, Texas 20 77002.\r\n",
      "Please review and let me know if this is what you wanted.\tThis is the redline This is the clean\tThis is the redline This is the clean\tPlease review and let me know if this is what you wanted.\r\n",
      "Please donate this money to the funds set up to help repair the lives of those Americans hurt by Enron s underhanded dealings.\tAnd Enron made an astronomical profit during the California energy crisis last year.. As a result, there are thousands of consumers who are unable to pay their basic energy bills and the largest utility in the state is bankrupt.. The New York Times reported that you sold 101 million worth of Enron stock while aggressively urging the company s employees to keep buying it.\tThe New York Times reported that you sold 101 million worth of Enron stock while aggressively urging the company s employees to keep buying it.\tPlease donate this money to the funds set up to help repair the lives of those Americans hurt by Enron s underhanded dealings.\r\n",
      "Please change deal 583629  sale to Mirant on NFUL  to Market East.\t\t\tPlease change deal 583629 sale to Mirant on NFUL to Market East.\r\n",
      "your trip so call me when you feel rested.\t\t\tI am anxious to hear about your trip but I know that you are probably still trying to recuperate from your trip so call me when you feel rested.\r\n",
      "Please take a look and let me know what you think.\tI have taken a stab at a Legal Privacy Statement for the Broker version of EnronOnline.\tI have taken a stab at a Legal Privacy Statement for the Broker version of EnronOnline.\tPlease take a look and let me know what you think.\r\n",
      "Would you please provide me with your comments so that I  can forward\t\t\tLeslie: Per our conversation, you mentioned that you had comments to the form of assignment to be executed by you, Lehman and Enron North America Corp.. Would you please provide me with your comments so that I can forward the same to Lehman?\r\n",
      "Would you please prepare a CA between ENA and Petroglyph Energy Inc. my\tGerald,\tGerald,\tWould you please prepare a CA between ENA and Petroglyph Energy Inc. my contact there is Craig Saldene, however the person on their side who will be signing the agreement is Robert C. Murdock President/CEO.\r\n",
      "Please approve the purchase of two.\tNorma, any thoughts?. Susan Scott would like authorization to order an Aeron chair for each of her offices - on 47 and 41.. This particular chair is designed to help with back problems, which she has.. Many people at Enron already have this type of chair, but we rarely, if ever, have a surplus because they are so popular.. The cost is 567.77 per chair plus tax.\tThe cost is 567.77 per chair plus tax.\tPlease approve the purchase of two.\r\n",
      "Please RSVP to Susan Bohannon at  281  681-8317 or via\t20. The following activities are also designed to provide you with opportunitie s 20 to learn more about back up child care:. Information tables in the Enron Building Plaza July 20-21, July 27-28 11: 00 20 - 1:00 20 Open Houses at the Back up Child Care Center July 24-28 11:00 - 2:00. RSVPs are required.\tRSVPs are required.\tPlease RSVP to Susan Bohannon at PHONE or via 20 email at sbohannon klcorp.com.\r\n",
      "in error, please forward this message to members thestreet.com,\tThis advertisement has been sent to you by TheStreet.com because you are currently or within the last year have been a subscriber either free-trial or paid to one of our web sites, www.thestreet.com or www.realmoney.com.\tThis advertisement has been sent to you by TheStreet.com because you are currently or within the last year have been a subscriber either free-trial or paid to one of our web sites, www.thestreet.com or www.realmoney.com.\tIf you are not a current or former subscriber, and you believe you received this message in error, please forward this message to members thestreet.com, or call our customer service department at PHONE .\r\n"
     ]
    },
    {
     "name": "stdout",
     "output_type": "stream",
     "text": [
      "Please print out the  swap  documents for me ASAP.\t\t\tPlease print out the swap documents for me ASAP.\n",
      "Please move all the following counterparties financial   natural gas trades only deals from ENA-FT-WT-SOCAL book to the BANKRUPTCY book:\t\t\tPlease move all the following counterparties financial natural gas trades only deals from ENA-FT-WT-SOCAL book to the BANKRUPTCY book: HESSENESER BRIDGELIGASMAR CONSUMERS CORNERSTPROL P IGIRES OCCIDENTENEMAR PRAXAIR PSEGENERES SEMPRAENETRA\n",
      "Please answer these\tIf the PMT breaker trip doesn t always cause a given fault then is there any easy way SCADA data or site crew experience for us to estimate what percentage of the trips did fault the turbine offlline due to a downtime or line out fault?\tIf the PMT breaker trip doesn t always cause a given fault then is there any easy way SCADA data or site crew experience for us to estimate what percentage of the trips did fault the turbine offlline due to a downtime or line out fault?\tPlease answer these questions; we will then know what corrections, if any, we need to make to availability.\n",
      "Please verify receipt at your earliest convenience.\tPlease handle.. Richard, below is a list of oc invoices sent to you for approval on 5/30/00.\tRichard, below is a list of oc invoices sent to you for approval on 5/30/00.\tPlease verify receipt at your earliest convenience.\n",
      "To reserve your tickets, please send check to Rose Rivera at 3AC-761 by June 25.\tJuly 21 11:30 am Section 123 R6, 7, 8, 9, 10 S8, 9, 10, 11, 12, 13, 14 U1, 2, 3, 4, 5, 6, 7, 8, 9, 10, 11, 12, 13, 14. Dear Members:\tDear Members:\tTo reserve your tickets, please send check to Rose Rivera at 3AC-761 by June 25.\n",
      "Please donate this money to the funds set up to help repair the lives of those Americans hurt by Enron s underhanded dealings.\tAnd Enron made an astronomical profit during the California energy crisis last year.. As a result, there are thousands of consumers who are unable to pay their basic energy bills and the largest utility in the state is bankrupt.. The New York Times reported that you sold 101 million worth of Enron stock while aggressively urging the company s employees to keep buying it.\tThe New York Times reported that you sold 101 million worth of Enron stock while aggressively urging the company s employees to keep buying it.\tPlease donate this money to the funds set up to help repair the lives of those Americans hurt by Enron s underhanded dealings.\n",
      "Please  indicate clearly in the manual\tIf the oil loss indication was directly due to icing then we should lower the MAA availability for turbine 11 in January to correct for 3.8 hours.. Let me know what you want us to do.. For the future, we analysts will always assume that a failure that occurs during icing and that isn t reasonably due to icing alone will be treated as a separate independent failure.\tFor the future, we analysts will always assume that a failure that occurs during icing and that isn t reasonably due to icing alone will be treated as a separate independent failure.\tPlease indicate clearly in the manual log that a turbine failure or apparent failure was directly related to icing or other cause if the failure isn t obviously expected due to icing alone.\n",
      "Please check with Cindy Stokes to see if she can tell you if there is going to be filing cabinets and where.\t\t\tNicole, Please check with Cindy Stokes to see if she can tell you if there is going to be filing cabinets and where.\n",
      "Please take a look at the attached spreadsheet, we have over 500,000mmbtu as\tDaren,\tDaren,\tPlease take a look at the attached spreadsheet, we have over 500,000mmbtu as unaccounted for... O Neal 3-9686\n",
      "Can you check on\tEric, Can you pull the FERC document cited below and print it out.. This is a footnote from one of the cases you sent earlier.\tThis is a footnote from one of the cases you sent earlier.\tCan you check on this for us, too.\n",
      "call me to discuss the cross default threshold.\tWe are ok with reciprocal website financials.\tWe are ok with reciprocal website financials.\tPlease have the counterparty call me to discuss the cross default threshold.\n",
      "Please review and let me know if you have any\tSylvia, I have taken Brant Reves comments and incorporated them in the red-line mark-up of the EnergyOne Ventures BAC agreement.. Those changes are reflected in the attached document.\tThose changes are reflected in the attached document.\tPlease review and let me know if you have any further changes which need to be made.\n",
      "Please send out AES Corp books today to Glen Davis.\t\t\tPlease send out AES Corp books today to Glen Davis.\n",
      "Go ahead and reduce their volume by 8 hours for that day.\tBob,\tBob,\tGo ahead and reduce their volume by 8 hours for that day.\n",
      "Please call or e-mail\tI just received a call from Nancy Bagot informing me that FERC has issued a draft order suspending our proposed Transport Options tariff sheets until May 1, 2001 and accepting them subject to the outcome of a technical conference.. The technical conference is to take place within 120 days of the order and will address issues raised in protests.. I should be receiving a copy of the draft order soon.\tI should be receiving a copy of the draft order soon.\tPlease call or e-mail me if you have questions.\n",
      "Please send me your input by COB tomorrow, Friday, August 11, so I can\tOK. Task Team Members: Attached is Draft 3 of the Summer Stakeholder letter.. It incorporates changes recommended by Jim Bannantine and Rick Shapiro.\tIt incorporates changes recommended by Jim Bannantine and Rick Shapiro.\tPlease send me your input by COB tomorrow, Friday, August 11, so I can finalize and forward to Dick.\n",
      "Please respond to Thank you Louise.\t\t\tPlease respond to Thank you Louise.\n",
      "Please advise of outcome ASAP.\tENA s bid for the package of 10,000 mmbtu/day from W Tx pool to PG E Topock is 2.03 for April - October time frame, 2.25 for the April - Jan.\tENA s bid for the package of 10,000 mmbtu/day from W Tx pool to PG E Topock is 2.03 for April - October time frame, 2.25 for the April - Jan.\tPlease advise of outcome ASAP.\n",
      "Please forward this to all ETS lawyers.\t\t\tPlease forward this to all ETS lawyers.\n",
      "Please delete the one sent to you yesterday.\tI ve tried saving the clean version to the system again and have attached it.. Heather, please check the sections you noticed before and see if they are okay this time.. If not, I ll try to get one of our Word experts to the extent anyone is!. to work on it and will fax it to you to use in the interim.\tto work on it and will fax it to you to use in the interim.\tPlease delete the one sent to you yesterday.\n",
      "Please ensure that you have provided an\tThis normally occurs on the day prior to the first day of trading.. If you still wish to participate, you will be required to respond to us by 3:00 am ET of the following business day to reaffirm your previously submitted Conditional Offer.. Please note that the e-mail notification will likely be sent after the market closes.\tPlease note that the e-mail notification will likely be sent after the market closes.\tPlease ensure that you have provided an e-mail address that you are able to access after that time.\n",
      "Please start forwarding these requests to myself and Darron Giron.\tI just left you a voice mail and wanted to follow it up with an email regarding the termination of deals.\tI just left you a voice mail and wanted to follow it up with an email regarding the termination of deals.\tPlease start forwarding these requests to myself and Darron Giron.\n",
      "Susan:  would you please contact this party to see if they have comments?\t\t\tSusan: would you please contact this party to see if they have comments?\n",
      "Take a look and see what s in store for us this year at CBI s 3rd Annual Financing US Projects Conference.\thttp://www.cbinet.com/confinfo/logos/ PHONE .jpg KBC Bank. October 19, 2001. Dear Mr Mark Haedicke:. Lions.. tigers and bears and another conference .. .. .. oh no!. WAIT - don t be like me and just put this one with all the other junk e-mail you receive and we know where that goes.\tWAIT - don t be like me and just put this one with all the other junk e-mail you receive and we know where that goes.\tTake a look and see what s in store for us this year at CBI s 3rd Annual Financing US Projects Conference.\n",
      "Please contact me should you have any other  questions.\t?\t?\tPlease contact me should you have any other questions.\n",
      "Pls print this page for me as\tlets talk in am--did we pay SET to forgo their option on the Gallup space?????. ON the gross margin spreads mentioned in 3, do we hedge the fuel componenet or is that the customer s problem?\tON the gross margin spreads mentioned in 3, do we hedge the fuel componenet or is that the customer s problem?\tPls print this page for me as I can t. DF\n",
      "Please call me to discuss.\tIn order to avoid the tax gross-up of approximately 130,000, the 378,000 will be amortized over the term of the contract and booked as pre-paid transportation fees.. The net effect of this will be zero because the slight increase/MMBtu which will show up on the monthly transportation invoice will be negated by the corresponding credit for the pre-paid transportation.\tThe net effect of this will be zero because the slight increase/MMBtu which will show up on the monthly transportation invoice will be negated by the corresponding credit for the pre-paid transportation.\tPlease call me to discuss.\n",
      "I need about 15 minute to talk through a couple of CommodityLogic points that Tom and I reviewed this morning - mostly in relation to the  CommodityHub.   If you get a chance this evening or in the later afternoon tomorrow, please give me a call.\t\t\tMark -\n",
      "please review and make changes on this email as you wish.\tGary, Listed below are the goals that i sent in for your financial trading group.\tGary, Listed below are the goals that i sent in for your financial trading group.\t20 please review and make changes on this email as you wish.\n",
      "Please call me with any questions.\tClement -- Attached are redlined and clean formats of 1 EPMI Amended and Restated Guarantee multicommodity, excepting power Agreement and 2 Enron Corp. Guaranty supporting wholesale power trading activities of EPMI which I am printing and sending to you in signature counterpart.. Please note in the last paragraph of the second guaranty referenced above that the earlier-issued guaranty of the same date is being superseded and cancelled upon issuance of item 2.\tPlease note in the last paragraph of the second guaranty referenced above that the earlier-issued guaranty of the same date is being superseded and cancelled upon issuance of item 2.\tPlease call me with any questions.\n",
      "Please also contact the sender immediately and delete the original.\tLikewise could you als o forward it to Ian Wood.. See attached file: efetsos.doc. Thanks Brian. DISCLAIMER. This E-mail is private and confidential and may be covered by legal professional privilege.. It is therefore only intended for the addressee s .. If you are not one of those persons you must not read, copy, store, disclose, use or distribute its contents.\tIf you are not one of those persons you must not read, copy, store, disclose, use or distribute its contents.\tPlease also contact the sender immediately and delete the original.\n",
      "Give me a call and we will set something up.\tI have been out of the office at the Orange Bowl game and have just returned within the last hour.. That probably would make next week better for me than this week.\tThat probably would make next week better for me than this week.\tGive me a call and we will set something up.\n",
      "at the agenda, please do so and let me know.\tKen::. Attached is the draft agenda and participant list for Davos.. Our Europe government affairs group felt that it would be best if you spoke on energy liberalization and globalization with gas and electricity rather than one of the other topics since it has more direct implications for our profit centers.\tOur Europe government affairs group felt that it would be best if you spoke on energy liberalization and globalization with gas and electricity rather than one of the other topics since it has more direct implications for our profit centers.\tIf you would rather switch to another panel after you look at the agenda, please do so and let me know.\n",
      "So BREAK go ahead and pencil me in for Mon and Tuesday the 13th and 14th.\t\t\tGreat - we will look forward to seeing you on the 13th and 14th.\n",
      "Please run a report from the\tI made some big changes to the index curves tonight.. Please run a new P L early in the morning in order to estimate what the changes in book value will be.. I will need to let John Lavorado know about the changes to the curves before we decide to book these tomorrow.\tI will need to let John Lavorado know about the changes to the curves before we decide to book these tomorrow.\tPlease run a report from the transport model so that I may see the changes to the delivery points.\n",
      "Please carefully review all awards before submitting for payment and\t2000 Pool Allocation 20,035 YTD Spending 1,500 Balance 18,535. A detail report of the awards processed year to date will be sent via interoffice mail today.\tA detail report of the awards processed year to date will be sent via interoffice mail today.\tPlease carefully review all awards before submitting for payment and processing.\n",
      "please email them to me as well?\tAccording to Johnnie, I would not be pay any less buying from the factory versus purchasing the panels through him since my site is within his region.. Assuming this is true, I will work directly with him.. I believe he has sent you my plans.. They were prepared by Kipp Flores architects.. Can you confirm that the price is the same direct from the factory or from the distributor?\tCan you confirm that the price is the same direct from the factory or from the distributor?\tIf you have the estimates worked up for Johnnie will you please email them to me as well?\n",
      "Please give me your expectations as well.\tBrian, please give me your thoughts via e -mail asap.. I believe this will be the most effective tool.\tI believe this will be the most effective tool.\tPlease give me your expectations as well.\n"
     ]
    },
    {
     "name": "stdout",
     "output_type": "stream",
     "text": [
      "In preparation for our discussion tomorrow, can you run VAR numbers for some\t\t\tVlady: In preparation for our discussion tomorrow, can you run VAR numbers for some mini-portfolios:\r\n",
      "Please respond to virginia clarkfineart.com\tIs there room on the price if I give you a firm commitment.. The ebay price is significantly discounted but they are not ready to close the deal yet either.. If you can t get them down on the price, it is worth me chasing down the other option for a while.. Please let me know via email and I will attempt to be responsive via odd time zones.. Thanks, mike\tThanks, mike\tVirginia E. Repasky virginia clarkfineart.com on 09/25/2000 11:04:57 PM Please respond to virginia clarkfineart.com To: Mike.McConnell enron.com cc: Subject: Re: Lichtenstein s Blue Note\r\n",
      "Please set up for Jan 1 start\tDone.. Deal 210603. I just plugged/fugged/guessed at the demand charge.. When Dana does her voodoo stuff, this deal will show up.. Ms. Franklin, this might be my last contract to set up he he he evil snicker!. .. - ASAP for billing purposes. Hey Chris, CES/CNR Contract 515.. Can you set this up just like the other CNR contracts that you have set up in the past..\tCan you set this up just like the other CNR contracts that you have set up in the past..\tPlease set up for Jan 1 start date.\r\n",
      "Please check back with this site for future updates on plans for the new trading platform.\tCOMING SOON. Enron is working with potential industry partners to assemble a new venture which will combine Enron s trading and market - making expertise with the financial strength and reliability of an A rated entity.. Upon formation of this new company, we anticipate that we will be able to announce the launch of a new trading platform for North American gas and power, providing services similar to those previously available on EnronOnline.\tUpon formation of this new company, we anticipate that we will be able to announce the launch of a new trading platform for North American gas and power, providing services similar to those previously available on EnronOnline.\tPlease check back with this site for future updates on plans for the new trading platform.\r\n",
      "Please take a few minutes to participate in this survey.\tBut some corporations do a better job in making their corporate information accessible and useable for the individual investor.. We want to know which U.S. corporations, in your opinion, are the best at communicating with the individual investor.. The companies that receive the most votes will be recognized at the Investor Relations U.S. 2002 Awards.\tThe companies that receive the most votes will be recognized at the Investor Relations U.S. 2002 Awards.\tPlease take a few minutes to participate in this survey.\r\n",
      "Please print this e-mail message or record the\tPhillip,. Thank you for using the Alamo Rent A Car website to make your car rental reservation.. Your Confirmation Number is: PHONE . You will need this number to pick up your car, make any changes to, or cancel your reservation.\tYou will need this number to pick up your car, make any changes to, or cancel your reservation.\tPlease print this e-mail message or record the confirmation number to pick up your rental.\r\n",
      "PLease look into the title change we discussed.\t\t\tPLease look into the title change we discussed.\r\n",
      "Please give me a call after you have had a chance to\tLaurie,. Thanks for your call.. Attached is a redline version incorporating ENA and Cabot s revisions.\tAttached is a redline version incorporating ENA and Cabot s revisions.\tPlease give me a call after you have had a chance to review same.\r\n",
      "Also, please make note to change the definition\tSusan,. Per my earlier e-mail, we have finalized the credit terms for this ISDA see attached credit worksheet .\tPer my earlier e-mail, we have finalized the credit terms for this ISDA see attached credit worksheet .\tAlso, please make note to change the definition for Net Worth that used in the drafts.\r\n",
      "please send your exception time to Taffy Milligan.\t\t\tI will be on vacation when time sheets are due Tuesday, May 15 ; therefore, please send your exception time to Taffy Milligan.\r\n",
      "please forward to all in our group.\t\t\tplease forward to all in our group.\r\n",
      "Please can you send this through/resend.\tTana,. I have just been through the confirms and we have i the currency swap, ii the interest rate swap, iii and the PPI swap. but we did not receive the commodity swap fixed for floating UK power prices .\tbut we did not receive the commodity swap fixed for floating UK power prices .\tPlease can you send this through/resend.\r\n",
      "Please prepare an amendment to the existing ISDA Master Agreement between Merced Irrigation District and ENA dated 3/25/99.\tSwaps Legal Team:\tSwaps Legal Team:\tPlease prepare an amendment to the existing ISDA Master Agreement between Merced Irrigation District and ENA dated 3/25/99.\r\n",
      "Please forward responses directly to:  Chris Clark/NA/ENRON and myself.\td You desire to have some independent security measures to deter or detect tampering.. I suggest given the very short time fuse, that we first install the station and then develop security measures.. e We will feed the data directly to the Enron weather desk.. Will any other parties require real-time access to this data?\tWill any other parties require real-time access to this data?\tPlease forward responses directly to: Chris Clark/NA/ENRON and myself.\r\n",
      "Jim - please confirm.\tYes - I m pretty sure.\tYes - I m pretty sure.\tJim - please confirm.\r\n",
      "Kindly review their form and provide any comments it any.\tGerald!. We are trying to establish credit for future transactions with the listed counterparty.. I forward to them a format of our guaranty Bridgeline Gas Marketing, LLC and attached is their format.. The proposed reciprocal amount is 5.00MM.\tThe proposed reciprocal amount is 5.00MM.\tKindly review their form and provide any comments it any.\r\n",
      "PLEASE RESPOND TO THE BELOW REQUEST ASAP\t\t\tTEXAS FINANCE FESTIVAL ATTENDEE PLEASE RESPOND TO THE BELOW REQUEST ASAP\r\n",
      "Can you call back the restaurant and switch our reservation to\tWe ve picked up two more diners for La Fogata in San Antonio, Andrea Calo and Yao Apasu.\tWe ve picked up two more diners for La Fogata in San Antonio, Andrea Calo and Yao Apasu.\tCan you call back the restaurant and switch our reservation to two tables of 8 people, instead of one table of 14.\r\n",
      "Could you please add the listed individuals from Federal Government Affairs\tyes -- just make sure the working group leaders know.. SK - STILL OK TO KEEP ADDING PEOPLE?. mm. Elizabeth, Ginger or Maureen I apologize that I don t know which one of you is handling this issue :\tElizabeth, Ginger or Maureen I apologize that I don t know which one of you is handling this issue :\tCould you please add the listed individuals from Federal Government Affairs to the following working groups, as selected by Joe Hillings:\r\n",
      "Please provide feedback on the employee s  listed below by accessing the\tNOTE: YOU WILL RECEIVE THIS MESSAGE EACH TIME YOU ARE SELECTED AS A REVIEWER.. You have been selected to participate in the Mid-Year 2000 Performance Management process by providing meaningful feedback on specific employee s that have been identified for you.. Your feedback plays an important role in the performance management process, and your participation is very critical to the success of Enron s Performance Management goals.\tYour feedback plays an important role in the performance management process, and your participation is very critical to the success of Enron s Performance Management goals.\tPlease provide feedback on the employee s listed below by accessing the Performance Management System PEP and completing an online feedback form as described in the Performance Management Quick Reference Guide .\r\n",
      "Pls print and hold for my Thurs meeting.\t\t\tPls print and hold for my Thurs meeting.\r\n",
      "If for some reason there is a problem with your appointed time please send Tracy Geaccone or myself an email.\t\t\tIf for some reason there is a problem with your appointed time please send Tracy Geaccone or myself an email.\r\n",
      "copy, use or disclose this communication to others; also please notify the\tThis message and any attachments are intended for the individual or entity named above.\tThis message and any attachments are intended for the individual or entity named above.\tIf you are not the intended recipient, please do not read, copy, use or disclose this communication to others; also please notify the sender by replying to this message, and then delete it from your system.\r\n",
      "Please check with\tThe original schedule was 50 MW s TEP GEN PV EPE XCHANGE - EPMI - SRP-MIRANT-CISO T PVD/SP15.. Mirant was cut by the CISO 25 mw HE 1-6, 8 mw HE 23, and 25 mw HE 24.. Please refer to Mirant tag 3316 for this revised schedule.. Mirant owes us a sink for 25mw HE 1-6, 8mw HE 23, and 25mw HE 24 and has decided to provide the sink on a real-time basis.\tMirant owes us a sink for 25mw HE 1-6, 8mw HE 23, and 25mw HE 24 and has decided to provide the sink on a real-time basis.\tPlease check with Mirant to assure they have a sink for these hours.\r\n",
      "Chris I have thursday off so give me a call and I will go with you  home:\t\t\tChris I have thursday off so give me a call and I will go with you home: PHONE , cell PHONE .\r\n",
      "Please send them to Mary Clark by e-mail, fax  713-853-6790  or\tThe meeting will be streamed live on IP-TV to employees in Houston, Omaha, Portland, New York, Calgary, Toronto, London, Stockholm, Frankfurt and Amsterdam.. For the first time, we will broadcast the meeting via video teleconference to employees in Sao Paulo, Rio de Janeiro, Buenos Aires and San Juan.. As always, we welcome your questions and will answer any questions submitted in advance.\tAs always, we welcome your questions and will answer any questions submitted in advance.\tPlease send them to Mary Clark by e-mail, fax PHONE or interoffice mail EB4704C .\r\n",
      "Please look us up some\tBitching is what I do, so I will continue to bitch.\tBitching is what I do, so I will continue to bitch.\tPlease look us up some sports bar near Texarkana so I can watch some NFL action after I kick your butts at golf.\r\n",
      "Please call the EWS Development Center  X 3-0357.\tYou re invited to search and register:. Tuesday, March 6. Investinme.enron.com is a new tool to help you manage your professional development.. It brings together the listings of internal programs, as well as access to a database of external programs, on-line courses and materials. Double Click and select launch.. Web site demonstrations EB 568 on March 5, from 1-5 PM every hour , and March 6, from 9-5 every hour. Questions?\tQuestions?\tPlease call the EWS Development Center X 3-0357.\r\n",
      "To subscribe to the list by email, send a blank message to:\tReferences. 1. http://www.dictionary.com/search?q octogenarian 2. http://www.fortune.com/. .. .. .. .. .. .. .. .. .. .. .. .. .. .. .. .. .. .. .. .. .. .. .. .. .. .. .. .. .. .. .. .. .. You are currently subscribed to Dictionary.com Word of the Day as: matt.motley enron.com\tYou are currently subscribed to Dictionary.com Word of the Day as: matt.motley enron.com\tTo subscribe to the list by email, send a blank message to: join-WordoftheDay lists.lexico.com\r\n",
      "Can you please help me to resolve this ASAP.\t\t\tCan you please help me to resolve this ASAP.\r\n",
      "Can you please change the bottom start/end date to reflect 11/21 - 11/30.\t\t\tCan you please change the bottom start/end date to reflect 11/21 - 11/30.\r\n",
      "Please respond to  cbpres austin.rr.com\t\t\tGeorge Richards cbpres austin.rr.com on 03/13/2001 11:29:49 PM Please respond to cbpres austin.rr.com To: Phillip Allen pallen enron.com , Keith Holst kholst enron.com cc: Larry Lewter LLEWTER austin.rr.com , Claudia L. Crocker clclegal2 aol.com Subject: Bishops Corner, Ltd.\r\n",
      "Please notice the updated format.\t\t\tPlease notice the updated format.\r\n"
     ]
    },
    {
     "name": "stdout",
     "output_type": "stream",
     "text": [
      "pls print for me.\t\t\tpls print for me.\r\n",
      "Please let her know once a final order\tman, do i OWE you a phone call.. please don t hold it against me.. sort of well, you know, a little nuts right now.. but i will reconnect.. i promise.. SCE is awaiting a commission order to auction off its SO2 credits.. Janel Guerrero is very interested in this.\tJanel Guerrero is very interested in this.\tPlease let her know once a final order is issued.\r\n",
      "Please review and let me know your thoughts on their comments.\t\t\tPlease review and let me know your thoughts on their comments.\r\n",
      "please take a few minutes today to fill out Enron s annual employee feedbac\tForwarded by Scott Neal/HOU/ECT on 10/20/2000 09:06 AM 20. Is available: through Friday, Oct. 27 Is located at: survey.enron.com. You only have one more week to check your pulse.\tYou only have one more week to check your pulse.\tYour input is crucial, so 20 please take a few minutes today to fill out Enron s annual employee feedbac k 20 survey.\r\n",
      "Julie  - could you also forward me this agreement assuming you have it?\tLet me know if you would like to see that copy as well.. Thanks.. Julie. Tana - we also have an agreement that has either been signed or is about to be signed with Arthur Andersen whereby they provide audit services for our EnronOnline Price Reports aka indices .. Julie Ferrara should have this agreement if one of them hasn t already sent it to you.\tJulie Ferrara should have this agreement if one of them hasn t already sent it to you.\tJulie - could you also forward me this agreement assuming you have it?\r\n",
      "If your request is urgent please send me an email and tell me so.\tI will be out of the office until Monday the 7th of January.\tI will be out of the office until Monday the 7th of January.\tIf your request is urgent please send me an email and tell me so.\r\n",
      "Could you please make every effort to get with Amy Baird\tDan and Jeff,. Ormet would like to finalize this transaction by the end of this week Friday, Nov 17 .\tOrmet would like to finalize this transaction by the end of this week Friday, Nov 17 .\tCould you please make every effort to get with Amy Baird to resolve those two legal issues from her Oct 13th memo items 3 4 .\r\n",
      "try and answer these tomorrow, so please write down your answers to each\tHere are the questions from Allegheny regarding the Gleason plant.\tHere are the questions from Allegheny regarding the Gleason plant.\tWe will try and answer these tomorrow, so please write down your answers to each question and fax back to me at PHONE .\r\n",
      "Kara/Heidi, please give this to Brian and Melissa.\t\t\tKara/Heidi, please give this to Brian and Melissa.\r\n",
      "Please have him e-mail it to me at Karen.Marshall Enron.com\tI just noticed that you plan to fax two additional resumes.. If so, when can I expect the additional resumes?. Karen. Vince,. I will handle the offer letters for the candidates.. I have the resumes for Darten Williams and Sevil Yaman.. I know you only provided the e-mail memo for Paulo Rocha, but I really need his resume in order to capture the necessary information for his offer letter.\tI know you only provided the e-mail memo for Paulo Rocha, but I really need his resume in order to capture the necessary information for his offer letter.\tPlease have him e-mail it to me at Karen.Marshall Enron.com\r\n"
     ]
    }
   ],
   "source": [
    "!python contextMapper.py < ../data/epa_message_task_samp.txt"
   ]
  },
  {
   "cell_type": "code",
   "execution_count": 101,
   "metadata": {},
   "outputs": [],
   "source": [
    "!python contextMapper.py < ../data/epa_message_task.csv > ../data/lim_context_task_.txt"
   ]
  },
  {
   "cell_type": "code",
   "execution_count": 102,
   "metadata": {},
   "outputs": [
    {
     "name": "stdout",
     "output_type": "stream",
     "text": [
      "    6732  429459 2459779 ../data/lim_context_task_.txt\r\n"
     ]
    }
   ],
   "source": [
    "!wc ../data/lim_context_task_.txt"
   ]
  },
  {
   "cell_type": "code",
   "execution_count": 103,
   "metadata": {},
   "outputs": [
    {
     "name": "stdout",
     "output_type": "stream",
     "text": [
      "    6734 1454298 11971256 ../data/epa_message_task.csv\r\n"
     ]
    }
   ],
   "source": [
    "!wc ../data/epa_message_task.csv"
   ]
  },
  {
   "cell_type": "code",
   "execution_count": null,
   "metadata": {},
   "outputs": [],
   "source": []
  }
 ],
 "metadata": {
  "kernelspec": {
   "display_name": "Python 3",
   "language": "python",
   "name": "python3"
  },
  "language_info": {
   "codemirror_mode": {
    "name": "ipython",
    "version": 3
   },
   "file_extension": ".py",
   "mimetype": "text/x-python",
   "name": "python",
   "nbconvert_exporter": "python",
   "pygments_lexer": "ipython3",
   "version": "3.7.4"
  }
 },
 "nbformat": 4,
 "nbformat_minor": 2
}
