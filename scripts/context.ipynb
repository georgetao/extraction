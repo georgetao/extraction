{
 "cells": [
  {
   "cell_type": "markdown",
   "metadata": {},
   "source": [
    "Cleaning Script"
   ]
  },
  {
   "cell_type": "code",
   "execution_count": 814,
   "metadata": {},
   "outputs": [
    {
     "name": "stdout",
     "output_type": "stream",
     "text": [
      "Overwriting contextMapper.py\n"
     ]
    }
   ],
   "source": [
    "%%writefile contextMapper.py\n",
    "#!/usr/bin/python\n",
    "\n",
    "# imports\n",
    "import sys\n",
    "import re\n",
    "import numpy as np\n",
    "from nltk.tokenize import sent_tokenize\n",
    "\n",
    "# Regexes\n",
    "HTML = r'</?\\w+/?>|>|<'\n",
    "BR = r'</?br/?>'\n",
    "BRBR = BR+BR\n",
    "MARK = r'</?mark/?>|>|<'\n",
    "WHITE = r'\\s+'\n",
    "HYPHENS = r'---+'\n",
    "YW = \"you wrote:\"\n",
    "\n",
    "EMAIL_TIME = \"[0-9]?[0-9]:[0-9][0-9]\\s[AP]M\"\n",
    "EA = r\"\\b[A-Za-z0-9._%+-]+@[A-Za-z0-9.-]+\\.[A-Za-z]{2,}\\b\"\n",
    "PH = r\"(\\d{0,2}[\\s\\.-]{0,3}\\(?\\d{0,3}\\)?[\\s\\.-]{0,3}\\d{3}[\\s\\.-]{0,3}\\d{4})\"\n",
    "\n",
    "BLACK = \"[^A-Za-z0-9\\s\\?!,\\.;:/-]+\"\n",
    "\n",
    "\n",
    "\n",
    "# Strings\n",
    "BREAK = 'BREAK'\n",
    "FORWARD = 'Forwarded by'\n",
    "SPACE = ' '\n",
    "EMAIL = ' EMAILADDRESS '\n",
    "PHONE = ' PHONE '\n",
    "\n",
    "# components\n",
    "email_components = [\n",
    "    'Date:',\n",
    "    'From:',\n",
    "    'To:',\n",
    "    'Subject:',\n",
    "    'Re:',\n",
    "    'Mime-Version:',\n",
    "    'Content-Type:',\n",
    "    'Content-Transfer-Encoding:',\n",
    "    '-From:',\n",
    "    '-To:',\n",
    "    '-cc:',\n",
    "    '-bcc:',\n",
    "    '-Folder:',\n",
    "    '-Origin:',\n",
    "    '-FileName:'\n",
    "]\n",
    "\n",
    "def make_regex(lst):\n",
    "    return '|'.join(lst)\n",
    "\n",
    "break_regex = make_regex([BRBR, HYPHENS, YW])\n",
    "comp_regex = make_regex(email_components+[EMAIL_TIME])\n",
    "\n",
    "def clean(text):\n",
    "    text = re.sub(break_regex, BREAK, text)\n",
    "    text = re.sub(HTML, SPACE, text)\n",
    "    text = re.sub(BLACK, SPACE, text)\n",
    "    text = text.strip()\n",
    "    return text\n",
    "\n",
    "def clean_info(text):\n",
    "    text = re.sub(EA, EMAIL, text)\n",
    "    text = re.sub(PH, PHONE, text)\n",
    "    text = re.sub(WHITE, SPACE, text)\n",
    "    # text = re.sub(BLACK, SPACE, text)\n",
    "    text = text.strip()\n",
    "    return text\n",
    "\n",
    "for line in sys.stdin:\n",
    "   \n",
    "    try:\n",
    "        # load\n",
    "        message, task = line.split('\\t')\n",
    "        # clean\n",
    "        task, message = clean(task), clean(message)    \n",
    "        sents = sum([sent_tokenize(m) for m in message.split(BREAK)], [])\n",
    "\n",
    "        # identify entire task sentence\n",
    "        i = np.argmax([bool(re.search(task, s)) for s in sents])\n",
    "        ts = sents[i]\n",
    "\n",
    "        # identify context\n",
    "        if i > 0 and not re.search(comp_regex, sents[i-1]):\n",
    "            cs = sents[i-1]\n",
    "            context_sents = [s for s in sents[:i-1] if not re.search(comp_regex, s)]\n",
    "            context = '. '.join(context_sents)\n",
    "        else:\n",
    "            cs, context = '',''\n",
    "\n",
    "        # print\n",
    "        print(f'{task}\\t{clean_info(context)}\\t{clean_info(cs)}\\t{clean_info(ts)}')\n",
    "        \n",
    "    except:\n",
    "        continue\n"
   ]
  },
  {
   "cell_type": "code",
   "execution_count": 815,
   "metadata": {},
   "outputs": [],
   "source": [
    "!chmod +x contextMapper.py"
   ]
  },
  {
   "cell_type": "code",
   "execution_count": 816,
   "metadata": {},
   "outputs": [],
   "source": [
    "!python contextMapper.py < ../data/epa_message_task.csv > ../data/context_task.txt "
   ]
  },
  {
   "cell_type": "code",
   "execution_count": 817,
   "metadata": {},
   "outputs": [
    {
     "name": "stdout",
     "output_type": "stream",
     "text": [
      "    6732  511627 2951650 ../data/context_task.txt\r\n"
     ]
    }
   ],
   "source": [
    "!wc ../data/context_task.txt"
   ]
  },
  {
   "cell_type": "code",
   "execution_count": 818,
   "metadata": {},
   "outputs": [
    {
     "name": "stdout",
     "output_type": "stream",
     "text": [
      "    6734 1454298 11971256 ../data/epa_message_task.csv\r\n"
     ]
    }
   ],
   "source": [
    "!wc ../data/epa_message_task.csv"
   ]
  },
  {
   "cell_type": "code",
   "execution_count": null,
   "metadata": {},
   "outputs": [],
   "source": []
  }
 ],
 "metadata": {
  "kernelspec": {
   "display_name": "Python 3",
   "language": "python",
   "name": "python3"
  },
  "language_info": {
   "codemirror_mode": {
    "name": "ipython",
    "version": 3
   },
   "file_extension": ".py",
   "mimetype": "text/x-python",
   "name": "python",
   "nbconvert_exporter": "python",
   "pygments_lexer": "ipython3",
   "version": "3.7.4"
  }
 },
 "nbformat": 4,
 "nbformat_minor": 2
}
