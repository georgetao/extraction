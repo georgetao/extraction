{
 "cells": [
  {
   "cell_type": "markdown",
   "metadata": {},
   "source": [
    "Cleaning Script"
   ]
  },
  {
   "cell_type": "code",
   "execution_count": 8,
   "metadata": {},
   "outputs": [],
   "source": [
    "!tail ../data/epa_message_task.csv > ../data/epa_message_task_samp.txt"
   ]
  },
  {
   "cell_type": "code",
   "execution_count": 21,
   "metadata": {},
   "outputs": [
    {
     "name": "stdout",
     "output_type": "stream",
     "text": [
      "Overwriting contextMapper.py\n"
     ]
    }
   ],
   "source": [
    "%%writefile contextMapper.py\n",
    "#!/usr/bin/python\n",
    "\n",
    "# imports\n",
    "import sys\n",
    "import re\n",
    "import numpy as np\n",
    "from bs4 import BeautifulSoup\n",
    "from nltk.tokenize import sent_tokenize\n",
    "\n",
    "# Regexes\n",
    "HTML = r'</?\\w+/?>|>|<'\n",
    "BR = r'</?br/?>'\n",
    "MARK = r'</?mark/?>|>|<'\n",
    "WHITE = r'\\s+'\n",
    "FORWARD = 'Forwarded by'\n",
    "SPACE = ' '\n",
    "\n",
    "# helper functions\n",
    "# erase_html = lambda r: BeautifulSoup(r, 'html5lib').get_text().strip()\n",
    "\n",
    "# def erase_html(text):\n",
    "#     text = re.sub(HTML, SPACE, text)\n",
    "#     text = re.sub(WHITE, SPACE, text)\n",
    "#     text = text.strip()\n",
    "#     return text\n",
    "\n",
    "def erase_html(text):\n",
    "    text = re.sub(BR, '\\n', text)\n",
    "    text = re.sub(MARK, SPACE, text)\n",
    "    text = re.sub(WHITE, SPACE, text)\n",
    "    text = text.strip()\n",
    "    return text\n",
    "\n",
    "for line in sys.stdin:\n",
    "    # load\n",
    "    message, task = line.split('\\t')\n",
    "    \n",
    "    # clean\n",
    "    task, message = erase_html(task), erase_html(message)\n",
    "    sents = sent_tokenize(message)\n",
    "    \n",
    "    # identify task sentence\n",
    "    i = np.argmax([bool(re.search(task, s)) for s in sents])\n",
    "    ts = sents[i]\n",
    "    \n",
    "    if i > 0:\n",
    "        cs = sents[i-1]\n",
    "    else:\n",
    "        cs = ''\n",
    "    \n",
    "    # print(f'{cs}\\t{ts}')\n",
    "    \n",
    "    print(50*'=')\n",
    "    print('TASK', task)\n",
    "    print('CCCC', cs)\n",
    "    print('TSTS', ts)\n",
    "    # print('####', message)\n",
    "\n",
    "    \n",
    "   \n"
   ]
  },
  {
   "cell_type": "code",
   "execution_count": 22,
   "metadata": {},
   "outputs": [],
   "source": [
    "!chmod +x contextMapper.py"
   ]
  },
  {
   "cell_type": "code",
   "execution_count": 23,
   "metadata": {},
   "outputs": [],
   "source": [
    "!python contextMapper.py < ../data/epa_message_task_samp.txt > ../data/context_ts.txt "
   ]
  },
  {
   "cell_type": "code",
   "execution_count": 24,
   "metadata": {},
   "outputs": [
    {
     "name": "stdout",
     "output_type": "stream",
     "text": [
      "==================================================\r\n",
      "TASK pls print for me.\r\n",
      "CCCC \r\n",
      "TSTS \" mark pls print for me.\r\n",
      "==================================================\r\n",
      "TASK Please let her know once a final order\r\n",
      "CCCC Janel Guerrero is very interested in this.\r\n",
      "TSTS mark Please let her know once a final order /mark is issued.\r\n",
      "==================================================\r\n",
      "TASK Please review and let me know your thoughts on their comments.\r\n",
      "CCCC \r\n",
      "TSTS \" mark Please review and let me know your thoughts on their comments.\r\n",
      "==================================================\r\n",
      "TASK please take a few minutes today to fill out Enron's annual employee feedbac=\r\n",
      "CCCC ---------------------- Forwarded by Scott Neal/HOU/ECT on 10/20/2000 09:06 = AM=20 --------------------------- =20 =09Enron North America Corp. =09 =09From: The Pulse @ ENRON 10/19/2000 08:26 PM =09 Sent by: Enron Announcements@ENRON To: The Pulse mailout cc: =20 Subject: IMPORTANT MESSAGE FROM OFFICE OF THE CHAIRMAN Is available: through Friday, Oct. 27 Is located at: survey.enron.com You only have one more week to check your pulse.\r\n",
      "TSTS Your input is crucial, so= =20 mark please take a few minutes today to fill out Enron's annual employee feedbac= /mark k=20 survey.\r\n",
      "==================================================\r\n",
      "TASK Julie - could you also forward me this agreement assuming you have it?\r\n",
      "CCCC Julie Ferrara should have this agreement if one of them hasn't already sent it to you.\r\n",
      "TSTS mark Julie - could you also forward me this agreement assuming you have it?\r\n",
      "==================================================\r\n",
      "TASK If your request is urgent please send me an email and tell me so.\r\n",
      "CCCC I will be out of the office until Monday the 7th of January.\r\n",
      "TSTS mark If your request is urgent please send me an email and tell me so.\r\n",
      "==================================================\r\n",
      "TASK Could you please make every effort to get with Amy Baird\r\n",
      "CCCC Dan and Jeff, Ormet would like to finalize this transaction by the end of this week (Friday, Nov 17).\r\n",
      "TSTS mark Could you please make every effort to get with Amy Baird /mark to resolve those two legal issues from her Oct 13th memo (items 3&4).\r\n",
      "==================================================\r\n",
      "TASK try and answer these tomorrow, so please write down your answers to each\r\n",
      "CCCC \"-Origin: Rogers-B X-FileName: brogers.nsf Here are the questions from Allegheny regarding the Gleason plant.\r\n",
      "TSTS We will mark try and answer these tomorrow, so please write down your answers to each /mark question and fax back to me at (713) 646-8863.\r\n",
      "==================================================\r\n",
      "TASK Kara/Heidi, please give this to Brian and Melissa.\r\n",
      "CCCC \r\n",
      "TSTS scott.hendrickson@enron.com, katherine.kelly@enron.com, victor.lamadrid@enron.com, joann.collins@enron.com, robert.allwein@enron.com, scott.neal@enron.com X-From: Joan Veselack X-To: hboyd@columbiaenergygroup.com, kdestep@columbiaenergygroup.com X-cc: mstiles@columbiaenergygroup.com, knovsek@columbiaenergygroup.com, Chris Germany, Dick Jenkins, Scott Hendrickson, Katherine L Kelly, Victor Lamadrid, Joann Collins, Robert Allwein, Scott Neal X-bcc: X-Folder: \\Chris_Germany_Dec2000\\Notes Folders\\Discussion threads X-Origin: Germany-C X-FileName: cgerman.nsf mark Kara/Heidi, please give this to Brian and Melissa.\r\n",
      "==================================================\r\n",
      "TASK Please have him e-mail it to me at Karen.Marshall@Enron.com\r\n",
      "CCCC I know you only provided the e-mail memo for Paulo Rocha, but I really need his resume in order to capture the necessary information for his offer letter.\r\n",
      "TSTS mark Please have him e-mail it to me at Karen.Marshall@Enron.com /mark Thanks, Karen Marshall Recruiting Manager\r\n"
     ]
    }
   ],
   "source": [
    "!cat ../data/context_ts.txt "
   ]
  },
  {
   "cell_type": "code",
   "execution_count": 251,
   "metadata": {},
   "outputs": [],
   "source": [
    "h = ' hello   '.strip()"
   ]
  },
  {
   "cell_type": "code",
   "execution_count": 252,
   "metadata": {},
   "outputs": [
    {
     "data": {
      "text/plain": [
       "'hello'"
      ]
     },
     "execution_count": 252,
     "metadata": {},
     "output_type": "execute_result"
    }
   ],
   "source": [
    "h"
   ]
  },
  {
   "cell_type": "code",
   "execution_count": null,
   "metadata": {},
   "outputs": [],
   "source": []
  }
 ],
 "metadata": {
  "kernelspec": {
   "display_name": "Python 3",
   "language": "python",
   "name": "python3"
  },
  "language_info": {
   "codemirror_mode": {
    "name": "ipython",
    "version": 3
   },
   "file_extension": ".py",
   "mimetype": "text/x-python",
   "name": "python",
   "nbconvert_exporter": "python",
   "pygments_lexer": "ipython3",
   "version": "3.7.4"
  }
 },
 "nbformat": 4,
 "nbformat_minor": 2
}
