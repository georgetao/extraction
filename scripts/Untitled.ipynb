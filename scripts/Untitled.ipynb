{
 "cells": [
  {
   "cell_type": "markdown",
   "metadata": {},
   "source": [
    "Cleaning Script"
   ]
  },
  {
   "cell_type": "code",
   "execution_count": 265,
   "metadata": {},
   "outputs": [],
   "source": [
    "!tail ../data/epa_message_task.csv > ../data/epa_message_task_samp.txt"
   ]
  },
  {
   "cell_type": "code",
   "execution_count": 1,
   "metadata": {},
   "outputs": [
    {
     "name": "stdout",
     "output_type": "stream",
     "text": [
      "Overwriting contextMapper.py\n"
     ]
    }
   ],
   "source": [
    "%%writefile contextMapper.py\n",
    "#!/usr/bin/python\n",
    "\n",
    "# imports\n",
    "import sys\n",
    "import re\n",
    "import numpy as np\n",
    "from bs4 import BeautifulSoup\n",
    "from nltk.tokenize import sent_tokenize\n",
    "\n",
    "# Regexes\n",
    "HTML = r'</?\\w+/?>|>|<'\n",
    "WHITE = r'\\s+'\n",
    "FORWARD = 'Forwarded by'\n",
    "SPACE = ' '\n",
    "\n",
    "# helper functions\n",
    "# erase_html = lambda r: BeautifulSoup(r, 'html5lib').get_text().strip()\n",
    "\n",
    "def erase_html(text):\n",
    "    text = re.sub(HTML, SPACE, text)\n",
    "    text = re.sub(WHITE, SPACE, text)\n",
    "    text = text.strip()\n",
    "    return text\n",
    "\n",
    "# def clean(raw):\n",
    "#     # tokenize into sentences\n",
    "#     sentences = sent_tokenize(erase_html(raw))\n",
    "#     return sentences\n",
    "\n",
    "for line in sys.stdin:\n",
    "    # load\n",
    "    message, task = line.split('\\t')\n",
    "    \n",
    "    # clean\n",
    "    task, message = erase_html(task), erase_html(message)\n",
    "    sents = sent_tokenize(message)\n",
    "    \n",
    "    # identify task sentence\n",
    "    is_task = [bool(re.search(task, s)) for s in sents]\n",
    "    i = np.argmax([bool(re.search(task, s)) for s in sents])\n",
    "    print(is_task)\n",
    "    ts = sents[i]\n",
    "    if i > 0:\n",
    "        cs = sents[i-1]\n",
    "    else:\n",
    "        cs = ''\n",
    "    \n",
    "    # print(f'{cs}\\t{ts}')\n",
    "    print(50*'=')\n",
    "    print('TASK', task)\n",
    "    print('CCCC', cs)\n",
    "    print('TSTS', ts)\n",
    "    print('####', message)\n",
    "\n",
    "    \n",
    "   \n"
   ]
  },
  {
   "cell_type": "code",
   "execution_count": 5,
   "metadata": {},
   "outputs": [],
   "source": [
    "!chmod +x contextMapper.py"
   ]
  },
  {
   "cell_type": "code",
   "execution_count": 6,
   "metadata": {},
   "outputs": [],
   "source": [
    "!python contextMapper.py < ../data/epa_message_task_samp.txt > ../data/context_ts.txt "
   ]
  },
  {
   "cell_type": "code",
   "execution_count": 7,
   "metadata": {},
   "outputs": [
    {
     "name": "stdout",
     "output_type": "stream",
     "text": [
      "[True, False, False, False, False, False, False, False, False, False, False, False, False, False, False, False, False, False, False, False, False, False, False, False, False]\r\n",
      "==================================================\r\n",
      "TASK pls print for me.\r\n",
      "CCCC \r\n",
      "TSTS \" pls print for me.\r\n",
      "#### \" pls print for me. ---------------------- Forwarded by Drew Fossum/ET&S/Enron on 01/25/2001 07:47 AM --------------------------- Susan Scott 01/22/2001 04:07 PM To: Drew Fossum@ENRON, Lee Huber/ET&S/Enron@ENRON cc: Subject: Termination of PG&E agreements After doing some looking, I've reached the same conclusion as you, Lee: if PG&E fails to comply with our request for assurance of creditworthiness, the \"\"Termination\"\" provisions of Section 16.1(b) of our General Terms and Conditions will be triggered. The wording is convoluted, but basically it means: If PG&E fails to perform any obligation under a service agreement, TW may terminate the agreement under the following procedure: 1) TW serves written notice on PG&E that it is in default, and that TW intends to terminate the agreement, 2) PG&E gets 30 days to remedy the default, 3) if PG&E does not remedy the default within 30 days, the agreement shall become null and void. 3 issues + my answers: 1. Is failure to provide assurance of creditworthiness a breach of the service agreement? I think so -- our Form M Service Agreement expressly incorporates the General Terms and Conditions of the tariff, and one of those terms and conditions is that shipper must provide satisfactory assurance of creditworthiness or TW can terminate service. 2. How should Section 16 be read in conjunction with the creditworthiness provisions of Section 13? Section 13 provides that shipper must provide satisfactory assurance of creditworthiness within a reasonable periodor TW does not have to continue service. I see nothing in the tariff that would prevent us from suspending service to PG&E immediately if they fail to comply with our request for assurance of payment within a reasonable time. Simultaneously with our suspending service, we should send the letter of notice pursuant to Section 16. 3. Is termination of service under Section 13 the equivalent of termination of the agreement under Section 16? I do not believe our suspension of service pursuant to Section 13 would result in automatic termination of the contract, nor would it allow PG&E to just walk from the contract; it appears that either party would have to follow the procedure under Section 16 in order to terminate the contract (the notice provisions apply to shipper as well as transporter). Section 13 does not talk about termination of the contract, only termination of service. While I am not satisfied that this is crystal clear under our tariff, since it is not expressly stated, I do think it is the best answer given the fact that the tariff has, in Section 16, a specific procedure for terminating a service agreement. While there is some Texas contract law on implied rescission based on mutual repudiation of the contract, I believe our tariff is controlling here because the tariff provisions I've cited amount to express contractual provisions between the parties governing termination, so there is no reason to go to common law. Drew, in answer to your question, our termination of service is not anticipatory breach because by definition anticipatory breach is repudiation without an excuse. Now for the interesting part. The Bankruptcy Code provides that a utility may not alter, refuse or discontinue service to a debtor solely because of commencement of a bankruptcy action or because a debt owed by the debtor was not paid when due. However, the utility may alter, refuse or discontinue service if neither the trustee nor the debtor, within 20 days after the date of the order for relief, furnished adequate assurance of payment for service after such date. I'm no bankruptcy expert, but my point is simply that our rights may change once a bankruptcy action is filed. The Commission has held that termination of service cannot be inconsistent with federal bankruptcy law: see El Paso Natural Gas Company, 61 FERC P61,302 (1992) (involving El Paso Electric bankruptcy). If you need anything else, let me know. Under ordinary contract law, we would probably have the right to terminate the contract if PG&E is in breach. \"\r\n",
      "[False, False, False, False, False, False, False, True, False, False, False, False]\r\n",
      "==================================================\r\n",
      "TASK Please let her know once a final order\r\n",
      "CCCC Janel Guerrero is very interested in this.\r\n",
      "TSTS Please let her know once a final order is issued.\r\n",
      "#### man, do i OWE you a phone call. please don't hold it against me. sort of well, you know, a little nuts right now. but i will reconnect. i promise. ----- Forwarded by Jeff Dasovich/NA/Enron on 11/30/2000 02:44 PM ----- Mona L Petrochko 11/30/2000 01:07 PM To: Susan J Mara/NA/Enron@ENRON, Jeff Dasovich/NA/Enron@Enron, Sandra McCubbin/NA/Enron@Enron, Marcie Milner/Corp/Enron@ENRON, jbennett@gmssr.com cc: Paul Kaufman Subject: SCE SOx Auction SCE is awaiting a commission order to auction off its SO2 credits. Janel Guerrero is very interested in this. Please let her know once a final order is issued. Thanks. ---------------------- Forwarded by Mona L Petrochko/NA/Enron on 11/30/2000 01:05 PM --------------------------- Janel Guerrero 11/07/2000 04:33 PM To: Mona L Petrochko/NA/Enron@Enron cc: Subject: Thanks for the voice mail/update on SoCal Ed. It makes sense that everything is moving slowly behind the power issues. Talk with you soon!\r\n",
      "[True, False, False, False, False, False, False, False, False]\r\n",
      "==================================================\r\n",
      "TASK Please review and let me know your thoughts on their comments.\r\n",
      "CCCC \r\n",
      "TSTS \" Please review and let me know your thoughts on their comments.\r\n",
      "#### \" Please review and let me know your thoughts on their comments. The MAC section will come out, so disregard those comments. ----- Forwarded by Gerald Nemec/HOU/ECT on 12/28/2000 05:27 PM ----- Janet Dixon jdixon@calpine.com 12/28/2000 05:16 PM To: \"\"'Gerald.Nemec@enron.com'\"\" Gerald.Nemec@enron.com , Brad Barnds BradB@calpine.com , Joe Gorberg joego@calpine.com , Janet Dixon jdixon@calpine.com cc: Stephanie.Miller@enron.com Subject: RE: Doc's for conference call Here are the changes to the Enfolio that Michael and I came up with. Please review and let me know if you have any comments. I spoke with Michael and the document that Reed of PGT mentioned was with Michael is actually the surety bond that Michael has sent to the insurance company for final execution. If you have any credit questions, please call Michael at 650-303-0274 (cell). -----Original Message----- From: Gerald.Nemec@enron.com [mailto:Gerald.Nemec@enron.com] Sent: Thursday, December 28, 2000 3:28 PM To: bradb@calpine.com; joego@calpine.com; jdixon@calpine.com Cc: Stephanie.Miller@enron.com Subject: Doc's for conference call Attached is latest version - due to quick turnaround, there may be a few typo's. Julie, Gerald and I will be present. Talk to you then.... (See attached file: CALPINE CONFIRM5RED.DOC)(See attached file: CalpineAssignRelease6(red).doc)(See attached file: CALPINE CORPORATION.doc) - Enron CALPINE CORPORATION redline Enfolio 12-29-00.doc - Enron CALPINE CORPORATION CLEAN Enfolio 12-29-00.doc\"\r\n",
      "[False, True, False, False, False, False, False, False]\r\n",
      "==================================================\r\n",
      "TASK please take a few minutes today to fill out Enron's annual employee feedbac=\r\n",
      "CCCC ---------------------- Forwarded by Scott Neal/HOU/ECT on 10/20/2000 09:06 = AM=20 --------------------------- =20 =09Enron North America Corp. =09 =09From: The Pulse @ ENRON 10/19/2000 08:26 PM =09 Sent by: Enron Announcements@ENRON To: The Pulse mailout cc: =20 Subject: IMPORTANT MESSAGE FROM OFFICE OF THE CHAIRMAN Is available: through Friday, Oct. 27 Is located at: survey.enron.com You only have one more week to check your pulse.\r\n",
      "TSTS Your input is crucial, so= =20 please take a few minutes today to fill out Enron's annual employee feedbac= k=20 survey.\r\n",
      "#### ---------------------- Forwarded by Scott Neal/HOU/ECT on 10/20/2000 09:06 = AM=20 --------------------------- =20 =09Enron North America Corp. =09 =09From: The Pulse @ ENRON 10/19/2000 08:26 PM =09 Sent by: Enron Announcements@ENRON To: The Pulse mailout cc: =20 Subject: IMPORTANT MESSAGE FROM OFFICE OF THE CHAIRMAN Is available: through Friday, Oct. 27 Is located at: survey.enron.com You only have one more week to check your pulse. Your input is crucial, so= =20 please take a few minutes today to fill out Enron's annual employee feedbac= k=20 survey. It is confidential and only takes about 10 minutes. Give us your= =20 honest, candid feedback =01) we need to know what you think and how you fee= l=20 about your job and about Enron. It's important for you to know that we will respond actively to your=20 comments. We need your help not only to pinpoint and diagnose any existing= =20 problems, but also to help us identify the best solutions. Last year we=20 formed action teams to address the issues that you indicated in the survey,= =20 so let us know if they have helped make Enron a better place to work. Again, please stop what you're doing for just a few minutes today and check= =20 your pulse.\r\n",
      "[False, False, False, False, False, False, False, False, False, False, False, False, True, False, False, False, False, False, False, False]\r\n",
      "==================================================\r\n",
      "TASK Julie - could you also forward me this agreement assuming you have it?\r\n",
      "CCCC Julie Ferrara should have this agreement if one of them hasn't already sent it to you.\r\n",
      "TSTS Julie - could you also forward me this agreement assuming you have it?\r\n",
      "#### -Origin: JONES-T X-FileName: tjones.nsf I do have a copy of those. Please provide me with a copy of the new one when it's signed. Thanks for your help! Julie Ferrara 01/18/2001 09:56 AM To: Paul Goddard/EU/Enron@ENRON cc: Tana Jones/HOU/ECT@ECT Subject: Re: Another Agreement - Arthur Andersen (US) Paul, We are just about to get the long-term agreement with Arthur Andersen signed. I will attach the latest version of this, which we are waiting for AA to give final approval and assign . We do have the short term agreement that was signed to provide the audit of the price reports from Nov. 1-30. I believe Tana does have a copy of this contract. (Tana- I think Claudia Clark also has a copy). Let me know if you would like to see that copy as well. Thanks. Julie Paul Goddard@ENRON 01/18/2001 09:48 AM To: Tana Jones/HOU/ECT@ECT cc: Julie Ferrara/HOU/ECT@ECT, Rahil Jafry/HOU/ECT@ECT Subject: Another Agreement - Arthur Andersen (US) Tana - we also have an agreement that has either been signed or is about to be signed with Arthur Andersen (whereby they provide 'audit' services for our EnronOnline Price Reports (aka indices). Julie Ferrara should have this agreement if one of them hasn't already sent it to you. Julie - could you also forward me this agreement assuming you have it? Would be useful to have it in our other discussions with AA re: SECA Coal index . Thanks). ---------------------- Forwarded by Paul Goddard/EU/Enron on 18/01/2001 15:44 --------------------------- From: Tana Jones@ECT on 17/01/2001 19:05 CST To: Dave Samuels/HOU/ECT@ECT, Justin Boyd/LON/ECT@ECT, Paul Goddard/EU/Enron@Enron, John Pavetto/Corp/Enron@Enron, Jay Webb/HOU/ECT@ECT cc: Mary Weatherstone/HOU/ECT@ECT, Mark Taylor/HOU/ECT@ECT Subject: RUSH-EnronOnline Agreements Attached is a list of the EnronOnline documents I am aware of. Please let me know if there are any additional agreements that have not been included. I have bolded those documents I am still trying to obtain copies of (and the person who might be aware of them). If you have copies can you please provide them to me ASAP. Thanks for your help.\r\n",
      "[False, True]\r\n",
      "==================================================\r\n",
      "TASK If your request is urgent please send me an email and tell me so.\r\n",
      "CCCC I will be out of the office until Monday the 7th of January.\r\n",
      "TSTS If your request is urgent please send me an email and tell me so.\r\n",
      "#### I will be out of the office until Monday the 7th of January. If your request is urgent please send me an email and tell me so.\r\n",
      "[False, True, False, False, False, False, False, False, False, False, False, False, False, False, False, False, False, False, False, False, False, False, False, False]\r\n",
      "==================================================\r\n",
      "TASK Could you please make every effort to get with Amy Baird\r\n",
      "CCCC Dan and Jeff, Ormet would like to finalize this transaction by the end of this week (Friday, Nov 17).\r\n",
      "TSTS Could you please make every effort to get with Amy Baird to resolve those two legal issues from her Oct 13th memo (items 3&4).\r\n",
      "#### Dan and Jeff, Ormet would like to finalize this transaction by the end of this week (Friday, Nov 17). Could you please make every effort to get with Amy Baird to resolve those two legal issues from her Oct 13th memo (items 3&4). Regarding Item 2 we agreed to a $1mm cap for the entire contract term. Also, the contract does not address any of the pricing terms of the deal. I'm assuming that this would be covered in the confirmation rather than the base of the contract Could you please send a draft of the confirmation to Mike Cesario by tomorrow morning. I've sent you a copy of my proposal so you know the terms. There's a few additional items that need to be included. Please DO NOT include the pricing (NYMEX + .055) . That's still being negotiated. 1. Enron will warrant that we will have 15,000 of FT on Koch 2. Ormet pays the demand charge ($.05) on the transport on any volumes below 15,000/d 3. Volumes above 15,000/d up to 22/d will be supplied on IT. We will utilize the same receipt/delivery path as the FT volumes in order to get the discounted transport rate. If Koch cuts our IT, we will use best efforts to get the gas there on another path or on Cypress. We will pass thru the actual transport costs if they are above the discounted FT rate. 4. Ormet must supply us with accurate and timely consumption information 5. If Koch declares Force Majeure on our FT, we must use best efforts to get gas and transport on Cypress before we declare FM 6. This is a full requirements contract (we supply all the gas that they consume) 7. If Koch's tariff changes and they go away from monthly balancing, then we will have a price re-opener. 8. If Ormet's loads change significantly (i.e. new cogen) we will have a price re-opener.\r\n",
      "[False, True, False, False, False, False, False, False, False, False, False, False, False, False, False, False, False, False, False, False, False, False, False, False, False, False, False, False, False, False, False, False, False, False]\r\n",
      "==================================================\r\n",
      "TASK try and answer these tomorrow, so please write down your answers to each\r\n",
      "CCCC \"-Origin: Rogers-B X-FileName: brogers.nsf Here are the questions from Allegheny regarding the Gleason plant.\r\n",
      "TSTS We will try and answer these tomorrow, so please write down your answers to each question and fax back to me at (713) 646-8863.\r\n",
      "#### \"-Origin: Rogers-B X-FileName: brogers.nsf Here are the questions from Allegheny regarding the Gleason plant. We will try and answer these tomorrow, so please write down your answers to each question and fax back to me at (713) 646-8863. Thanks for your help with these questions. Ben ---------------------- Forwarded by Benjamin Rogers/HOU/ECT on 10/19/2000 07:24 PM --------------------------- \"\"Irwin, Thomas J.\"\" TIRWIN@alleghenyenergy.com on 10/19/2000 06:59:46 PM To: \"\"'benjamin.rogers@enron.com'\"\" benjamin.rogers@enron.com cc: \"\"'mitch.robinson@enron.com'\"\" mitch.robinson@enron.com , \"\"Stang, H. Roy\"\" hstang@alleghenyenergy.com , \"\"Lapcevic, Joseph P.\"\" JLAPCEV@alleghenyenergy.com , \"\"Pezze, Thomas A.\"\" TPEZZE@alleghenyenergy.com , \"\"'paul.f.burton@ssmb.com'\"\" paul.f.burton@ssmb.com Subject: ENRON -- Information requests resulting from Gleason site visit The following requests resulted from our site visit to Gleason Plant on October 19, 2000: 1. Regarding the three CTs purchased and installed at Gleason, when was the reservation agreement signed? 2. Please provide CD with Construction Drawings and Plot Plan identified on DealBench. Please include Seimens drawings. 3. Please point out in DealBench or provide separate the documents that contain operating budget for Gleason. Discussions identified a year 2000 budget versus actual report and a 2001 draft budget. These two would be adequate. 4. Please provide engineering details of RTU module and associated equipment used for plant dispatch. 5. Please provide the O&M contract with Operational Energy Corporation. 6. Please provide water chemistry analysis for wells or identify document on DealBench. 7. Please provide lease on property with Industrial Development Board. 8. Please provide any available information on Westinghouse contract. 9. Please provide chart and guarantee curves for CTs. 10. Please provide your calculations supporting the 915 hour annual operating limit. 11. Please identify equivalent starts for each CT. 12. Please provide copy of standard operating procedure for the plant. 13. Please provide hydrological studies on aquifer used for plant water. Please provide forecast of Price volatility for ECAR, TVA, and M \"\r\n",
      "[True, False, False, False, False, False, False, False, False, False, False, False, False, False, False, False]\r\n",
      "==================================================\r\n",
      "TASK Kara/Heidi, please give this to Brian and Melissa.\r\n",
      "CCCC \r\n",
      "TSTS scott.hendrickson@enron.com, katherine.kelly@enron.com, victor.lamadrid@enron.com, joann.collins@enron.com, robert.allwein@enron.com, scott.neal@enron.com X-From: Joan Veselack X-To: hboyd@columbiaenergygroup.com, kdestep@columbiaenergygroup.com X-cc: mstiles@columbiaenergygroup.com, knovsek@columbiaenergygroup.com, Chris Germany, Dick Jenkins, Scott Hendrickson, Katherine L Kelly, Victor Lamadrid, Joann Collins, Robert Allwein, Scott Neal X-bcc: X-Folder: \\Chris_Germany_Dec2000\\Notes Folders\\Discussion threads X-Origin: Germany-C X-FileName: cgerman.nsf Kara/Heidi, please give this to Brian and Melissa.\r\n",
      "#### scott.hendrickson@enron.com, katherine.kelly@enron.com, victor.lamadrid@enron.com, joann.collins@enron.com, robert.allwein@enron.com, scott.neal@enron.com X-From: Joan Veselack X-To: hboyd@columbiaenergygroup.com, kdestep@columbiaenergygroup.com X-cc: mstiles@columbiaenergygroup.com, knovsek@columbiaenergygroup.com, Chris Germany, Dick Jenkins, Scott Hendrickson, Katherine L Kelly, Victor Lamadrid, Joann Collins, Robert Allwein, Scott Neal X-bcc: X-Folder: \\Chris_Germany_Dec2000\\Notes Folders\\Discussion threads X-Origin: Germany-C X-FileName: cgerman.nsf Kara/Heidi, please give this to Brian and Melissa. Because the burns significantly increased on 1/24 from the forecasted amount (+16749). Contract #63281 was over-run and Storage #51407 was over-withdrawn. Contract over-run is $.21 per dkt and storage over-withdrawls are $10 per dkt. Because the forecast was lower, I let Joann use the extra space for CES Enduser Market. TCO will let me cut gas to CES Enduser Markets as a retro. Not sure if you want this gas to flow or try to make it up over the weekend. If you need the gas to flow because of OFO penalties, maybe the storage over-withdrawal is cheaper than incurring OFO penalties. Please tell me what you want me to do. Need to do the retro's ASAP while TCO is still feeling generous. FYI, the traders at Enron talked to Noel Bartlo on Tuesday. Noel said any costs over the space that retail had (134,710 for choice), Enron had the right to pass on the costs. I really hope the Noel communicated that to CES Retail. I would hate to have a huge misunderstanding between Enron and CES Retail. Remember, we schedulers are caught in the middle... and don't try to cause unnecessary pain. 63281/236 coh 7-1 2934/2872 63281/170 coh 7-5 1922/1881 63281/99 coh 5-2 427/418 63281/221 cpa8-35 1639/1604 63281/220 cpa8-35 511/500 Total 7433/7275\r\n",
      "[False, False, False, False, False, False, False, False, False, True]\r\n",
      "==================================================\r\n",
      "TASK Please have him e-mail it to me at Karen.Marshall@Enron.com\r\n",
      "CCCC I know you only provided the e-mail memo for Paulo Rocha, but I really need his resume in order to capture the necessary information for his offer letter.\r\n",
      "TSTS Please have him e-mail it to me at Karen.Marshall@Enron.com Thanks, Karen Marshall Recruiting Manager\r\n",
      "#### -bcc: X-Folder: \\Vincent_Kaminski_Jun2001_8\\Notes Folders\\Sent X-Origin: Kaminski-V X-FileName: vkamins.nsf Karen, The total of 5 offers. I sent you 2 CVs electronically, 2 hard copies to Charlene. Paulo's resume will follow. Vince Karen Marshall 02/22/2000 03:51 PM To: Vince J Kaminski/HOU/ECT@ECT cc: Charlene Jackson/Corp/Enron@ENRON, Ginger B Gamble/HOU/ECT@ECT, Celeste Roberts/HOU/ECT@ECT Subject: MIT Offers Vince, Do you want 3 offers extended or 5? I just noticed that you plan to fax two additional resumes. If so, when can I expect the additional resumes? Karen ---------------------- Forwarded by Karen Marshall/HOU/ECT on 02/22/2000 03:38 PM --------------------------- Karen Marshall 02/22/2000 03:37 PM To: Vince J Kaminski/HOU/ECT@ECT cc: Charlene Jackson/Corp/Enron@ENRON, Ginger B Gamble/HOU/ECT@ECT, Celeste Roberts/HOU/ECT@ECT Subject: MIT Offers Vince, I will handle the offer letters for the candidates. I have the resumes for Darten Williams and Sevil Yaman. I know you only provided the e-mail memo for Paulo Rocha, but I really need his resume in order to capture the necessary information for his offer letter. Please have him e-mail it to me at Karen.Marshall@Enron.com Thanks, Karen Marshall Recruiting Manager\r\n"
     ]
    }
   ],
   "source": [
    "!cat ../data/context_ts.txt "
   ]
  },
  {
   "cell_type": "code",
   "execution_count": 251,
   "metadata": {},
   "outputs": [],
   "source": [
    "h = ' hello   '.strip()"
   ]
  },
  {
   "cell_type": "code",
   "execution_count": 252,
   "metadata": {},
   "outputs": [
    {
     "data": {
      "text/plain": [
       "'hello'"
      ]
     },
     "execution_count": 252,
     "metadata": {},
     "output_type": "execute_result"
    }
   ],
   "source": [
    "h"
   ]
  },
  {
   "cell_type": "code",
   "execution_count": null,
   "metadata": {},
   "outputs": [],
   "source": []
  }
 ],
 "metadata": {
  "kernelspec": {
   "display_name": "Python 3",
   "language": "python",
   "name": "python3"
  },
  "language_info": {
   "codemirror_mode": {
    "name": "ipython",
    "version": 3
   },
   "file_extension": ".py",
   "mimetype": "text/x-python",
   "name": "python",
   "nbconvert_exporter": "python",
   "pygments_lexer": "ipython3",
   "version": "3.7.4"
  }
 },
 "nbformat": 4,
 "nbformat_minor": 2
}
