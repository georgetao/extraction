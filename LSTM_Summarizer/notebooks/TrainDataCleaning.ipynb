{
 "cells": [
  {
   "cell_type": "code",
   "execution_count": 1,
   "metadata": {},
   "outputs": [
    {
     "name": "stderr",
     "output_type": "stream",
     "text": [
      "Using TensorFlow backend.\n"
     ]
    }
   ],
   "source": [
    "# Outside imports\n",
    "import os\n",
    "import importlib\n",
    "import warnings\n",
    "warnings.filterwarnings('ignore')\n",
    "\n",
    "import numpy as np\n",
    "import pandas as pd\n",
    "from sklearn.model_selection import train_test_split\n",
    "\n",
    "from keras.preprocessing.text import Tokenizer\n",
    "from keras.preprocessing.sequence import pad_sequences"
   ]
  },
  {
   "cell_type": "code",
   "execution_count": 112,
   "metadata": {},
   "outputs": [],
   "source": [
    "import model\n",
    "import train\n",
    "import evaluate\n",
    "import train_util\n",
    "import data_util.data\n",
    "import data_util.batcher\n",
    "import data_util.config\n",
    "import data_util.preprocess\n",
    "\n",
    "importlib.reload(train)\n",
    "importlib.reload(model)\n",
    "importlib.reload(evaluate)\n",
    "importlib.reload(train_util)\n",
    "importlib.reload(data_util.config)\n",
    "importlib.reload(data_util.data)\n",
    "importlib.reload(data_util.batcher)\n",
    "importlib.reload(data_util.preprocess)\n",
    "\n",
    "from train import *\n",
    "from evaluate import *\n",
    "from model import *\n",
    "from train_util import *\n",
    "from data_util.data import *\n",
    "from data_util.batcher import *\n",
    "from data_util.preprocess import *"
   ]
  },
  {
   "cell_type": "code",
   "execution_count": 10,
   "metadata": {},
   "outputs": [
    {
     "name": "stdout",
     "output_type": "stream",
     "text": [
      "/Users/rowancassius/Desktop/capstone/LSTM_Summarizer\r\n"
     ]
    }
   ],
   "source": [
    "!pwd"
   ]
  },
  {
   "cell_type": "code",
   "execution_count": 11,
   "metadata": {},
   "outputs": [
    {
     "data": {
      "text/plain": [
       "'/Users/rowancassius/Desktop/capstone/LSTM_Summarizer'"
      ]
     },
     "execution_count": 11,
     "metadata": {},
     "output_type": "execute_result"
    }
   ],
   "source": [
    "config.log_root"
   ]
  },
  {
   "cell_type": "code",
   "execution_count": 12,
   "metadata": {},
   "outputs": [
    {
     "data": {
      "text/plain": [
       "'/data/context_task_data.tsv'"
      ]
     },
     "execution_count": 12,
     "metadata": {},
     "output_type": "execute_result"
    }
   ],
   "source": [
    "data_path"
   ]
  },
  {
   "cell_type": "code",
   "execution_count": 13,
   "metadata": {},
   "outputs": [],
   "source": [
    "# load real data\n",
    "data_path = os.path.join(config.log_root, 'data/context_task_data.tsv')\n",
    "dat = pd.read_csv(data_path, sep='\\t')\n",
    "\n",
    "# fill nas\n",
    "dat.fillna('', inplace=True)\n",
    "\n",
    "# train/test split\n",
    "np.random.seed(111)\n",
    "dat = dat.sample(frac=1)\n",
    "train_size = int(.8*dat.shape[0])\n",
    "train_data = dat[:train_size]\n",
    "test_data = dat[train_size:]\n",
    "\n"
   ]
  },
  {
   "cell_type": "code",
   "execution_count": 5,
   "metadata": {},
   "outputs": [],
   "source": [
    "pd.set_option('display.max_colwidth', -1)"
   ]
  },
  {
   "cell_type": "code",
   "execution_count": 6,
   "metadata": {},
   "outputs": [
    {
     "data": {
      "text/html": [
       "<div>\n",
       "<style scoped>\n",
       "    .dataframe tbody tr th:only-of-type {\n",
       "        vertical-align: middle;\n",
       "    }\n",
       "\n",
       "    .dataframe tbody tr th {\n",
       "        vertical-align: top;\n",
       "    }\n",
       "\n",
       "    .dataframe thead th {\n",
       "        text-align: right;\n",
       "    }\n",
       "</style>\n",
       "<table border=\"1\" class=\"dataframe\">\n",
       "  <thead>\n",
       "    <tr style=\"text-align: right;\">\n",
       "      <th></th>\n",
       "      <th>#</th>\n",
       "      <th>Task</th>\n",
       "      <th>Context</th>\n",
       "      <th>TaskSentence</th>\n",
       "      <th>Summary</th>\n",
       "      <th>Labeler</th>\n",
       "      <th>NoRequestInContext</th>\n",
       "      <th>Urgent</th>\n",
       "      <th>NotRequest</th>\n",
       "      <th>Unsure/Discuss</th>\n",
       "      <th>RandomNumber</th>\n",
       "    </tr>\n",
       "  </thead>\n",
       "  <tbody>\n",
       "    <tr>\n",
       "      <td>1166</td>\n",
       "      <td>5482</td>\n",
       "      <td>Please add Angela Davis to all e-mails regarding Project Tahiti.</td>\n",
       "      <td></td>\n",
       "      <td>Please add Angela Davis to all e-mails regarding Project Tahiti.</td>\n",
       "      <td>Add Angela Davis to emails regarding Project Tahiti</td>\n",
       "      <td>Natalie</td>\n",
       "      <td>1</td>\n",
       "      <td>0</td>\n",
       "      <td>0</td>\n",
       "      <td></td>\n",
       "      <td>0.504486</td>\n",
       "    </tr>\n",
       "    <tr>\n",
       "      <td>93</td>\n",
       "      <td>94</td>\n",
       "      <td>Susan: Please change the signature block as set forth below and I'll</td>\n",
       "      <td></td>\n",
       "      <td>Susan: Please change the signature block as set forth below and I'll review.</td>\n",
       "      <td>Change signature block</td>\n",
       "      <td>Rowan</td>\n",
       "      <td></td>\n",
       "      <td></td>\n",
       "      <td></td>\n",
       "      <td></td>\n",
       "      <td>0.555939</td>\n",
       "    </tr>\n",
       "    <tr>\n",
       "      <td>915</td>\n",
       "      <td>5231</td>\n",
       "      <td>comments, please call Jack Cashin at 202/ 5085-499 .</td>\n",
       "      <td>The FERC staff report on western markets and the causes of the Summer 2000 Price Abormalities, entitled, Part I of Staff Report on U.S.. Bulk Power Markets, is available at the following website: http://www.FERC.Fed.US/Electric/BulkPower.htm.</td>\n",
       "      <td>If you have any questions or comments, please call Jack Cashin at 202/ 5085-499 .</td>\n",
       "      <td>Call Jack Cashin at 202-5085-499 with questions</td>\n",
       "      <td>Natalie</td>\n",
       "      <td>1</td>\n",
       "      <td>0</td>\n",
       "      <td>0</td>\n",
       "      <td></td>\n",
       "      <td>0.619421</td>\n",
       "    </tr>\n",
       "    <tr>\n",
       "      <td>782</td>\n",
       "      <td>5098</td>\n",
       "      <td>Could you get me a copy please?</td>\n",
       "      <td>I'm going over the Park &amp; Loan discounts on CNG for May.. I need to see the invoice to compare what we were billed to what CNG is showing on the discount letter.. Gloria, Terry does not have the invoice.</td>\n",
       "      <td>Could you get me a copy please?</td>\n",
       "      <td>Give SENDER a copy of the invoice for CNG</td>\n",
       "      <td>Natalie</td>\n",
       "      <td>1</td>\n",
       "      <td>0</td>\n",
       "      <td>0</td>\n",
       "      <td></td>\n",
       "      <td>0.420132</td>\n",
       "    </tr>\n",
       "    <tr>\n",
       "      <td>162</td>\n",
       "      <td>163</td>\n",
       "      <td>Review the space plans and give your comments</td>\n",
       "      <td>Let's schedule a meeting for Mark Taylor, you and me with the consultant who we already had conversations with.. We can formulate our response.. Mark. Pursuant to your request, I called Deborah Bubenko regarding what information she needs from you regarding space planning for the new building.. Deborah had Kim Kaase extension 35349 return my call.. Listed below are the next steps:</td>\n",
       "      <td>Review the space plans and give your comments</td>\n",
       "      <td>Review space plans</td>\n",
       "      <td>Rowan</td>\n",
       "      <td>1</td>\n",
       "      <td></td>\n",
       "      <td></td>\n",
       "      <td></td>\n",
       "      <td>0.104132</td>\n",
       "    </tr>\n",
       "  </tbody>\n",
       "</table>\n",
       "</div>"
      ],
      "text/plain": [
       "         #  \\\n",
       "1166  5482   \n",
       "93    94     \n",
       "915   5231   \n",
       "782   5098   \n",
       "162   163    \n",
       "\n",
       "                                                                      Task  \\\n",
       "1166  Please add Angela Davis to all e-mails regarding Project Tahiti.       \n",
       "93    Susan: Please change the signature block as set forth below and I'll   \n",
       "915   comments, please call Jack Cashin at 202/ 5085-499 .                   \n",
       "782   Could you get me a copy please?                                        \n",
       "162   Review the space plans and give your comments                          \n",
       "\n",
       "                                                                                                                                                                                                                                                                                                                                                                                              Context  \\\n",
       "1166                                                                                                                                                                                                                                                                                                                                                                                                    \n",
       "93                                                                                                                                                                                                                                                                                                                                                                                                      \n",
       "915   The FERC staff report on western markets and the causes of the Summer 2000 Price Abormalities, entitled, Part I of Staff Report on U.S.. Bulk Power Markets, is available at the following website: http://www.FERC.Fed.US/Electric/BulkPower.htm.                                                                                                                                                \n",
       "782   I'm going over the Park & Loan discounts on CNG for May.. I need to see the invoice to compare what we were billed to what CNG is showing on the discount letter.. Gloria, Terry does not have the invoice.                                                                                                                                                                                       \n",
       "162   Let's schedule a meeting for Mark Taylor, you and me with the consultant who we already had conversations with.. We can formulate our response.. Mark. Pursuant to your request, I called Deborah Bubenko regarding what information she needs from you regarding space planning for the new building.. Deborah had Kim Kaase extension 35349 return my call.. Listed below are the next steps:   \n",
       "\n",
       "                                                                           TaskSentence  \\\n",
       "1166  Please add Angela Davis to all e-mails regarding Project Tahiti.                    \n",
       "93    Susan: Please change the signature block as set forth below and I'll review.        \n",
       "915   If you have any questions or comments, please call Jack Cashin at 202/ 5085-499 .   \n",
       "782   Could you get me a copy please?                                                     \n",
       "162   Review the space plans and give your comments                                       \n",
       "\n",
       "                                                  Summary  Labeler  \\\n",
       "1166  Add Angela Davis to emails regarding Project Tahiti  Natalie   \n",
       "93    Change signature block                               Rowan     \n",
       "915   Call Jack Cashin at 202-5085-499 with questions      Natalie   \n",
       "782   Give SENDER a copy of the invoice for CNG            Natalie   \n",
       "162   Review space plans                                   Rowan     \n",
       "\n",
       "     NoRequestInContext Urgent NotRequest Unsure/Discuss  RandomNumber  \n",
       "1166  1                  0      0                         0.504486      \n",
       "93                                                        0.555939      \n",
       "915   1                  0      0                         0.619421      \n",
       "782   1                  0      0                         0.420132      \n",
       "162   1                                                   0.104132      "
      ]
     },
     "execution_count": 6,
     "metadata": {},
     "output_type": "execute_result"
    }
   ],
   "source": [
    "train_data.sample(5)"
   ]
  },
  {
   "cell_type": "markdown",
   "metadata": {},
   "source": [
    "##  Vocabulary Curation"
   ]
  },
  {
   "cell_type": "code",
   "execution_count": 23,
   "metadata": {},
   "outputs": [],
   "source": [
    "eng_path = os.path.join(config.log_root, 'data/vocab/eng_1000.txt')\n",
    "eng = pd.read_csv(eng_path)"
   ]
  },
  {
   "cell_type": "code",
   "execution_count": 102,
   "metadata": {},
   "outputs": [],
   "source": [
    "vocab_sents = [vocab_process_text(s) for s in \n",
    "               train_data.Context.tolist() +  \n",
    "               train_data.TaskSentence.tolist() + \n",
    "               eng.words.tolist()]"
   ]
  },
  {
   "cell_type": "code",
   "execution_count": 103,
   "metadata": {},
   "outputs": [],
   "source": [
    "# fit tokenizer\n",
    "tokenizer = Tokenizer(lower=False, filters='')\n",
    "tokenizer.fit_on_texts(vocab_sents + list(ENT_TAGS))\n",
    "assert all([t in tokenizer.word_index for t in ENT_TAGS])"
   ]
  },
  {
   "cell_type": "code",
   "execution_count": 104,
   "metadata": {},
   "outputs": [
    {
     "data": {
      "text/plain": [
       "6635"
      ]
     },
     "execution_count": 104,
     "metadata": {},
     "output_type": "execute_result"
    }
   ],
   "source": [
    "len(tokenizer.word_counts)"
   ]
  },
  {
   "cell_type": "code",
   "execution_count": 105,
   "metadata": {},
   "outputs": [],
   "source": [
    "words2vocabfile(tokenizer.word_index.keys(), os.path.join(config.log_root, 'data/vocab/vocab.txt'))"
   ]
  },
  {
   "cell_type": "code",
   "execution_count": 113,
   "metadata": {},
   "outputs": [
    {
     "name": "stdout",
     "output_type": "stream",
     "text": [
      "WARNING: <s>, </s>, [UNK], [PAD], [START] or [STOP] found in vocab file\n",
      "WARNING: <s>, </s>, [UNK], [PAD], [START] or [STOP] found in vocab file\n",
      "WARNING: <s>, </s>, [UNK], [PAD], [START] or [STOP] found in vocab file\n",
      "WARNING: <s>, </s>, [UNK], [PAD], [START] or [STOP] found in vocab file\n",
      "Finished constructing vocabulary of 6639 total words. Last word added: LANGUAGE\n"
     ]
    }
   ],
   "source": [
    "vocab = Vocab(os.path.join(config.log_root, 'data/vocab/vocab.txt'))"
   ]
  },
  {
   "cell_type": "code",
   "execution_count": 109,
   "metadata": {},
   "outputs": [
    {
     "data": {
      "text/plain": [
       "6639"
      ]
     },
     "execution_count": 109,
     "metadata": {},
     "output_type": "execute_result"
    }
   ],
   "source": [
    "len(vocab._word_to_id.keys())"
   ]
  },
  {
   "cell_type": "code",
   "execution_count": 110,
   "metadata": {},
   "outputs": [],
   "source": [
    "words2vocabfile(vocab._word_to_id.keys(), os.path.join(config.log_root, 'data/vocab/vocab.txt'))"
   ]
  },
  {
   "cell_type": "markdown",
   "metadata": {},
   "source": [
    "## Text cleaning development"
   ]
  },
  {
   "cell_type": "code",
   "execution_count": 393,
   "metadata": {},
   "outputs": [],
   "source": [
    "i = 925\n",
    "context = train_data.loc[i]['Context']\n",
    "task    = train_data.loc[i]['TaskSentence']\n",
    "summary = train_data.loc[i]['Summary']\n",
    "\n",
    "\n",
    "context = article_process_text(context)\n",
    "task = article_process_text(task)\n",
    "summary = summary_process_text(summary)"
   ]
  },
  {
   "cell_type": "code",
   "execution_count": 394,
   "metadata": {},
   "outputs": [],
   "source": [
    "import data_util.batcher\n",
    "importlib.reload(data_util.batcher)\n",
    "from data_util.batcher import *"
   ]
  },
  {
   "cell_type": "code",
   "execution_count": 395,
   "metadata": {},
   "outputs": [],
   "source": [
    "ex = TaskExample(context, task, summary, vocab)"
   ]
  },
  {
   "cell_type": "code",
   "execution_count": 396,
   "metadata": {},
   "outputs": [
    {
     "name": "stdout",
     "output_type": "stream",
     "text": [
      "============================================================\n",
      "CONTEXT: Message sent from the pjm-customer-info mailing list at pjm-customer-info@majordomo.pjm.com:. The new PJM Enhanced Energy Scheduler EES will go into production at 10:00 this morning 4/17/00 at https://ees.pjm.com/mui/index.htm . Schedules may be submitted for energy that begins on or after tomorrow, 4/18/00. \n",
      "\n",
      "TASK:    For questions please contact PJM at 610-6662-270 . \n",
      "\n",
      "SUMMARY: contact PJM at 610-6662-270 with questions\n",
      "============================================================\n"
     ]
    }
   ],
   "source": [
    "ex.pretty_print()"
   ]
  },
  {
   "cell_type": "code",
   "execution_count": 397,
   "metadata": {},
   "outputs": [
    {
     "data": {
      "text/plain": [
       "['[START]', 'contact', 'ORG', 'at', 'PHONENUMBER', 'with', 'questions']"
      ]
     },
     "execution_count": 397,
     "metadata": {},
     "output_type": "execute_result"
    }
   ],
   "source": [
    "[vocab.id2word(i) for i in ex.dec_input]"
   ]
  },
  {
   "cell_type": "code",
   "execution_count": 398,
   "metadata": {},
   "outputs": [
    {
     "data": {
      "text/plain": [
       "51"
      ]
     },
     "execution_count": 398,
     "metadata": {},
     "output_type": "execute_result"
    }
   ],
   "source": [
    "len(ex.enc_input)"
   ]
  },
  {
   "cell_type": "code",
   "execution_count": 402,
   "metadata": {},
   "outputs": [
    {
     "data": {
      "text/plain": [
       "[230, 970, 2988, 1387, 2268, 3035]"
      ]
     },
     "execution_count": 402,
     "metadata": {},
     "output_type": "execute_result"
    }
   ],
   "source": [
    "ex.dec_input[1:]"
   ]
  },
  {
   "cell_type": "code",
   "execution_count": 401,
   "metadata": {},
   "outputs": [
    {
     "data": {
      "text/plain": [
       "[230, 4178, 2988, 4184, 2268, 3035]"
      ]
     },
     "execution_count": 401,
     "metadata": {},
     "output_type": "execute_result"
    }
   ],
   "source": [
    "ex.target[:-1]"
   ]
  },
  {
   "cell_type": "code",
   "execution_count": 403,
   "metadata": {},
   "outputs": [
    {
     "data": {
      "text/plain": [
       "{'pjm-customer-info@majordomo.pjm.com': 'EMAILADDRESS',\n",
       " 'PJM Enhanced Energy Scheduler EES': 'ORG',\n",
       " '10:00 this morning': 'TIME',\n",
       " 'https://ees.pjm.com/mui/index.htm': 'WEBSITE',\n",
       " 'PJM': 'ORG',\n",
       " '610-6662-270': 'PHONENUMBER'}"
      ]
     },
     "execution_count": 403,
     "metadata": {},
     "output_type": "execute_result"
    }
   ],
   "source": [
    "ex.entity_label_map"
   ]
  },
  {
   "cell_type": "code",
   "execution_count": 392,
   "metadata": {},
   "outputs": [
    {
     "data": {
      "text/plain": [
       "['Benji', ' ', 'Dinner', '22nd']"
      ]
     },
     "execution_count": 392,
     "metadata": {},
     "output_type": "execute_result"
    }
   ],
   "source": [
    "ex.article_oovs"
   ]
  },
  {
   "cell_type": "code",
   "execution_count": 357,
   "metadata": {},
   "outputs": [],
   "source": [
    "doc = nlp(\"Hey George, please email me asap at rowan@gmail.net. Take the survey at extraction.com. Also my friend at Google wants you to edit Article III, and call him at (445) 7680099\")"
   ]
  },
  {
   "cell_type": "code",
   "execution_count": 345,
   "metadata": {},
   "outputs": [
    {
     "data": {
      "text/plain": [
       "{'George': 'PERSON',\n",
       " 'rowan@gmail.net': 'EMAILADDRESS',\n",
       " 'extraction.com': 'WEBSITE',\n",
       " 'Google': 'ORG',\n",
       " 'Article III': 'PRODUCT',\n",
       " '(445) 7680099': 'PHONENUMBER'}"
      ]
     },
     "execution_count": 345,
     "metadata": {},
     "output_type": "execute_result"
    }
   ],
   "source": [
    "{e.text: e.label_ for e in doc.ents}"
   ]
  },
  {
   "cell_type": "code",
   "execution_count": 346,
   "metadata": {},
   "outputs": [
    {
     "data": {
      "text/plain": [
       "[Hey,\n",
       " George,\n",
       " ,,\n",
       " please,\n",
       " email,\n",
       " me,\n",
       " asap,\n",
       " at,\n",
       " rowan@gmail.net,\n",
       " .,\n",
       " Take,\n",
       " the,\n",
       " survey,\n",
       " at,\n",
       " extraction.com,\n",
       " .,\n",
       " Also,\n",
       " my,\n",
       " friend,\n",
       " at,\n",
       " Google,\n",
       " wants,\n",
       " you,\n",
       " to,\n",
       " edit,\n",
       " Article III,\n",
       " ,,\n",
       " and,\n",
       " call,\n",
       " him,\n",
       " at,\n",
       " (445) 7680099]"
      ]
     },
     "execution_count": 346,
     "metadata": {},
     "output_type": "execute_result"
    }
   ],
   "source": [
    "list(doc)"
   ]
  },
  {
   "cell_type": "code",
   "execution_count": 221,
   "metadata": {},
   "outputs": [
    {
     "data": {
      "text/plain": [
       "()"
      ]
     },
     "execution_count": 221,
     "metadata": {},
     "output_type": "execute_result"
    }
   ],
   "source": [
    "nlp('Term Sheet').ents"
   ]
  },
  {
   "cell_type": "code",
   "execution_count": null,
   "metadata": {},
   "outputs": [],
   "source": [
    "from spacy.tokenizer import wor"
   ]
  }
 ],
 "metadata": {
  "kernelspec": {
   "display_name": "Python 3",
   "language": "python",
   "name": "python3"
  },
  "language_info": {
   "codemirror_mode": {
    "name": "ipython",
    "version": 3
   },
   "file_extension": ".py",
   "mimetype": "text/x-python",
   "name": "python",
   "nbconvert_exporter": "python",
   "pygments_lexer": "ipython3",
   "version": "3.7.4"
  }
 },
 "nbformat": 4,
 "nbformat_minor": 2
}
