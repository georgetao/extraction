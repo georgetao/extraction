{
 "cells": [
  {
   "cell_type": "markdown",
   "metadata": {},
   "source": [
    "## Making a vocabulary "
   ]
  },
  {
   "cell_type": "code",
   "execution_count": 124,
   "metadata": {},
   "outputs": [],
   "source": [
    "# Outside imports\n",
    "import os\n",
    "import importlib\n",
    "import warnings\n",
    "warnings.filterwarnings('ignore')\n",
    "\n",
    "import numpy as np\n",
    "import pandas as pd\n",
    "from sklearn.model_selection import train_test_split\n",
    "\n",
    "from keras.preprocessing.text import Tokenizer\n",
    "from keras.preprocessing.sequence import pad_sequences"
   ]
  },
  {
   "cell_type": "code",
   "execution_count": 125,
   "metadata": {},
   "outputs": [],
   "source": [
    "# load real data\n",
    "data_path = '/Users/rowancassius/Desktop/capstone/data/context_task_data.tsv'\n",
    "dat = pd.read_csv(data_path, sep='\\t')\n",
    "\n",
    "# fill nas\n",
    "dat.fillna('', inplace=True)\n",
    "\n",
    "# train/test split\n",
    "np.random.seed(111)\n",
    "dat = dat.sample(frac=1)\n",
    "train_size = int(.8*dat.shape[0])\n",
    "train_data = dat[:train_size]\n",
    "test_data = dat[train_size:]\n"
   ]
  },
  {
   "cell_type": "code",
   "execution_count": 119,
   "metadata": {},
   "outputs": [],
   "source": [
    "vocab_sents = [remove_NE(s) for s in train_data.Context.values + train_data.TaskSentence.values]"
   ]
  },
  {
   "cell_type": "code",
   "execution_count": 120,
   "metadata": {},
   "outputs": [
    {
     "data": {
      "text/plain": [
       "array(['Please respond to henri@hearme.com',\n",
       "       \"I've talked to Jeff Darst about removing the language and had his verbal agreement that some of the language could be removed, but just received written comments back from him today with not only the same warranty wording, but some additional warranty language in Part III.. These changes would be added to Section 14.1.2 Warranty Clarifications in the contract.Please review this Change Order and let me know if we can live with these warranty provisions.\",\n",
       "       'Chris,. Attached is a draft of a conveyance document which is intended to transfer ownership of the turbines and other equipment to the City of Austin and Enron Sandhill Limited Partnership.Please forward the same to Bob Kahn for his review and consideration.',\n",
       "       \"Karen,. It appears to me that revisions were made to this agreement, and the agreement was presented to the counterparty for signature without me being consulted.. Perhaps you did email this to me and I can't locate the electonic file.. In any event, in the future, please call me on the telephone BEFORE revisions are made to documents and presented to the counterparty.. If you can't reach me by phone, send me an explanatory email.Also, please email me redlines against prior drafts.\",\n",
       "       'reply to this email with the words CANCEL or send an email to cancel trad',\n",
       "       'As a first time user, please click on the New User button to enter your ID and set your password.. Your individual login ID is either your SSN Social Security Number or your SIN Social Insurance Number - Canada .. To prevent someone from accessing or altering your GIS file without authorization, please keep your ID and password private.. You can contact the HRIS Helpdesk at 713-8535-666 , option #1 for application assistance.Please update your personal GIS file by FRIDAY, MARCH 31.',\n",
       "       'Please forward to public affairs group.',\n",
       "       \"Please feel free to forward this email to all of your friends.. They'll thank you for it!. Friends can subscribe to Ashford.com email by clicking here: Subscribe to Ashford.com .. IMAGE Let us hear from you.. If you have any suggestions or any problems with your email, or if you need to change your email address, please contact jschunter@ashford.com.. IMAGE You are receiving this email because you have subscribed to the Ashford newsletter.To unsubscribe, send a message to unsubscribe@ashford.com and put the word 'remove' in the subject line.\",\n",
       "       'Stewart will assist in developing, managing and leading several of our more complicated mission critical commercial transactions.. In particular, Stewart will focus on those transactions which require multiple functions across EBS, a role Stewart excelled in at Enron Europe.. Stewart will report directly to Ken Rice as a Vice President, but will work directly with each of the commercial business unit leaders on a project specific basis.Please welcome Stewart to the EBS team.',\n",
       "       'Elizabeth,Can you please direct me to someone to assist us in making an offer to a young lady we just interviewed?'],\n",
       "      dtype=object)"
      ]
     },
     "execution_count": 120,
     "metadata": {},
     "output_type": "execute_result"
    }
   ],
   "source": [
    "(train_data.Context.values + train_data.TaskSentence.values)[:10]"
   ]
  },
  {
   "cell_type": "code",
   "execution_count": 121,
   "metadata": {},
   "outputs": [],
   "source": [
    "# fit tokenizer\n",
    "FILTERS = '!\"&()*+,:;<=>?[\\\\]^_`{|}~\\t\\n'\n",
    "tokenizer = Tokenizer(lower=True, filters=FILTERS)\n",
    "tokenizer.fit_on_texts(vocab_sents)"
   ]
  },
  {
   "cell_type": "code",
   "execution_count": 122,
   "metadata": {},
   "outputs": [
    {
     "data": {
      "text/plain": [
       "5220"
      ]
     },
     "execution_count": 122,
     "metadata": {},
     "output_type": "execute_result"
    }
   ],
   "source": [
    "len(tokenizer.word_index)"
   ]
  },
  {
   "cell_type": "code",
   "execution_count": null,
   "metadata": {},
   "outputs": [],
   "source": []
  }
 ],
 "metadata": {
  "kernelspec": {
   "display_name": "Python 3",
   "language": "python",
   "name": "python3"
  },
  "language_info": {
   "codemirror_mode": {
    "name": "ipython",
    "version": 3
   },
   "file_extension": ".py",
   "mimetype": "text/x-python",
   "name": "python",
   "nbconvert_exporter": "python",
   "pygments_lexer": "ipython3",
   "version": "3.7.4"
  }
 },
 "nbformat": 4,
 "nbformat_minor": 2
}
