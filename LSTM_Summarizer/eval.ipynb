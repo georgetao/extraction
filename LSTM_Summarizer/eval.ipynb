{
 "cells": [
  {
   "cell_type": "code",
   "execution_count": 3,
   "metadata": {},
   "outputs": [],
   "source": [
    "import os\n",
    "os.environ[\"CUDA_VISIBLE_DEVICES\"] = \"0\"\n",
    "import time\n",
    "\n",
    "import torch as T\n",
    "import torch.nn as nn\n",
    "import torch.nn.functional as F\n",
    "from model import Model\n",
    "\n",
    "from data_util import config, data\n",
    "from data_util.batcher import Batcher\n",
    "from data_util.data import Vocab\n",
    "from train_util import *\n",
    "from beam_search import *\n",
    "from rouge import Rouge\n",
    "import argparse;"
   ]
  },
  {
   "cell_type": "code",
   "execution_count": 4,
   "metadata": {},
   "outputs": [],
   "source": [
    "def get_cuda(tensor):\n",
    "    if T.cuda.is_available():\n",
    "        tensor = tensor.cuda()\n",
    "    return tensor"
   ]
  },
  {
   "cell_type": "code",
   "execution_count": 18,
   "metadata": {},
   "outputs": [],
   "source": [
    "class Evaluate(object):\n",
    "    def __init__(self, data_path, opt, batch_size = config.batch_size):\n",
    "        self.vocab = Vocab(config.vocab_path, config.vocab_size)\n",
    "        self.batcher = Batcher(data_path, self.vocab, mode='eval',\n",
    "                               batch_size=batch_size, single_pass=True)\n",
    "        self.opt = opt\n",
    "        time.sleep(5)\n",
    "\n",
    "    def setup_valid(self):\n",
    "        self.model = Model()\n",
    "        self.model = get_cuda(self.model)\n",
    "        checkpoint = T.load(os.path.join(config.save_model_path, self.opt.load_model))\n",
    "        self.model.load_state_dict(checkpoint[\"model_dict\"])\n",
    "\n",
    "\n",
    "    def print_original_predicted(self, decoded_sents, ref_sents, article_sents, loadfile):\n",
    "        filename = \"test_\"+loadfile.split(\".\")[0]+\".txt\"\n",
    "    \n",
    "        with open(os.path.join(\"data\",filename), \"w\") as f:\n",
    "            for i in range(len(decoded_sents)):\n",
    "                f.write(\"article: \"+article_sents[i] + \"\\n\")\n",
    "                f.write(\"ref: \" + ref_sents[i] + \"\\n\")\n",
    "                f.write(\"dec: \" + decoded_sents[i] + \"\\n\\n\")\n",
    "\n",
    "    def evaluate_batch(self, print_sents = False):\n",
    "\n",
    "        self.setup_valid()\n",
    "        batch = self.batcher.next_batch()\n",
    "        start_id = self.vocab.word2id(data.START_DECODING)\n",
    "        end_id = self.vocab.word2id(data.STOP_DECODING)\n",
    "        unk_id = self.vocab.word2id(data.UNKNOWN_TOKEN)\n",
    "        decoded_sents = []\n",
    "        ref_sents = []\n",
    "        article_sents = []\n",
    "        rouge = Rouge()\n",
    "        count = 0\n",
    "        while batch is not None and count < 20:\n",
    "            enc_batch, enc_lens, enc_padding_mask, enc_batch_extend_vocab, extra_zeros, ct_e = get_enc_data(batch)\n",
    "\n",
    "            with T.autograd.no_grad():\n",
    "                enc_batch = self.model.embeds(enc_batch)\n",
    "                enc_out, enc_hidden = self.model.encoder(enc_batch, enc_lens)\n",
    "\n",
    "            #-----------------------Summarization----------------------------------------------------\n",
    "            with T.autograd.no_grad():\n",
    "                pred_ids = beam_search(enc_hidden, enc_out, enc_padding_mask, ct_e, extra_zeros, enc_batch_extend_vocab, self.model, start_id, end_id, unk_id)\n",
    "\n",
    "            for i in range(len(pred_ids)):\n",
    "                decoded_words = data.outputids2words(pred_ids[i], self.vocab, batch.art_oovs[i])\n",
    "                if len(decoded_words) < 2:\n",
    "                    decoded_words = \"xxx\"\n",
    "                else:\n",
    "                    decoded_words = \" \".join(decoded_words)\n",
    "                decoded_sents.append(decoded_words)\n",
    "                abstract = batch.original_abstracts[i]\n",
    "                article = batch.original_articles[i]\n",
    "                ref_sents.append(abstract)\n",
    "                article_sents.append(article)\n",
    "\n",
    "            batch = self.batcher.next_batch()\n",
    "            count += 1\n",
    "            print(batch.original_abstracts)\n",
    "\n",
    "        load_file = self.opt.load_model\n",
    "\n",
    "        if print_sents:\n",
    "            self.print_original_predicted(decoded_sents, ref_sents, article_sents, load_file)\n",
    "\n",
    "        scores = rouge.get_scores(decoded_sents, ref_sents, avg = True)\n",
    "        if self.opt.task == \"test\":\n",
    "            print(load_file, \"scores:\", scores)\n",
    "        else:\n",
    "            rouge_l = scores[\"rouge-l\"][\"f\"]\n",
    "            print(load_file, \"rouge_l:\", \"%.4f\" % rouge_l)"
   ]
  },
  {
   "cell_type": "code",
   "execution_count": 19,
   "metadata": {},
   "outputs": [],
   "source": [
    "class Namespace:\n",
    "    def __init__(self, **kwargs):\n",
    "        self.__dict__.update(kwargs)"
   ]
  },
  {
   "cell_type": "code",
   "execution_count": 21,
   "metadata": {},
   "outputs": [
    {
     "name": "stderr",
     "output_type": "stream",
     "text": [
      "Exception in thread Thread-16:\n",
      "Traceback (most recent call last):\n",
      "  File \"C:\\Users\\georg\\w210\\capstone\\LSTM_Summarizer\\data_util\\batcher.py\", line 272, in text_generator\n",
      "    e = next(example_generator) # e is a tf.Example\n",
      "StopIteration\n",
      "\n",
      "The above exception was the direct cause of the following exception:\n",
      "\n",
      "Traceback (most recent call last):\n",
      "  File \"C:\\Users\\georg\\Anaconda3\\lib\\threading.py\", line 917, in _bootstrap_inner\n",
      "    self.run()\n",
      "  File \"C:\\Users\\georg\\Anaconda3\\lib\\threading.py\", line 865, in run\n",
      "    self._target(*self._args, **self._kwargs)\n",
      "  File \"C:\\Users\\georg\\w210\\capstone\\LSTM_Summarizer\\data_util\\batcher.py\", line 206, in fill_example_queue\n",
      "    (article, abstract) = next(input_gen) # read the next example from file. article and abstract are both strings.\n",
      "RuntimeError: generator raised StopIteration\n",
      "\n"
     ]
    },
    {
     "name": "stdout",
     "output_type": "stream",
     "text": [
      "data/saved_models\n",
      "['egypt votes amid strife and charges of fraud david d. kirkpatrick contributed reporting from alexandria egypt', 'distinct signature found in #### anthrax attack', 'lawyer says dna tests show #rd person at sheppard scene', 'new york governor to change tune on freedom tower', 'fidelity says tax breaks would prevent moves', 'woods driving toward a masters title', '<unk> <unk> ## yachtsman lost at sea', 'search for <unk> the penguin takes a dark turn', 'new york better equipped for bio-terror attack before gop convention', 'argentina # croatia # in davis cup world group play', 'virginia fields extends her political reach', 'angela s ashes author mccourt dies in nyc at ##', 'indonesian retail trade predicted to go sluggish in ####', 'a look at alstom maker of trains and cruise ships with <unk> <unk>', \"on the eve of powell 's visit arab leaders under pressure from\", 'ford withheld info about defective mechanism lawsuit asserts', 'while kidd visits spurs parker ponders his future', \"aol-time warner 's maids of honor caught the bouquet\", 'juanes wins five latin grammys ; celia cruz honored at ceremony in miami', 'prime minister nominee ahmed qureia demands support from israel u.s. and arafat if he is to succeed', 'china president hurries home from g# after rioting', 'ponting rejects too <unk> criticism says ashes will prove it', 'california gop in quandary over minority vote', 'swedish police hoping to link suspect in lindh killing using dna searching for others', 'wallaby veterans gregan and larkham back for italy clash as rogers starts', 'us opposes quick court action on uighurs detained in guantanamo', 'adidas meets #### targets sees earnings growth slowing in ####', 'australian lawmaker shares gay rights progress', 'nigeria militants attack lagos oil depot', 'hamas threatens strike against us interests', 'u.s. sen. obama to take public aids test at kenyan clinic to promote need for safe sex', 'results of tour of california cycling race', 'ahmadinejad criticized over vice president choice', 'formula one changes list with sports-auto <unk> crisis', 'powell will meet arafat as well as sharon offers u.s. observers to', 'hong kong shares close #.## percent higher on wall st lead', \"nigeria 's obasanjo meets au chief konare resolves spat over togo\", 'cut-throat razor should be banned as aids risk doctors warn', 'protests mark official result of indonesian presidential election', 'sharif party winning ### seats in one pakistan province', 'fbi agents to investigate u.s. sniper suspects in antigua', 'president says killer of wall street journal reporter must face', 'latest offer to buy coram is called off', 'in drive for peace progress white house saw jenin inquiry as', 'in serbia politics in turmoil as u.s. diplomat is detained', 'premier league joins opposition to celtic rangers joining english', 'more foreign tourists visit myanmar in first eight months', 'china to reform procuratorial system', 'u.s. catholic leaders endorse constitutional amendment against gay marriage', \"thai <unk> bring woman 's touch to elephant polo\", 'kansas city school district will fight to regain full', 'separatist leader breaks off talks in west texas', 'uzbekistan gets gatt observer status', 'rhode island <unk> effort to win patriots', 'beijing to host piano violin contests', '<unk> among u.s. investment advisers at three-year high', 'zambian artists calls for setting up art school', 'polls show yes vote makes striking advance', 'russian gambling halls shut down in most cities', 'sharon grounds ministers during disengagement votes', \"tokyo shares down on concerns of yen 's advance\", 'south african singer and a russian composer accept prestigious', 'friends recall dedication and wit of bosnia rights worker', 'eu not to invite u.s. russia to conference', 'prices lower on taipei bourse', 'mets # braves #', 'iran detains ## suspects over blasts', 'death penalty in terror trial breaks new ground', 'iranian leader blames foreigners for political', 'lawmakers move to revise law to ban animated crime reporting', 'hsbc says recovery in emerging markets is weakening', 'canada bonds outperform u.s. issues on tame inflation outlook', 'sharon anne hogan ## a leading librarian of the electronic age', 'us wants to help taiwan airlines improve safety', 'aeroflot leases two boeings for flights to us', 'conservation matriarch margaret mardy <unk> ### dies', \"executives of fiat top banks and italian economy minister discuss troubled automaker 's future\", 'woman who cut abusive boyfriend into pieces jailed for ## years', 'militant questioned about parcel bombings in karachi say police', 'police nab suspected rebel who sought cash from hostage family in peru', \"electronica rocks nyc music marathon 's opening night\", 'dinara safina wins slovenia open final in # sets', 'schwab leases merrill memberships on pacific stock exchange', 'israel rejects us call to halt jerusalem project', 'palestinian cabinet minister submits resignation amid growing calls', 'the pros and cons of hunting', 'kuwait dailies urge government to forget iraqi invasion', 'ralf schumacher wins european f# grand prix', 'u.s. stocks seen mixed amid concern rates are headed higher', \"israel 's new army chief seeks to calm fears of flareup\", 'denver economy shoots a mile high', 'baltic premiers demand withdrawal of russian troops', 'blind lottery salesmen protest against ticket vending machines', 'at least two dead in car bomb blast in south beirut', 'south korea to provide extra security for u.s. team during world cup', 'taiwan to replace economics minister', 'modern style wall posters mark changes in rural china', \"thailand 's credit ratings to be revised\", 'schroeder elected spd chairman', 'two million texts for british <unk> tickets', 'at least ## palestinians killed after weekend of ## israeli', 'zimbabwe urged to join hand in tourism marketing with caribbean countries', 'dollar rises after european rate cuts amid budget optimism', 'consumer confidence boosted in kuwait', 'banca milano shareholders set for showdown at saturday meeting', 'nba star <unk> divac looking to invest in leading mineral water factory', 'palestinian police detain leading human rights lawyer', \"iraq accuses saudis kuwaitis of doing america 's bidding\", 'u.s. official in india for talks on terrorism india-pakistan', 'new gallery has off the ramp location', \"## people withdraw candidacy in bahrain 's municipal elections\", \"at european union 's doorstep hungary makes crucial election\", \"haiti 's opposition rallies against aristide government clashing again with president 's supporters\", 'russia croatia express interest in modernizing oil pipeline', 'solzhenitsyn pays tribute to gulag victims', 'foreigners caught up in moscow theater hostage drama', 'results from finn world championships', 'rudi voeller not to <unk> his german team', 'virus of deadly disease spreads in iran', '# rebels killed in chechnya', 'bulgaria shuts reactor at <unk> nuclear plant', 'deutsche bank q# net profit up ## percent', 'king hussein meets rabin christopher', 'british foreign secretary defends job performance during mideast crisis', 'bob jones university in its own words on race and catholicism', 'phelps dodge and chino unions reach impasse on wage talks', 'kostelic ends year with fourth win of season', 'us couple s wedding aisle groove a youtube hit', 'strong performance seen in cyprus stock', 'dutch baby food maker numico posts ## percent rise in #nd-quarter net profit', 'pakistan releases suspected german militant', 'vikings say favre not coming back', 'johnson becomes <unk> of lakers', 'world number ### fernandez-castano wins dutch open', 'colts launch playoff campaign with rematch against steelers', 'bomb hits coalition force in afghanistan wounds three policemen', 'hong kong shares close barely higher', 'chinese teenagers taught to defend themselves', \"israeli shares fall on expectations central bank wo n't cut rates\", 'eighth china int l <unk> fair slated for september', 'us stocks close higher', 'hk to hold world congress on prosthetics <unk>', 'zimbabwe urges media to lead anti-aids fight', 'freed philippine hostage thanks arroyo for his release', 'wall street stocks surge amid investors bullish mood', 'residents flee southern kabul', '<unk> economic forum gathers in detroit leaders share goals of bridging communities', 'mahathir criticizes us war on iraq', 'new zealand pledges support for u.n. effort on cyprus', 'kahn plans trip to spain to discuss rubio buyout', 'marty develops into hurricane threatens southern baja california', 'china celebrates un anniversary', 'mirage observed in northeast china', 'mormon church pulls missionaries from madagascar', 'scottish scientists to search for genetic <unk>', 'bowen is final cut as u.s. team set ##-man roster', 'alcoa results better jobless data lift stocks', 'becker and stich put germany in charge', 'tyco seeking damages former chief financial officer swartz', 'alitalia will start talks to join air france-klm group', 'most asian stock markets close lower', 'ivory coast student strike wins wide support', \"blair 's frayed ties with unions grow <unk> still\", '<unk> politician slain in northern sri lanka', 'sweden allows lesbians to undergo artificial insemination', 'amman stock exchange upward trend #.# percent', 'skydive gift kills dad in front of family', 'syrian pm calls off jordan visit', 'stocks mixed in wednesday trading', 'us government starts security probe at troubled nuke lab', \"o'brien in newcastle clear-out\", \"malaysia 's consumer prices rise #.# percent\", 'quake shakes central new zealand', 'third railway construction boom brings new hope to southwest', 'beijing allies in hong kong demand prosecution of flag burners', 'spot check finds no harmful residue in tea products', 'bush administration accuses russian company of selling lethal equipment to iran', 'ugandan hotels urged to strengthen security', 'greek students protest reforms', 'kuwait grants iraq ## million dollars', 'dialogue with zimbabwe is the only way say african fm', 'coyotes top goalie out for a month', \"sarajevo 's mayor arrives in paris\", 'market rally takes a pause ; stocks decline', 'minor earthquake rattles southern bulgaria', \"dutch-based investor withdraws its representative from poland 's dominant insurer\", 'adb to hold its next annual meeting in may ####', 'crude products post modest rise', 'light plane crashes near moscow killing two', 'utilities shift to <unk> plants as alternative to coal', 'this marley can stir it up too', 'jakarta shares close #.# percent higher', 'venezuela deports suspected rebel to colombia', 'tropical storm carlos getting stronger in pacific', '<unk> changes management in research group to aid development', 'car bomb explodes in spanish city of pamplona', 'wie struggles again at boise open', 'colombia defeats costa rica #-#', 'london share prices up at midday', 'counting on profits to revive u.s.']\n"
     ]
    },
    {
     "name": "stdout",
     "output_type": "stream",
     "text": [
      "[\"children 's safety often neglected in cars\", 'sci-fi jeremiah suffers from lack of energy', 'finnish bank unitas reports loss for first quarter', '<unk> tour of dance courtesy of mark morris', \"sir edmund hillary 's son to attempt everest summit again\", 'swedish museum body rejects offer to buy back stolen <unk>', 'german public defict ratio stands #.# pct of gdp in ####', 'iraqi cash spent on rebuilding', 'amos oz and other israeli authors pick olives with besieged palestinians', '#### int l cycle show to open at nangang exhibition hall march ##', 'subway fire attacker known official says', 'security tightened across indonesia amid fears of more terrorist attacks', 'jiang zemin to attend summit meeting in kyrgyz', 'un investigator urges philippine military to admit facts of extrajudicial killings', 'night club owner tries to block crowd size testimony in fire trial', 'zimbabwean lawyers prepare lawsuits against mass demolitions evictions', 'bush signs identity theft bill', 'stolen rodin sculpture found in chile', 'pakistanis refugees return home to swat valley', 'technology and entertainment companies clash over digital piracy', 'losing bidders of nyc toilet contract charge favoritism', 'prime minister admits underground economy is flourishing', 'us firefighters gaining advances in containing wildfires', 'swedish gdp sees biggest hike in six years up #.# percent in second quarter', 'cis official says he is pleased with anti-terror exercises in central asia', '#.## mln afghan refugees return to homeland', 'belgium survive moroccan grilling', \"briton wins women 's ## meters freestyle\", \"premier defends president 's cnn remarks\", 'greek minister elicits offer of help from u.s. for security at olympics', 'representatives of kosovo and serbia to hold direct talks in vienna in mid-october', 'u.n. inspectors pressing iraq for free access to so-called sensitive sites', 'indian court acquits kashmiri separatist leader of funding insurgency', 'tamil tiger rebels open political office in government-controlled jaffna', \"simpson 's attorney asks to eliminate prejudiced jurors\", \"business criticizes government 's tax hike but poll suggest\", 'china musters rebuttal to unfair charges of dumping', 'venables gives le tissier his chance', 'last us troops withdraw from romanian air base', 'taiwan historical site resumes role as community center', 'owners of ## u.s. tv stations queried about using fake news paid video stories', 'italian foreign minister pledges conditional support for ahmed qureia', 'march toward quebec independence seems stalled as polls open', 'midway through grueling pilgrimage ailing pope john paul ii heads to eastern slovakia', \"lindh 's defense seeks classified documents\", 'kenya recalls ambassador to united states', 'islamic group says alleged german train bombers had no ties to it', 'cardinal says he met with pope will remain head of boston', 'california task force urges schools to get back to reading basics', \"turkish court orders pro-islamic politician 's trial rejects demand\", 'a wayward howitzer shell kills a soldier at fort drum', 'indonesian stocks fall ; weak rupiah seen keeping rates high', \"bird flu hits vietnam 's first northern locality\", \"chancellor named as coach of us women 's olympic basketball team\", 'us regulator says <unk> crisis in us unlikely', 'some ##,### policemen to be mobilized to prevent election violence', 'chrysler to fix or replace door latches on minivans', 'hong kong stocks rise ; hutchison telecom china shares lead', 's. african parliament passes local polls bill', 'spying court judge quits in protest', 'students march as police team set up to investigate death', \"grambling 's robinson heads for college football hall of fame\", 'siemens posts a loss as orders soar ## percent', 'lack of leader injuries have tripped up clippers', 'two cypriots arrested for heroin trafficking', 'georgia says us standing up to russia', 'israeli killed in shooting ambush in northern west bank', 'fossilized rhinoceros skeleton discovered in north china', 'chinese pro-democracy body condemns beijing bluster against taiwan', 'harriman introduced chirac to clinton', 'ohio steelworkers see tariff as a lifesaver', 'leading economic indicators rise in august fourth consecutive increase', 'the hulk pirate walks the plank', 'hezbollah warns of israeli aggression against lebanon in months', 'eu regulators clear rwe purchase of innogy', 'cosmic <unk> brings avant funk to knitting factory', 'economic indicators up more than expected in june', 'australian diplomat withdraws nomination after indonesia complains', 'price of master kong <unk> jump on first day of public offering', 'u.s. forces join big assault on afghan stronghold', 'metropolitan opera receives record ##-million-dollar gift', 'tours are less than ecologically correct with <unk>', 'burundi premier asks president to look for successor', \"rptn denmark 's crown prince dyes hair to go out dancing incognito\", \"malaysia probes possible new species of world 's largest flower\", 'burberry says #q revenue down # percent', 'algerian opposition grouping planning new meeting', 'china blames separatists not policies for riots', 'israeli finance minister questioned in corruption probe', 'polish medical team to leave albania this week', 'mitchell retains wba title', 'cirque du soleil announces <unk> show for las vegas', 'spaniard wins barcelona tennis open', \"dutch steel group 's half-year net profit rises ## percent\", 'arab leaders call for peace with israel each other with <unk> <unk> box', 'sutton rips refs over technical', 'philippines tries to boost income of coco farmers', 'microsoft nbc deny that they are in talks on stake in network', 'nato orders military planners to prepare expansion of afghan peacekeeping', 'metro-goldwyn-mayer swings to third quarter profit', \"us carefully watching north korea 's military posture\", 'pritchard <unk> reinstated in ###-meter semifinal after protest', 'italy bolsters security for nato-russia summit sudan airliner', 'suspect detained after teen killed in cafe shooting', 'chinese vice-premier former norwegian pm discuss ties', 'chinese delegation ends visit to poland', 'chinese communist party membership surpasses ## million', 'belgrade court issues arrest warrants for top bosnian serb war', 'un reform legislation introduced in us congress', 'u.s. officials assist in probe of crash of chinese airliner in south korea', \"venezuelan finance minister says economy wo n't grow proposes\", 'mubarak calls for implementation of hebron pact', 'philippine president thanks nigerian leader after hostages freed', 'clinton supports nato updating assessment on ground', 'witness says he fled chechnya to save own life', '## people executed in chinese anti-crime campaign', 'more funerals for victims of moscow theater raid lawmakers to consider security', \"condoleezza rice praises coretta scott king 's legacy\", 'ivory coast leader signs accord with rebels', 'three die in fierce storms in ukraine', 'orgy of world cup coverage in french media', 'angry protesters attempt to storm prison to demand arrested', \"mcdonald 's holders to vote on global animal-rights standards\", '<unk> to sell # mln shares to repay debt from acquisitions', 'germany gets first mobile phone throwing championships', 'yeltsin nominates putin as presidential candidate', 'tirol stops celtic #-# in uefa cup play', 'delors calls for world economic security council', 'dollar stable in london after weakness on asian markets', 'unemployment rate rises alarmingly in bangladesh', 'china emphasizing railway construction quality', 'ugandan government negotiators return to sudan for peace talks', 'former olympic star runner loses italian political race', '<unk> fastest in russian tt', 'india urges u.s. to cut agriculture subsidies', 'business news in brief', 's. korea assists zanzibar to fight local diseases', \"barcelona 's riquelme set to sign for villarreal\", 'new jersey daily defies conventional wisdom', 'fund manager charged with defrauding pa.', 'turkey to buy up to ## helicopters from sikorsky', '<unk> man jailed for fossil smuggling in china', \"bush 's military math is debatable\", 'kazakh australian athletes win subic bay international triathlon', 'cox news service business budget', 'cyclist in italy turns himself in to police', 'widow of ex-chinese leader deng xiaoping dies', 'moya upset in monte carlo tennis', 'high stakes plan to secure baghdad shows critical situation facing u.s. mission', 'militants kill policeman in northwest pakistan', 'jakarta shares close #.# percent lower', 'jordanian fm on ties with gcc states', 'former dpp torchbearer resigns from party', 'president to meet defeated dpp candidate thursday', 'nine wounded in palestinian infighting in gaza', 'milosevic trial resumes after a three-week break', 'former israeli-allied militiamen return to lebanon from israel with their families', \"fans may be giving up but angels are n't\", 'sharon optimistic about peace with palestinians', 'industrial production slightly up in euro zone', 'england and france gear up for le crunch', 'when former basketball player vanishes in pacific his brother leaves trail of mystery', 'rutgers rescinds reservation for pro-palestinian forum', 'fig bans gymnast fines taiwan body in doping case', 'bulgaria to host meeting of southeast europe defense ministers', 'lleyton hewitt accepts wild card in stockholm', 'ankara welcomes eu initiative toward turkish cypriots', 'malaysia dumps plan to allow mobiles in schools', 'two soldiers killed in explosion', 'first kosovo refugees land in uk', 'rebels attack military camp killing at least ## soldiers', 'jury returns dlrs ### million verdict against gm in crash that left', 'dysfunction secrecy marked troubled transplant program', 'jason oliver dies after riding fall', 'xinhua middle east news advisory feb. ##', '## dead in bus crash in bolivia', 'boca juniors beat santos #-# in libertadores cup final', 'beijing to upgrade emergency response system', 'gm ipo may surpass expectations michael j. de la merced contributed reporting from new york and nick bunkley from detroit', 'foreign exchange rates in kenya', 'spanish coach jose antonio camacho lambasts press for attacking', 'president-elect vows to implement regular charter flights', 'three colombian soldiers killed in clashes with rebels', 'turkmenistan and iran sign agreement on electricity supply', 'real madrid backs old heads to end trophy drought', 'hong kong stocks higher at midday', 'cuban names new tourist minister', 'schumacher wins third pole of season ; teammate barrichello', 'former england batsman smith retires', 'where to find some fitness podcasts', 'namibian president invites indian investment', 'braves fate may hinge on suspect bullpen', \"poor day 's fielding costs australia against india\", 'stocks end zigzag session higher in light volume', 'microsoft nbc in venture to create cable news channel', 'a sweet victory for <unk>', 'fans looking for elvis place in country hall of fame with <unk> anniversary', 'london share prices higher at midday', \"harvard law 's <unk> becomes a back-seat professor\", 'panthers go as far as knight takes them']\n"
     ]
    },
    {
     "ename": "KeyboardInterrupt",
     "evalue": "",
     "output_type": "error",
     "traceback": [
      "\u001b[1;31m---------------------------------------------------------------------------\u001b[0m",
      "\u001b[1;31mKeyboardInterrupt\u001b[0m                         Traceback (most recent call last)",
      "\u001b[1;32m<ipython-input-21-430d50df4db0>\u001b[0m in \u001b[0;36m<module>\u001b[1;34m\u001b[0m\n\u001b[0;32m     13\u001b[0m         \u001b[0mopt\u001b[0m\u001b[1;33m.\u001b[0m\u001b[0mload_model\u001b[0m \u001b[1;33m=\u001b[0m \u001b[0mf\u001b[0m\u001b[1;33m\u001b[0m\u001b[1;33m\u001b[0m\u001b[0m\n\u001b[0;32m     14\u001b[0m         \u001b[0meval_processor\u001b[0m \u001b[1;33m=\u001b[0m \u001b[0mEvaluate\u001b[0m\u001b[1;33m(\u001b[0m\u001b[0mconfig\u001b[0m\u001b[1;33m.\u001b[0m\u001b[0mvalid_data_path\u001b[0m\u001b[1;33m,\u001b[0m \u001b[0mopt\u001b[0m\u001b[1;33m)\u001b[0m\u001b[1;33m\u001b[0m\u001b[1;33m\u001b[0m\u001b[0m\n\u001b[1;32m---> 15\u001b[1;33m         \u001b[0meval_processor\u001b[0m\u001b[1;33m.\u001b[0m\u001b[0mevaluate_batch\u001b[0m\u001b[1;33m(\u001b[0m\u001b[0mprint_sents\u001b[0m \u001b[1;33m=\u001b[0m \u001b[1;32mTrue\u001b[0m\u001b[1;33m)\u001b[0m\u001b[1;33m\u001b[0m\u001b[1;33m\u001b[0m\u001b[0m\n\u001b[0m\u001b[0;32m     16\u001b[0m \u001b[1;32melse\u001b[0m\u001b[1;33m:\u001b[0m   \u001b[1;31m#test\u001b[0m\u001b[1;33m\u001b[0m\u001b[1;33m\u001b[0m\u001b[0m\n\u001b[0;32m     17\u001b[0m     \u001b[0meval_processor\u001b[0m \u001b[1;33m=\u001b[0m \u001b[0mEvaluate\u001b[0m\u001b[1;33m(\u001b[0m\u001b[0mconfig\u001b[0m\u001b[1;33m.\u001b[0m\u001b[0mtest_data_path\u001b[0m\u001b[1;33m,\u001b[0m \u001b[0mopt\u001b[0m\u001b[1;33m)\u001b[0m\u001b[1;33m\u001b[0m\u001b[1;33m\u001b[0m\u001b[0m\n",
      "\u001b[1;32m<ipython-input-18-1de826fdefb9>\u001b[0m in \u001b[0;36mevaluate_batch\u001b[1;34m(self, print_sents)\u001b[0m\n\u001b[0;32m     45\u001b[0m             \u001b[1;31m#-----------------------Summarization----------------------------------------------------\u001b[0m\u001b[1;33m\u001b[0m\u001b[1;33m\u001b[0m\u001b[1;33m\u001b[0m\u001b[0m\n\u001b[0;32m     46\u001b[0m             \u001b[1;32mwith\u001b[0m \u001b[0mT\u001b[0m\u001b[1;33m.\u001b[0m\u001b[0mautograd\u001b[0m\u001b[1;33m.\u001b[0m\u001b[0mno_grad\u001b[0m\u001b[1;33m(\u001b[0m\u001b[1;33m)\u001b[0m\u001b[1;33m:\u001b[0m\u001b[1;33m\u001b[0m\u001b[1;33m\u001b[0m\u001b[0m\n\u001b[1;32m---> 47\u001b[1;33m                 \u001b[0mpred_ids\u001b[0m \u001b[1;33m=\u001b[0m \u001b[0mbeam_search\u001b[0m\u001b[1;33m(\u001b[0m\u001b[0menc_hidden\u001b[0m\u001b[1;33m,\u001b[0m \u001b[0menc_out\u001b[0m\u001b[1;33m,\u001b[0m \u001b[0menc_padding_mask\u001b[0m\u001b[1;33m,\u001b[0m \u001b[0mct_e\u001b[0m\u001b[1;33m,\u001b[0m \u001b[0mextra_zeros\u001b[0m\u001b[1;33m,\u001b[0m \u001b[0menc_batch_extend_vocab\u001b[0m\u001b[1;33m,\u001b[0m \u001b[0mself\u001b[0m\u001b[1;33m.\u001b[0m\u001b[0mmodel\u001b[0m\u001b[1;33m,\u001b[0m \u001b[0mstart_id\u001b[0m\u001b[1;33m,\u001b[0m \u001b[0mend_id\u001b[0m\u001b[1;33m,\u001b[0m \u001b[0munk_id\u001b[0m\u001b[1;33m)\u001b[0m\u001b[1;33m\u001b[0m\u001b[1;33m\u001b[0m\u001b[0m\n\u001b[0m\u001b[0;32m     48\u001b[0m \u001b[1;33m\u001b[0m\u001b[0m\n\u001b[0;32m     49\u001b[0m             \u001b[1;32mfor\u001b[0m \u001b[0mi\u001b[0m \u001b[1;32min\u001b[0m \u001b[0mrange\u001b[0m\u001b[1;33m(\u001b[0m\u001b[0mlen\u001b[0m\u001b[1;33m(\u001b[0m\u001b[0mpred_ids\u001b[0m\u001b[1;33m)\u001b[0m\u001b[1;33m)\u001b[0m\u001b[1;33m:\u001b[0m\u001b[1;33m\u001b[0m\u001b[1;33m\u001b[0m\u001b[0m\n",
      "\u001b[1;32m~\\w210\\capstone\\LSTM_Summarizer\\beam_search.py\u001b[0m in \u001b[0;36mbeam_search\u001b[1;34m(enc_hid, enc_out, enc_padding_mask, ct_e, extra_zeros, enc_batch_extend_vocab, model, start_id, end_id, unk_id)\u001b[0m\n\u001b[0;32m    150\u001b[0m             \u001b[1;32mif\u001b[0m \u001b[0mprev_s\u001b[0m \u001b[1;32mis\u001b[0m \u001b[1;32mnot\u001b[0m \u001b[1;32mNone\u001b[0m\u001b[1;33m:\u001b[0m\u001b[1;33m\u001b[0m\u001b[1;33m\u001b[0m\u001b[0m\n\u001b[0;32m    151\u001b[0m                 \u001b[0mprev_s_i\u001b[0m \u001b[1;33m=\u001b[0m \u001b[0mprev_s\u001b[0m\u001b[1;33m[\u001b[0m\u001b[0mi\u001b[0m\u001b[1;33m]\u001b[0m                                                \u001b[1;31m#beam, t, n_hid\u001b[0m\u001b[1;33m\u001b[0m\u001b[1;33m\u001b[0m\u001b[0m\n\u001b[1;32m--> 152\u001b[1;33m             \u001b[0mbeam\u001b[0m\u001b[1;33m.\u001b[0m\u001b[0madvance\u001b[0m\u001b[1;33m(\u001b[0m\u001b[0mfinal_dist\u001b[0m\u001b[1;33m[\u001b[0m\u001b[0mi\u001b[0m\u001b[1;33m]\u001b[0m\u001b[1;33m,\u001b[0m \u001b[1;33m(\u001b[0m\u001b[0mdec_h\u001b[0m\u001b[1;33m[\u001b[0m\u001b[0mi\u001b[0m\u001b[1;33m]\u001b[0m\u001b[1;33m,\u001b[0m \u001b[0mdec_c\u001b[0m\u001b[1;33m[\u001b[0m\u001b[0mi\u001b[0m\u001b[1;33m]\u001b[0m\u001b[1;33m)\u001b[0m\u001b[1;33m,\u001b[0m \u001b[0mct_e\u001b[0m\u001b[1;33m[\u001b[0m\u001b[0mi\u001b[0m\u001b[1;33m]\u001b[0m\u001b[1;33m,\u001b[0m \u001b[0msum_temporal_srcs_i\u001b[0m\u001b[1;33m,\u001b[0m \u001b[0mprev_s_i\u001b[0m\u001b[1;33m)\u001b[0m\u001b[1;33m\u001b[0m\u001b[1;33m\u001b[0m\u001b[0m\n\u001b[0m\u001b[0;32m    153\u001b[0m             \u001b[1;32mif\u001b[0m \u001b[0mbeam\u001b[0m\u001b[1;33m.\u001b[0m\u001b[0mdone\u001b[0m \u001b[1;33m==\u001b[0m \u001b[1;32mFalse\u001b[0m\u001b[1;33m:\u001b[0m\u001b[1;33m\u001b[0m\u001b[1;33m\u001b[0m\u001b[0m\n\u001b[0;32m    154\u001b[0m                 \u001b[0mactive\u001b[0m\u001b[1;33m.\u001b[0m\u001b[0mappend\u001b[0m\u001b[1;33m(\u001b[0m\u001b[0mb\u001b[0m\u001b[1;33m)\u001b[0m\u001b[1;33m\u001b[0m\u001b[1;33m\u001b[0m\u001b[0m\n",
      "\u001b[1;32m~\\w210\\capstone\\LSTM_Summarizer\\beam_search.py\u001b[0m in \u001b[0;36madvance\u001b[1;34m(self, prob_dist, hidden_state, context, sum_temporal_srcs, prev_s)\u001b[0m\n\u001b[0;32m     43\u001b[0m         \u001b[0mscores\u001b[0m \u001b[1;33m=\u001b[0m \u001b[0mlog_probs\u001b[0m \u001b[1;33m+\u001b[0m \u001b[0mself\u001b[0m\u001b[1;33m.\u001b[0m\u001b[0mscores\u001b[0m                                \u001b[1;31m#beam, n_extended_vocab\u001b[0m\u001b[1;33m\u001b[0m\u001b[1;33m\u001b[0m\u001b[0m\n\u001b[0;32m     44\u001b[0m         \u001b[0mscores\u001b[0m \u001b[1;33m=\u001b[0m \u001b[0mscores\u001b[0m\u001b[1;33m.\u001b[0m\u001b[0mview\u001b[0m\u001b[1;33m(\u001b[0m\u001b[1;33m-\u001b[0m\u001b[1;36m1\u001b[0m\u001b[1;33m,\u001b[0m\u001b[1;36m1\u001b[0m\u001b[1;33m)\u001b[0m                                      \u001b[1;31m#beam*n_extended_vocab, 1\u001b[0m\u001b[1;33m\u001b[0m\u001b[1;33m\u001b[0m\u001b[0m\n\u001b[1;32m---> 45\u001b[1;33m         \u001b[0mbest_scores\u001b[0m\u001b[1;33m,\u001b[0m \u001b[0mbest_scores_id\u001b[0m \u001b[1;33m=\u001b[0m \u001b[0mT\u001b[0m\u001b[1;33m.\u001b[0m\u001b[0mtopk\u001b[0m\u001b[1;33m(\u001b[0m\u001b[0minput\u001b[0m\u001b[1;33m=\u001b[0m\u001b[0mscores\u001b[0m\u001b[1;33m,\u001b[0m \u001b[0mk\u001b[0m\u001b[1;33m=\u001b[0m\u001b[0mconfig\u001b[0m\u001b[1;33m.\u001b[0m\u001b[0mbeam_size\u001b[0m\u001b[1;33m,\u001b[0m \u001b[0mdim\u001b[0m\u001b[1;33m=\u001b[0m\u001b[1;36m0\u001b[0m\u001b[1;33m)\u001b[0m   \u001b[1;31m#will be sorted in descending order of scores\u001b[0m\u001b[1;33m\u001b[0m\u001b[1;33m\u001b[0m\u001b[0m\n\u001b[0m\u001b[0;32m     46\u001b[0m         \u001b[0mself\u001b[0m\u001b[1;33m.\u001b[0m\u001b[0mscores\u001b[0m \u001b[1;33m=\u001b[0m \u001b[0mbest_scores\u001b[0m                                       \u001b[1;31m#(beam,1); sorted\u001b[0m\u001b[1;33m\u001b[0m\u001b[1;33m\u001b[0m\u001b[0m\n\u001b[0;32m     47\u001b[0m         \u001b[0mbeams_order\u001b[0m \u001b[1;33m=\u001b[0m \u001b[0mbest_scores_id\u001b[0m\u001b[1;33m.\u001b[0m\u001b[0msqueeze\u001b[0m\u001b[1;33m(\u001b[0m\u001b[1;36m1\u001b[0m\u001b[1;33m)\u001b[0m\u001b[1;33m/\u001b[0m\u001b[0mn_extended_vocab\u001b[0m        \u001b[1;31m#(beam,); sorted\u001b[0m\u001b[1;33m\u001b[0m\u001b[1;33m\u001b[0m\u001b[0m\n",
      "\u001b[1;31mKeyboardInterrupt\u001b[0m: "
     ]
    }
   ],
   "source": [
    "task = \"validate\"\n",
    "start_from = \"0000001.tar\" #name of first model -- change this\n",
    "load_model = None\n",
    "\n",
    "opt = Namespace(task = task, start_from = start_from, load_model = load_model)\n",
    "\n",
    "if (opt.task == \"validate\"):\n",
    "    saved_models = os.listdir(config.save_model_path)\n",
    "    saved_models.sort()\n",
    "    file_idx = saved_models.index(start_from)\n",
    "    saved_models = saved_models[file_idx:]\n",
    "    for f in saved_models:\n",
    "        opt.load_model = f\n",
    "        eval_processor = Evaluate(config.valid_data_path, opt)\n",
    "        eval_processor.evaluate_batch(print_sents = True) \n",
    "else:   #test\n",
    "    eval_processor = Evaluate(config.test_data_path, opt)\n",
    "    eval_processor.evaluate_batch()\n",
    "\n"
   ]
  },
  {
   "cell_type": "code",
   "execution_count": null,
   "metadata": {},
   "outputs": [],
   "source": []
  }
 ],
 "metadata": {
  "kernelspec": {
   "display_name": "Python 3",
   "language": "python",
   "name": "python3"
  },
  "language_info": {
   "codemirror_mode": {
    "name": "ipython",
    "version": 3
   },
   "file_extension": ".py",
   "mimetype": "text/x-python",
   "name": "python",
   "nbconvert_exporter": "python",
   "pygments_lexer": "ipython3",
   "version": "3.7.3"
  }
 },
 "nbformat": 4,
 "nbformat_minor": 4
}
