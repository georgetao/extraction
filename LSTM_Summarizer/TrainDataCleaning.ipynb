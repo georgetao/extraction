{
 "cells": [
  {
   "cell_type": "code",
   "execution_count": 1,
   "metadata": {},
   "outputs": [
    {
     "name": "stderr",
     "output_type": "stream",
     "text": [
      "Using TensorFlow backend.\n"
     ]
    }
   ],
   "source": [
    "# Outside imports\n",
    "import os\n",
    "import importlib\n",
    "import warnings\n",
    "warnings.filterwarnings('ignore')\n",
    "\n",
    "import numpy as np\n",
    "import pandas as pd\n",
    "from sklearn.model_selection import train_test_split\n",
    "\n",
    "from keras.preprocessing.text import Tokenizer\n",
    "from keras.preprocessing.sequence import pad_sequences"
   ]
  },
  {
   "cell_type": "code",
   "execution_count": 86,
   "metadata": {},
   "outputs": [],
   "source": [
    "import data_util.preprocess \n",
    "importlib.reload(data_util.preprocess)\n",
    "from data_util.preprocess import *\n",
    "\n",
    "\n",
    "\n",
    "import model\n",
    "import train\n",
    "import evaluate\n",
    "import train_util\n",
    "import data_util.data\n",
    "import data_util.batcher\n",
    "import data_util.config\n",
    "\n",
    "importlib.reload(data_util.batcher)\n",
    "importlib.reload(model)\n",
    "importlib.reload(train)\n",
    "importlib.reload(evaluate)\n",
    "importlib.reload(train_util)\n",
    "importlib.reload(data_util.config)\n",
    "importlib.reload(data_util.data)\n",
    "\n",
    "from data_util.batcher import *\n",
    "from evaluate import *\n",
    "from model import *\n",
    "from train import *\n",
    "from train_util import *\n",
    "from data_util.data import *\n",
    "\n"
   ]
  },
  {
   "cell_type": "code",
   "execution_count": 3,
   "metadata": {},
   "outputs": [],
   "source": [
    "# load real data\n",
    "data_path = '/Users/rowancassius/Desktop/capstone/data/context_task_data.tsv'\n",
    "dat = pd.read_csv(data_path, sep='\\t')"
   ]
  },
  {
   "cell_type": "code",
   "execution_count": 4,
   "metadata": {},
   "outputs": [
    {
     "name": "stdout",
     "output_type": "stream",
     "text": [
      "/Users/rowancassius/Desktop/capstone/LSTM_Summarizer\r\n"
     ]
    }
   ],
   "source": [
    "!pwd"
   ]
  },
  {
   "cell_type": "code",
   "execution_count": 5,
   "metadata": {},
   "outputs": [],
   "source": [
    "# load real data\n",
    "data_path = '/Users/rowancassius/Desktop/capstone/data/context_task_data.tsv'\n",
    "dat = pd.read_csv(data_path, sep='\\t')\n",
    "\n",
    "# fill nas\n",
    "dat.fillna('', inplace=True)\n",
    "\n",
    "# train/test split\n",
    "np.random.seed(111)\n",
    "dat = dat.sample(frac=1)\n",
    "train_size = int(.8*dat.shape[0])\n",
    "train_data = dat[:train_size]\n",
    "test_data = dat[train_size:]\n"
   ]
  },
  {
   "cell_type": "code",
   "execution_count": 6,
   "metadata": {},
   "outputs": [],
   "source": [
    "pd.set_option('display.max_colwidth', -1)"
   ]
  },
  {
   "cell_type": "code",
   "execution_count": 174,
   "metadata": {},
   "outputs": [
    {
     "data": {
      "text/html": [
       "<div>\n",
       "<style scoped>\n",
       "    .dataframe tbody tr th:only-of-type {\n",
       "        vertical-align: middle;\n",
       "    }\n",
       "\n",
       "    .dataframe tbody tr th {\n",
       "        vertical-align: top;\n",
       "    }\n",
       "\n",
       "    .dataframe thead th {\n",
       "        text-align: right;\n",
       "    }\n",
       "</style>\n",
       "<table border=\"1\" class=\"dataframe\">\n",
       "  <thead>\n",
       "    <tr style=\"text-align: right;\">\n",
       "      <th></th>\n",
       "      <th>#</th>\n",
       "      <th>Task</th>\n",
       "      <th>Context</th>\n",
       "      <th>TaskSentence</th>\n",
       "      <th>Summary</th>\n",
       "      <th>Labeler</th>\n",
       "      <th>NoRequestInContext</th>\n",
       "      <th>Urgent</th>\n",
       "      <th>NotRequest</th>\n",
       "      <th>Unsure/Discuss</th>\n",
       "      <th>RandomNumber</th>\n",
       "    </tr>\n",
       "  </thead>\n",
       "  <tbody>\n",
       "    <tr>\n",
       "      <td>161</td>\n",
       "      <td>162</td>\n",
       "      <td>Please use the following two files as your detail support for finanical</td>\n",
       "      <td></td>\n",
       "      <td>Please use the following two files as your detail support for finanical liquidations:</td>\n",
       "      <td>Use files as detail support</td>\n",
       "      <td>Rowan</td>\n",
       "      <td></td>\n",
       "      <td></td>\n",
       "      <td></td>\n",
       "      <td></td>\n",
       "      <td>0.714333</td>\n",
       "    </tr>\n",
       "    <tr>\n",
       "      <td>843</td>\n",
       "      <td>5159</td>\n",
       "      <td>process from a RAC perspective, so going forward, would you please copy her</td>\n",
       "      <td></td>\n",
       "      <td>Cheryl - you're doing a great job of trying to keep us in the loop - Mary's going to be working with you on the administration of this brokerage account process from a RAC perspective, so going forward, would you please copy her on all correspondence you'd normally include me in?</td>\n",
       "      <td>Copy Mary on all correspondence with SENDER</td>\n",
       "      <td>Natalie</td>\n",
       "      <td>1</td>\n",
       "      <td>0</td>\n",
       "      <td>0</td>\n",
       "      <td></td>\n",
       "      <td>0.981606</td>\n",
       "    </tr>\n",
       "    <tr>\n",
       "      <td>116</td>\n",
       "      <td>117</td>\n",
       "      <td>Please review and provide your thoughts.</td>\n",
       "      <td>Brian,. Attached is a very rough draft of a 20/20 Term Sheet that is contemplated to be attached to a Letter of Intent.</td>\n",
       "      <td>Please review and provide your thoughts.</td>\n",
       "      <td>Review draft of 20/20 Term Sheet</td>\n",
       "      <td>Rowan</td>\n",
       "      <td>1</td>\n",
       "      <td></td>\n",
       "      <td></td>\n",
       "      <td></td>\n",
       "      <td>0.151844</td>\n",
       "    </tr>\n",
       "    <tr>\n",
       "      <td>1207</td>\n",
       "      <td>5523</td>\n",
       "      <td>Please include the room and time on</td>\n",
       "      <td>Kim, please send Victor and myself an amtel message at 11:00am AND at 1:30pm on Feb 1 to attend the meeting below.</td>\n",
       "      <td>Please include the room and time on the amtel.</td>\n",
       "      <td>Include room and time on amtel</td>\n",
       "      <td>Natalie</td>\n",
       "      <td>0</td>\n",
       "      <td>0</td>\n",
       "      <td>1</td>\n",
       "      <td></td>\n",
       "      <td>0.369536</td>\n",
       "    </tr>\n",
       "    <tr>\n",
       "      <td>886</td>\n",
       "      <td>5202</td>\n",
       "      <td>so could you please prepare an ISDA Agreement for their review.</td>\n",
       "      <td></td>\n",
       "      <td>David, We want to be able to start performing financial trades with Frontera so could you please prepare an ISDA Agreement for their review.</td>\n",
       "      <td>Prepare ISDA Agreement for Frontera's review</td>\n",
       "      <td>Natalie</td>\n",
       "      <td>1</td>\n",
       "      <td>0</td>\n",
       "      <td>0</td>\n",
       "      <td></td>\n",
       "      <td>0.329744</td>\n",
       "    </tr>\n",
       "    <tr>\n",
       "      <td>381</td>\n",
       "      <td>382</td>\n",
       "      <td>Can you give me some background on Bogdan?</td>\n",
       "      <td>Vince:</td>\n",
       "      <td>Can you give me some background on Bogdan?</td>\n",
       "      <td>Provide background on Bogan</td>\n",
       "      <td>Rowan</td>\n",
       "      <td>1</td>\n",
       "      <td>0</td>\n",
       "      <td></td>\n",
       "      <td></td>\n",
       "      <td>0.894518</td>\n",
       "    </tr>\n",
       "    <tr>\n",
       "      <td>893</td>\n",
       "      <td>5209</td>\n",
       "      <td>Please call me at 707-9641-155 ,</td>\n",
       "      <td>Hi Jeff: I know a Jeff Dasovich, exact spelling, an attorney in Oklahoma City...I'm looking forward to talking to you about the potential for vineyard.</td>\n",
       "      <td>Please call me at 707-9641-155 , I zoom around pretty fast but should be able to get down there soon.</td>\n",
       "      <td>Call SENDER at 707-9641-155 about vineyard</td>\n",
       "      <td>Natalie</td>\n",
       "      <td>1</td>\n",
       "      <td>0</td>\n",
       "      <td>0</td>\n",
       "      <td></td>\n",
       "      <td>0.224640</td>\n",
       "    </tr>\n",
       "    <tr>\n",
       "      <td>342</td>\n",
       "      <td>343</td>\n",
       "      <td>But, I'm still here; give me a call when you get a</td>\n",
       "      <td>Thanks for the note and congratulations.. Sorry we didn't get a chance to talk before you left.</td>\n",
       "      <td>But, I'm still here; give me a call when you get a chance - 1586.</td>\n",
       "      <td>Call SENDER</td>\n",
       "      <td>Rowan</td>\n",
       "      <td>1</td>\n",
       "      <td>0</td>\n",
       "      <td></td>\n",
       "      <td></td>\n",
       "      <td>0.753786</td>\n",
       "    </tr>\n",
       "    <tr>\n",
       "      <td>1125</td>\n",
       "      <td>5441</td>\n",
       "      <td>Please review the language under B of Contract Price of the Transaction Agreement to see if it isn't sufficient to cover the concept under item 8 of Pasadena Usage under your term sheet.</td>\n",
       "      <td></td>\n",
       "      <td>Please review the language under B of Contract Price of the Transaction Agreement to see if it isn't sufficient to cover the concept under item 8 of Pasadena Usage under your term sheet.</td>\n",
       "      <td>Review language of Transaction Agreement</td>\n",
       "      <td>Natalie</td>\n",
       "      <td>1</td>\n",
       "      <td>0</td>\n",
       "      <td>0</td>\n",
       "      <td></td>\n",
       "      <td>0.991959</td>\n",
       "    </tr>\n",
       "    <tr>\n",
       "      <td>1141</td>\n",
       "      <td>5457</td>\n",
       "      <td>No biggie ... give me a call back when you get a chance to chat some more</td>\n",
       "      <td></td>\n",
       "      <td>No biggie ... give me a call back when you get a chance to chat some more :</td>\n",
       "      <td>Call SENDER</td>\n",
       "      <td>Natalie</td>\n",
       "      <td>1</td>\n",
       "      <td>0</td>\n",
       "      <td>0</td>\n",
       "      <td></td>\n",
       "      <td>0.492506</td>\n",
       "    </tr>\n",
       "  </tbody>\n",
       "</table>\n",
       "</div>"
      ],
      "text/plain": [
       "         #  \\\n",
       "161   162    \n",
       "843   5159   \n",
       "116   117    \n",
       "1207  5523   \n",
       "886   5202   \n",
       "381   382    \n",
       "893   5209   \n",
       "342   343    \n",
       "1125  5441   \n",
       "1141  5457   \n",
       "\n",
       "                                                                                                                                                                                            Task  \\\n",
       "161   Please use the following two files as your detail support for finanical                                                                                                                      \n",
       "843   process from a RAC perspective, so going forward, would you please copy her                                                                                                                  \n",
       "116   Please review and provide your thoughts.                                                                                                                                                     \n",
       "1207  Please include the room and time on                                                                                                                                                          \n",
       "886   so could you please prepare an ISDA Agreement for their review.                                                                                                                              \n",
       "381   Can you give me some background on Bogdan?                                                                                                                                                   \n",
       "893   Please call me at 707-9641-155 ,                                                                                                                                                             \n",
       "342   But, I'm still here; give me a call when you get a                                                                                                                                           \n",
       "1125  Please review the language under B of Contract Price of the Transaction Agreement to see if it isn't sufficient to cover the concept under item 8 of Pasadena Usage under your term sheet.   \n",
       "1141  No biggie ... give me a call back when you get a chance to chat some more                                                                                                                    \n",
       "\n",
       "                                                                                                                                                      Context  \\\n",
       "161                                                                                                                                                             \n",
       "843                                                                                                                                                             \n",
       "116   Brian,. Attached is a very rough draft of a 20/20 Term Sheet that is contemplated to be attached to a Letter of Intent.                                   \n",
       "1207  Kim, please send Victor and myself an amtel message at 11:00am AND at 1:30pm on Feb 1 to attend the meeting below.                                        \n",
       "886                                                                                                                                                             \n",
       "381   Vince:                                                                                                                                                    \n",
       "893   Hi Jeff: I know a Jeff Dasovich, exact spelling, an attorney in Oklahoma City...I'm looking forward to talking to you about the potential for vineyard.   \n",
       "342   Thanks for the note and congratulations.. Sorry we didn't get a chance to talk before you left.                                                           \n",
       "1125                                                                                                                                                            \n",
       "1141                                                                                                                                                            \n",
       "\n",
       "                                                                                                                                                                                                                                                                                  TaskSentence  \\\n",
       "161   Please use the following two files as your detail support for finanical liquidations:                                                                                                                                                                                                      \n",
       "843   Cheryl - you're doing a great job of trying to keep us in the loop - Mary's going to be working with you on the administration of this brokerage account process from a RAC perspective, so going forward, would you please copy her on all correspondence you'd normally include me in?   \n",
       "116   Please review and provide your thoughts.                                                                                                                                                                                                                                                   \n",
       "1207  Please include the room and time on the amtel.                                                                                                                                                                                                                                             \n",
       "886   David, We want to be able to start performing financial trades with Frontera so could you please prepare an ISDA Agreement for their review.                                                                                                                                               \n",
       "381   Can you give me some background on Bogdan?                                                                                                                                                                                                                                                 \n",
       "893   Please call me at 707-9641-155 , I zoom around pretty fast but should be able to get down there soon.                                                                                                                                                                                      \n",
       "342   But, I'm still here; give me a call when you get a chance - 1586.                                                                                                                                                                                                                          \n",
       "1125  Please review the language under B of Contract Price of the Transaction Agreement to see if it isn't sufficient to cover the concept under item 8 of Pasadena Usage under your term sheet.                                                                                                 \n",
       "1141  No biggie ... give me a call back when you get a chance to chat some more :                                                                                                                                                                                                                \n",
       "\n",
       "                                           Summary  Labeler  \\\n",
       "161   Use files as detail support                   Rowan     \n",
       "843   Copy Mary on all correspondence with SENDER   Natalie   \n",
       "116   Review draft of 20/20 Term Sheet              Rowan     \n",
       "1207  Include room and time on amtel                Natalie   \n",
       "886   Prepare ISDA Agreement for Frontera's review  Natalie   \n",
       "381   Provide background on Bogan                   Rowan     \n",
       "893   Call SENDER at 707-9641-155 about vineyard    Natalie   \n",
       "342   Call SENDER                                   Rowan     \n",
       "1125  Review language of Transaction Agreement      Natalie   \n",
       "1141  Call SENDER                                   Natalie   \n",
       "\n",
       "     NoRequestInContext Urgent NotRequest Unsure/Discuss  RandomNumber  \n",
       "161                                                       0.714333      \n",
       "843   1                  0      0                         0.981606      \n",
       "116   1                                                   0.151844      \n",
       "1207  0                  0      1                         0.369536      \n",
       "886   1                  0      0                         0.329744      \n",
       "381   1                  0                                0.894518      \n",
       "893   1                  0      0                         0.224640      \n",
       "342   1                  0                                0.753786      \n",
       "1125  1                  0      0                         0.991959      \n",
       "1141  1                  0      0                         0.492506      "
      ]
     },
     "execution_count": 174,
     "metadata": {},
     "output_type": "execute_result"
    }
   ],
   "source": [
    "train_data.sample(10)"
   ]
  },
  {
   "cell_type": "markdown",
   "metadata": {},
   "source": [
    "##  Vocabulary Curation"
   ]
  },
  {
   "cell_type": "code",
   "execution_count": 8,
   "metadata": {},
   "outputs": [],
   "source": [
    "vocab_sents = [vocab_process_text(s) for s in \n",
    "               train_data.Context.values + train_data.TaskSentence.values]"
   ]
  },
  {
   "cell_type": "code",
   "execution_count": 9,
   "metadata": {},
   "outputs": [],
   "source": [
    "# fit tokenizer\n",
    "tokenizer = Tokenizer(lower=False, filters='')\n",
    "tokenizer.fit_on_texts(vocab_sents + list(ENT_TAGS))\n",
    "assert all([t in tokenizer.word_index for t in ENT_TAGS])"
   ]
  },
  {
   "cell_type": "code",
   "execution_count": 10,
   "metadata": {},
   "outputs": [],
   "source": [
    "words2vocabfile(tokenizer.word_index.keys(), os.path.join(config.log_root, 'data/vocab.txt'))"
   ]
  },
  {
   "cell_type": "code",
   "execution_count": 11,
   "metadata": {},
   "outputs": [
    {
     "name": "stdout",
     "output_type": "stream",
     "text": [
      "Finished constructing vocabulary of 4178 total words. Last word added: a\n"
     ]
    }
   ],
   "source": [
    "vocab = Vocab.from_vocab_file(os.path.join(config.log_root, 'data/vocab.txt'))"
   ]
  },
  {
   "cell_type": "code",
   "execution_count": 175,
   "metadata": {},
   "outputs": [],
   "source": [
    "i= 116\n",
    "context = train_data.loc[i]['Context']\n",
    "task    = train_data.loc[i]['TaskSentence']\n",
    "summary = train_data.loc[i]['Summary']\n",
    "\n",
    "\n",
    "context = article_process_text(context)\n",
    "task = article_process_text(task)\n",
    "summary = summary_process_text(summary)"
   ]
  },
  {
   "cell_type": "code",
   "execution_count": 176,
   "metadata": {},
   "outputs": [
    {
     "data": {
      "text/plain": [
       "'review draft of 20/20 Term Sheet'"
      ]
     },
     "execution_count": 176,
     "metadata": {},
     "output_type": "execute_result"
    }
   ],
   "source": [
    "summary"
   ]
  },
  {
   "cell_type": "code",
   "execution_count": 177,
   "metadata": {},
   "outputs": [],
   "source": [
    "import data_util.batcher\n",
    "importlib.reload(data_util.batcher)\n",
    "from data_util.batcher import *"
   ]
  },
  {
   "cell_type": "code",
   "execution_count": 178,
   "metadata": {},
   "outputs": [],
   "source": [
    "ex = TaskExample(context, task, summary, vocab)"
   ]
  },
  {
   "cell_type": "code",
   "execution_count": 179,
   "metadata": {},
   "outputs": [
    {
     "data": {
      "text/plain": [
       "27"
      ]
     },
     "execution_count": 179,
     "metadata": {},
     "output_type": "execute_result"
    }
   ],
   "source": [
    "len(ex.enc_input)"
   ]
  },
  {
   "cell_type": "code",
   "execution_count": 180,
   "metadata": {},
   "outputs": [
    {
     "data": {
      "text/plain": [
       "[2, 519, 893, 986, 3207, 0]"
      ]
     },
     "execution_count": 180,
     "metadata": {},
     "output_type": "execute_result"
    }
   ],
   "source": [
    "ex.dec_input"
   ]
  },
  {
   "cell_type": "code",
   "execution_count": 181,
   "metadata": {},
   "outputs": [
    {
     "data": {
      "text/plain": [
       "{'Brian, Attached': 'ORG', '20/20': 'CARDINAL', 'a Letter of Intent': 'ORG'}"
      ]
     },
     "execution_count": 181,
     "metadata": {},
     "output_type": "execute_result"
    }
   ],
   "source": [
    "ex.entity_label_map"
   ]
  },
  {
   "cell_type": "code",
   "execution_count": 182,
   "metadata": {},
   "outputs": [
    {
     "data": {
      "text/plain": [
       "['Brian, Attached', '20/20', 'a Letter of Intent']"
      ]
     },
     "execution_count": 182,
     "metadata": {},
     "output_type": "execute_result"
    }
   ],
   "source": [
    "ex.article_oovs"
   ]
  },
  {
   "cell_type": "code",
   "execution_count": 183,
   "metadata": {},
   "outputs": [
    {
     "data": {
      "text/plain": [
       "['review', 'draft', 'of', '20/20', 'Term Sheet']"
      ]
     },
     "execution_count": 183,
     "metadata": {},
     "output_type": "execute_result"
    }
   ],
   "source": [
    "ex.summary_tokens"
   ]
  },
  {
   "cell_type": "code",
   "execution_count": 184,
   "metadata": {},
   "outputs": [
    {
     "data": {
      "text/plain": [
       "[519, 893, 986, 4179, 0]"
      ]
     },
     "execution_count": 184,
     "metadata": {},
     "output_type": "execute_result"
    }
   ],
   "source": [
    "ex.sum_ids_extend_vocab"
   ]
  },
  {
   "cell_type": "code",
   "execution_count": 185,
   "metadata": {},
   "outputs": [
    {
     "data": {
      "text/plain": [
       "[2, 519, 893, 986, 3207, 0]"
      ]
     },
     "execution_count": 185,
     "metadata": {},
     "output_type": "execute_result"
    }
   ],
   "source": [
    "ex.dec_input"
   ]
  },
  {
   "cell_type": "code",
   "execution_count": 138,
   "metadata": {},
   "outputs": [
    {
     "data": {
      "text/plain": [
       "()"
      ]
     },
     "execution_count": 138,
     "metadata": {},
     "output_type": "execute_result"
    }
   ],
   "source": [
    "ex.summary.ents"
   ]
  },
  {
   "cell_type": "code",
   "execution_count": 191,
   "metadata": {},
   "outputs": [],
   "source": [
    "doc = nlp(\"Hey George, please email me asap at rowan@gmail.net. Take the survey at extraction.com. Also my friend at Google wants you to edit Article III, and call him at (445) 7680099\")"
   ]
  },
  {
   "cell_type": "code",
   "execution_count": 192,
   "metadata": {},
   "outputs": [
    {
     "data": {
      "text/plain": [
       "{'George': 'PERSON',\n",
       " 'rowan@gmail.net': 'EMAILADDRESS',\n",
       " 'extraction.com': 'WEBSITE',\n",
       " 'Google': 'ORG',\n",
       " 'Article III': 'PRODUCT',\n",
       " '(445) 7680099': 'PHONENUMBER'}"
      ]
     },
     "execution_count": 192,
     "metadata": {},
     "output_type": "execute_result"
    }
   ],
   "source": [
    "{e.text: e.label_ for e in doc.ents}"
   ]
  },
  {
   "cell_type": "code",
   "execution_count": null,
   "metadata": {},
   "outputs": [],
   "source": [
    "''"
   ]
  },
  {
   "cell_type": "code",
   "execution_count": 193,
   "metadata": {},
   "outputs": [
    {
     "data": {
      "text/plain": [
       "[Hey,\n",
       " George,\n",
       " ,,\n",
       " please,\n",
       " email,\n",
       " me,\n",
       " asap,\n",
       " at,\n",
       " rowan@gmail.net,\n",
       " .,\n",
       " Take,\n",
       " the,\n",
       " survey,\n",
       " at,\n",
       " extraction.com,\n",
       " .,\n",
       " Also,\n",
       " my,\n",
       " friend,\n",
       " at,\n",
       " Google,\n",
       " wants,\n",
       " you,\n",
       " to,\n",
       " edit,\n",
       " Article III,\n",
       " ,,\n",
       " and,\n",
       " call,\n",
       " him,\n",
       " at,\n",
       " (445) 7680099]"
      ]
     },
     "execution_count": 193,
     "metadata": {},
     "output_type": "execute_result"
    }
   ],
   "source": [
    "list(doc)"
   ]
  },
  {
   "cell_type": "code",
   "execution_count": null,
   "metadata": {},
   "outputs": [],
   "source": []
  }
 ],
 "metadata": {
  "kernelspec": {
   "display_name": "Python 3",
   "language": "python",
   "name": "python3"
  },
  "language_info": {
   "codemirror_mode": {
    "name": "ipython",
    "version": 3
   },
   "file_extension": ".py",
   "mimetype": "text/x-python",
   "name": "python",
   "nbconvert_exporter": "python",
   "pygments_lexer": "ipython3",
   "version": "3.7.4"
  }
 },
 "nbformat": 4,
 "nbformat_minor": 2
}
