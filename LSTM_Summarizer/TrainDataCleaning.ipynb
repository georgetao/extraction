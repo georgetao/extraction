{
 "cells": [
  {
   "cell_type": "code",
   "execution_count": 1,
   "metadata": {},
   "outputs": [
    {
     "name": "stderr",
     "output_type": "stream",
     "text": [
      "Using TensorFlow backend.\n"
     ]
    }
   ],
   "source": [
    "# Outside imports\n",
    "import os\n",
    "import importlib\n",
    "import warnings\n",
    "warnings.filterwarnings('ignore')\n",
    "\n",
    "import numpy as np\n",
    "import pandas as pd\n",
    "from sklearn.model_selection import train_test_split\n",
    "\n",
    "from keras.preprocessing.text import Tokenizer\n",
    "from keras.preprocessing.sequence import pad_sequences"
   ]
  },
  {
   "cell_type": "code",
   "execution_count": 414,
   "metadata": {},
   "outputs": [],
   "source": [
    "import data_util.preprocess \n",
    "importlib.reload(data_util.preprocess)\n",
    "from data_util.preprocess import *\n",
    "\n",
    "\n",
    "\n",
    "import model\n",
    "import train\n",
    "import evaluate\n",
    "import train_util\n",
    "import data_util.data\n",
    "import data_util.batcher\n",
    "import data_util.config\n",
    "\n",
    "importlib.reload(data_util.batcher)\n",
    "importlib.reload(model)\n",
    "importlib.reload(train)\n",
    "importlib.reload(evaluate)\n",
    "importlib.reload(train_util)\n",
    "importlib.reload(data_util.config)\n",
    "importlib.reload(data_util.data)\n",
    "\n",
    "from data_util.batcher import *\n",
    "from evaluate import *\n",
    "from model import *\n",
    "from train import *\n",
    "from train_util import *\n",
    "from data_util.data import *\n",
    "\n"
   ]
  },
  {
   "cell_type": "code",
   "execution_count": 3,
   "metadata": {},
   "outputs": [],
   "source": [
    "# load real data\n",
    "data_path = '/Users/rowancassius/Desktop/capstone/data/context_task_data.tsv'\n",
    "dat = pd.read_csv(data_path, sep='\\t')"
   ]
  },
  {
   "cell_type": "code",
   "execution_count": 4,
   "metadata": {},
   "outputs": [
    {
     "name": "stdout",
     "output_type": "stream",
     "text": [
      "/Users/rowancassius/Desktop/capstone/LSTM_Summarizer\r\n"
     ]
    }
   ],
   "source": [
    "!pwd"
   ]
  },
  {
   "cell_type": "code",
   "execution_count": 404,
   "metadata": {},
   "outputs": [],
   "source": [
    "# load real data\n",
    "data_path = '/Users/rowancassius/Desktop/capstone/data/context_task_data_fresh.tsv'\n",
    "dat = pd.read_csv(data_path, sep='\\t')\n",
    "\n",
    "# fill nas\n",
    "dat.fillna('', inplace=True)\n",
    "\n",
    "# train/test split\n",
    "np.random.seed(111)\n",
    "dat = dat.sample(frac=1)\n",
    "train_size = int(.8*dat.shape[0])\n",
    "train_data = dat[:train_size]\n",
    "test_data = dat[train_size:]\n"
   ]
  },
  {
   "cell_type": "code",
   "execution_count": 405,
   "metadata": {},
   "outputs": [],
   "source": [
    "pd.set_option('display.max_colwidth', -1)"
   ]
  },
  {
   "cell_type": "code",
   "execution_count": 406,
   "metadata": {},
   "outputs": [
    {
     "data": {
      "text/html": [
       "<div>\n",
       "<style scoped>\n",
       "    .dataframe tbody tr th:only-of-type {\n",
       "        vertical-align: middle;\n",
       "    }\n",
       "\n",
       "    .dataframe tbody tr th {\n",
       "        vertical-align: top;\n",
       "    }\n",
       "\n",
       "    .dataframe thead th {\n",
       "        text-align: right;\n",
       "    }\n",
       "</style>\n",
       "<table border=\"1\" class=\"dataframe\">\n",
       "  <thead>\n",
       "    <tr style=\"text-align: right;\">\n",
       "      <th></th>\n",
       "      <th>#</th>\n",
       "      <th>Task</th>\n",
       "      <th>Context</th>\n",
       "      <th>TaskSentence</th>\n",
       "      <th>Summary</th>\n",
       "      <th>Labeler</th>\n",
       "      <th>NoRequestInContext</th>\n",
       "      <th>Urgent</th>\n",
       "      <th>NotRequest</th>\n",
       "      <th>Unsure/Discuss</th>\n",
       "      <th>RandomNumber</th>\n",
       "    </tr>\n",
       "  </thead>\n",
       "  <tbody>\n",
       "    <tr>\n",
       "      <td>351</td>\n",
       "      <td>352</td>\n",
       "      <td>Call me a NX1 68 offer for the term and volumes listed.</td>\n",
       "      <td>Tom -</td>\n",
       "      <td>Call me a NX1 68 offer for the term and volumes listed.</td>\n",
       "      <td>Cal SENDER</td>\n",
       "      <td>Rowan</td>\n",
       "      <td></td>\n",
       "      <td>0</td>\n",
       "      <td></td>\n",
       "      <td></td>\n",
       "      <td>0.671638</td>\n",
       "    </tr>\n",
       "    <tr>\n",
       "      <td>1265</td>\n",
       "      <td>5369</td>\n",
       "      <td>Jeff/Eric - Please take a look at the e-mail below and help out on the</td>\n",
       "      <td>Section 6.7.2 Invoices should be addressed to:. Enron North America 1400 Smith St Houston, TX 77002 ATTN: Theresa Vos 713-3458-173. Attached in the latest draft of the GE-ENA breakout contract.. The lawyers need a few more items to complete before execution.. Please send to Kay Mann and copy me on responses.</td>\n",
       "      <td>Jeff/Eric - Please take a look at the e-mail below and help out on the following... accurate description of facitliy-pg 1 questions regarding the exhibits Address for Section 25.1 and 25.3</td>\n",
       "      <td>Review draft of GE-ENA breakout contract and help with accurate description of facility</td>\n",
       "      <td>Natalie</td>\n",
       "      <td>1</td>\n",
       "      <td>0</td>\n",
       "      <td>0</td>\n",
       "      <td></td>\n",
       "      <td>0.172902</td>\n",
       "    </tr>\n",
       "    <tr>\n",
       "      <td>1354</td>\n",
       "      <td>5458</td>\n",
       "      <td>I had to take Chelsey to sports, can you give me call and update me on the meeting.</td>\n",
       "      <td>Lynn, Steve January mentioned that I missed a meeting last night about Oneok concerning Bushton.</td>\n",
       "      <td>I had to take Chelsey to sports, can you give me call and update me on the meeting.</td>\n",
       "      <td>Call SENDER about Oneok concerning Bushton</td>\n",
       "      <td>Natalie</td>\n",
       "      <td>1</td>\n",
       "      <td>0</td>\n",
       "      <td>0</td>\n",
       "      <td></td>\n",
       "      <td>0.001874</td>\n",
       "    </tr>\n",
       "    <tr>\n",
       "      <td>514</td>\n",
       "      <td>1706</td>\n",
       "      <td>Please forward: Room Change</td>\n",
       "      <td>Kim, please forward to the traders.. I think the schedulers have this already.</td>\n",
       "      <td>Please forward: Room Change</td>\n",
       "      <td>Forward Room Change</td>\n",
       "      <td>Percy</td>\n",
       "      <td></td>\n",
       "      <td></td>\n",
       "      <td></td>\n",
       "      <td></td>\n",
       "      <td>0.099476</td>\n",
       "    </tr>\n",
       "    <tr>\n",
       "      <td>970</td>\n",
       "      <td>5073</td>\n",
       "      <td>Please sign me up.</td>\n",
       "      <td>Shawn,</td>\n",
       "      <td>Please sign me up.</td>\n",
       "      <td>Sign SENDER up</td>\n",
       "      <td>Natalie</td>\n",
       "      <td>1</td>\n",
       "      <td>0</td>\n",
       "      <td>0</td>\n",
       "      <td></td>\n",
       "      <td>0.442543</td>\n",
       "    </tr>\n",
       "    <tr>\n",
       "      <td>1092</td>\n",
       "      <td>5196</td>\n",
       "      <td>Please give me a call this week I need some info.</td>\n",
       "      <td></td>\n",
       "      <td>Please give me a call this week I need some info.</td>\n",
       "      <td>Call SENDER</td>\n",
       "      <td>Natalie</td>\n",
       "      <td>1</td>\n",
       "      <td>0</td>\n",
       "      <td>0</td>\n",
       "      <td></td>\n",
       "      <td>0.525904</td>\n",
       "    </tr>\n",
       "    <tr>\n",
       "      <td>889</td>\n",
       "      <td>3656</td>\n",
       "      <td>ortant to us -- please read it.</td>\n",
       "      <td>In this exciting sequel, Fu teams up with female mixing phenom DJ Zee for a four-city Ninja DJ Tour a cross the US.. Play now!. Brought to you by Ford Focus.. 09 IMAGE 09 09 09 09 09 ATTENTION MEMBERS IMAGE When the redesigned Shockwave.com launched on August 21, it came with an updated privacy policy.</td>\n",
       "      <td>Your privacy is imp ortant to us -- please read it.</td>\n",
       "      <td>Read privacy policy.</td>\n",
       "      <td>George</td>\n",
       "      <td>1</td>\n",
       "      <td></td>\n",
       "      <td></td>\n",
       "      <td></td>\n",
       "      <td>0.868424</td>\n",
       "    </tr>\n",
       "    <tr>\n",
       "      <td>882</td>\n",
       "      <td>3649</td>\n",
       "      <td>Go ahead and order the ac for #27.</td>\n",
       "      <td></td>\n",
       "      <td>Go ahead and order the ac for #27.</td>\n",
       "      <td>Order ac for #27.</td>\n",
       "      <td>George</td>\n",
       "      <td></td>\n",
       "      <td></td>\n",
       "      <td></td>\n",
       "      <td></td>\n",
       "      <td>0.477414</td>\n",
       "    </tr>\n",
       "    <tr>\n",
       "      <td>526</td>\n",
       "      <td>1718</td>\n",
       "      <td>Will you bring your jersey so your sub can wear it?</td>\n",
       "      <td></td>\n",
       "      <td>Will you bring your jersey so your sub can wear it?</td>\n",
       "      <td>Bring jersey</td>\n",
       "      <td>Percy</td>\n",
       "      <td>1</td>\n",
       "      <td></td>\n",
       "      <td></td>\n",
       "      <td></td>\n",
       "      <td>0.416095</td>\n",
       "    </tr>\n",
       "    <tr>\n",
       "      <td>338</td>\n",
       "      <td>339</td>\n",
       "      <td>TK could you update these prices for me for the Stan Presentation one more time - it's due to Tracy on Thurs ?</td>\n",
       "      <td></td>\n",
       "      <td>TK could you update these prices for me for the Stan Presentation one more time - it's due to Tracy on Thurs ?</td>\n",
       "      <td>Update these prices</td>\n",
       "      <td>Rowan</td>\n",
       "      <td></td>\n",
       "      <td>0</td>\n",
       "      <td></td>\n",
       "      <td></td>\n",
       "      <td>0.389516</td>\n",
       "    </tr>\n",
       "  </tbody>\n",
       "</table>\n",
       "</div>"
      ],
      "text/plain": [
       "         #  \\\n",
       "351   352    \n",
       "1265  5369   \n",
       "1354  5458   \n",
       "514   1706   \n",
       "970   5073   \n",
       "1092  5196   \n",
       "889   3656   \n",
       "882   3649   \n",
       "526   1718   \n",
       "338   339    \n",
       "\n",
       "                                                                                                                Task  \\\n",
       "351   Call me a NX1 68 offer for the term and volumes listed.                                                          \n",
       "1265  Jeff/Eric - Please take a look at the e-mail below and help out on the                                           \n",
       "1354  I had to take Chelsey to sports, can you give me call and update me on the meeting.                              \n",
       "514   Please forward: Room Change                                                                                      \n",
       "970   Please sign me up.                                                                                               \n",
       "1092  Please give me a call this week I need some info.                                                                \n",
       "889   ortant to us -- please read it.                                                                                  \n",
       "882   Go ahead and order the ac for #27.                                                                               \n",
       "526   Will you bring your jersey so your sub can wear it?                                                              \n",
       "338   TK could you update these prices for me for the Stan Presentation one more time - it's due to Tracy on Thurs ?   \n",
       "\n",
       "                                                                                                                                                                                                                                                                                                                    Context  \\\n",
       "351   Tom -                                                                                                                                                                                                                                                                                                                   \n",
       "1265  Section 6.7.2 Invoices should be addressed to:. Enron North America 1400 Smith St Houston, TX 77002 ATTN: Theresa Vos 713-3458-173. Attached in the latest draft of the GE-ENA breakout contract.. The lawyers need a few more items to complete before execution.. Please send to Kay Mann and copy me on responses.   \n",
       "1354  Lynn, Steve January mentioned that I missed a meeting last night about Oneok concerning Bushton.                                                                                                                                                                                                                        \n",
       "514   Kim, please forward to the traders.. I think the schedulers have this already.                                                                                                                                                                                                                                          \n",
       "970   Shawn,                                                                                                                                                                                                                                                                                                                  \n",
       "1092                                                                                                                                                                                                                                                                                                                          \n",
       "889   In this exciting sequel, Fu teams up with female mixing phenom DJ Zee for a four-city Ninja DJ Tour a cross the US.. Play now!. Brought to you by Ford Focus.. 09 IMAGE 09 09 09 09 09 ATTENTION MEMBERS IMAGE When the redesigned Shockwave.com launched on August 21, it came with an updated privacy policy.         \n",
       "882                                                                                                                                                                                                                                                                                                                           \n",
       "526                                                                                                                                                                                                                                                                                                                           \n",
       "338                                                                                                                                                                                                                                                                                                                           \n",
       "\n",
       "                                                                                                                                                                                      TaskSentence  \\\n",
       "351   Call me a NX1 68 offer for the term and volumes listed.                                                                                                                                        \n",
       "1265  Jeff/Eric - Please take a look at the e-mail below and help out on the following... accurate description of facitliy-pg 1 questions regarding the exhibits Address for Section 25.1 and 25.3   \n",
       "1354  I had to take Chelsey to sports, can you give me call and update me on the meeting.                                                                                                            \n",
       "514   Please forward: Room Change                                                                                                                                                                    \n",
       "970   Please sign me up.                                                                                                                                                                             \n",
       "1092  Please give me a call this week I need some info.                                                                                                                                              \n",
       "889   Your privacy is imp ortant to us -- please read it.                                                                                                                                            \n",
       "882   Go ahead and order the ac for #27.                                                                                                                                                             \n",
       "526   Will you bring your jersey so your sub can wear it?                                                                                                                                            \n",
       "338   TK could you update these prices for me for the Stan Presentation one more time - it's due to Tracy on Thurs ?                                                                                 \n",
       "\n",
       "                                                                                      Summary  \\\n",
       "351   Cal SENDER                                                                                \n",
       "1265  Review draft of GE-ENA breakout contract and help with accurate description of facility   \n",
       "1354  Call SENDER about Oneok concerning Bushton                                                \n",
       "514   Forward Room Change                                                                       \n",
       "970   Sign SENDER up                                                                            \n",
       "1092  Call SENDER                                                                               \n",
       "889   Read privacy policy.                                                                      \n",
       "882   Order ac for #27.                                                                         \n",
       "526   Bring jersey                                                                              \n",
       "338   Update these prices                                                                       \n",
       "\n",
       "      Labeler NoRequestInContext Urgent NotRequest Unsure/Discuss  \\\n",
       "351   Rowan                       0                                 \n",
       "1265  Natalie  1                  0      0                          \n",
       "1354  Natalie  1                  0      0                          \n",
       "514   Percy                                                         \n",
       "970   Natalie  1                  0      0                          \n",
       "1092  Natalie  1                  0      0                          \n",
       "889   George   1                                                    \n",
       "882   George                                                        \n",
       "526   Percy    1                                                    \n",
       "338   Rowan                       0                                 \n",
       "\n",
       "      RandomNumber  \n",
       "351   0.671638      \n",
       "1265  0.172902      \n",
       "1354  0.001874      \n",
       "514   0.099476      \n",
       "970   0.442543      \n",
       "1092  0.525904      \n",
       "889   0.868424      \n",
       "882   0.477414      \n",
       "526   0.416095      \n",
       "338   0.389516      "
      ]
     },
     "execution_count": 406,
     "metadata": {},
     "output_type": "execute_result"
    }
   ],
   "source": [
    "train_data.sample(10)"
   ]
  },
  {
   "cell_type": "markdown",
   "metadata": {},
   "source": [
    "##  Vocabulary Curation"
   ]
  },
  {
   "cell_type": "code",
   "execution_count": 407,
   "metadata": {},
   "outputs": [],
   "source": [
    "vocab_sents = [vocab_process_text(s) for s in \n",
    "               train_data.Context.values + train_data.TaskSentence.values]"
   ]
  },
  {
   "cell_type": "code",
   "execution_count": 411,
   "metadata": {},
   "outputs": [],
   "source": [
    "# fit tokenizer\n",
    "tokenizer = Tokenizer(lower=False, filters='')\n",
    "tokenizer.fit_on_texts(vocab_sents + list(ENT_TAGS))\n",
    "assert all([t in tokenizer.word_index for t in ENT_TAGS])"
   ]
  },
  {
   "cell_type": "code",
   "execution_count": 412,
   "metadata": {},
   "outputs": [
    {
     "name": "stdout",
     "output_type": "stream",
     "text": [
      "/Users/rowancassius/Desktop/capstone/LSTM_Summarizer\r\n"
     ]
    }
   ],
   "source": [
    "!pwd"
   ]
  },
  {
   "cell_type": "code",
   "execution_count": 415,
   "metadata": {},
   "outputs": [],
   "source": [
    "words2vocabfile(tokenizer.word_index.keys(), os.path.join(config.log_root, 'data/vocab.txt'))"
   ]
  },
  {
   "cell_type": "code",
   "execution_count": 416,
   "metadata": {},
   "outputs": [
    {
     "name": "stdout",
     "output_type": "stream",
     "text": [
      "Finished constructing vocabulary of 4654 total words. Last word added: a\n"
     ]
    }
   ],
   "source": [
    "vocab = Vocab.from_vocab_file(os.path.join(config.log_root, 'data/vocab.txt'))"
   ]
  },
  {
   "cell_type": "code",
   "execution_count": 393,
   "metadata": {},
   "outputs": [],
   "source": [
    "i = 925\n",
    "context = train_data.loc[i]['Context']\n",
    "task    = train_data.loc[i]['TaskSentence']\n",
    "summary = train_data.loc[i]['Summary']\n",
    "\n",
    "\n",
    "context = article_process_text(context)\n",
    "task = article_process_text(task)\n",
    "summary = summary_process_text(summary)"
   ]
  },
  {
   "cell_type": "code",
   "execution_count": null,
   "metadata": {},
   "outputs": [],
   "source": []
  },
  {
   "cell_type": "code",
   "execution_count": 394,
   "metadata": {},
   "outputs": [],
   "source": [
    "import data_util.batcher\n",
    "importlib.reload(data_util.batcher)\n",
    "from data_util.batcher import *"
   ]
  },
  {
   "cell_type": "code",
   "execution_count": 395,
   "metadata": {},
   "outputs": [],
   "source": [
    "ex = TaskExample(context, task, summary, vocab)"
   ]
  },
  {
   "cell_type": "code",
   "execution_count": 396,
   "metadata": {},
   "outputs": [
    {
     "name": "stdout",
     "output_type": "stream",
     "text": [
      "============================================================\n",
      "CONTEXT: Message sent from the pjm-customer-info mailing list at pjm-customer-info@majordomo.pjm.com:. The new PJM Enhanced Energy Scheduler EES will go into production at 10:00 this morning 4/17/00 at https://ees.pjm.com/mui/index.htm . Schedules may be submitted for energy that begins on or after tomorrow, 4/18/00. \n",
      "\n",
      "TASK:    For questions please contact PJM at 610-6662-270 . \n",
      "\n",
      "SUMMARY: contact PJM at 610-6662-270 with questions\n",
      "============================================================\n"
     ]
    }
   ],
   "source": [
    "ex.pretty_print()"
   ]
  },
  {
   "cell_type": "code",
   "execution_count": 397,
   "metadata": {},
   "outputs": [
    {
     "data": {
      "text/plain": [
       "['[START]', 'contact', 'ORG', 'at', 'PHONENUMBER', 'with', 'questions']"
      ]
     },
     "execution_count": 397,
     "metadata": {},
     "output_type": "execute_result"
    }
   ],
   "source": [
    "[vocab.id2word(i) for i in ex.dec_input]"
   ]
  },
  {
   "cell_type": "code",
   "execution_count": 398,
   "metadata": {},
   "outputs": [
    {
     "data": {
      "text/plain": [
       "51"
      ]
     },
     "execution_count": 398,
     "metadata": {},
     "output_type": "execute_result"
    }
   ],
   "source": [
    "len(ex.enc_input)"
   ]
  },
  {
   "cell_type": "code",
   "execution_count": 402,
   "metadata": {},
   "outputs": [
    {
     "data": {
      "text/plain": [
       "[230, 970, 2988, 1387, 2268, 3035]"
      ]
     },
     "execution_count": 402,
     "metadata": {},
     "output_type": "execute_result"
    }
   ],
   "source": [
    "ex.dec_input[1:]"
   ]
  },
  {
   "cell_type": "code",
   "execution_count": 401,
   "metadata": {},
   "outputs": [
    {
     "data": {
      "text/plain": [
       "[230, 4178, 2988, 4184, 2268, 3035]"
      ]
     },
     "execution_count": 401,
     "metadata": {},
     "output_type": "execute_result"
    }
   ],
   "source": [
    "ex.target[:-1]"
   ]
  },
  {
   "cell_type": "code",
   "execution_count": 403,
   "metadata": {},
   "outputs": [
    {
     "data": {
      "text/plain": [
       "{'pjm-customer-info@majordomo.pjm.com': 'EMAILADDRESS',\n",
       " 'PJM Enhanced Energy Scheduler EES': 'ORG',\n",
       " '10:00 this morning': 'TIME',\n",
       " 'https://ees.pjm.com/mui/index.htm': 'WEBSITE',\n",
       " 'PJM': 'ORG',\n",
       " '610-6662-270': 'PHONENUMBER'}"
      ]
     },
     "execution_count": 403,
     "metadata": {},
     "output_type": "execute_result"
    }
   ],
   "source": [
    "ex.entity_label_map"
   ]
  },
  {
   "cell_type": "code",
   "execution_count": 392,
   "metadata": {},
   "outputs": [
    {
     "data": {
      "text/plain": [
       "['Benji', ' ', 'Dinner', '22nd']"
      ]
     },
     "execution_count": 392,
     "metadata": {},
     "output_type": "execute_result"
    }
   ],
   "source": [
    "ex.article_oovs"
   ]
  },
  {
   "cell_type": "code",
   "execution_count": 357,
   "metadata": {},
   "outputs": [],
   "source": [
    "doc = nlp(\"Hey George, please email me asap at rowan@gmail.net. Take the survey at extraction.com. Also my friend at Google wants you to edit Article III, and call him at (445) 7680099\")"
   ]
  },
  {
   "cell_type": "code",
   "execution_count": 345,
   "metadata": {},
   "outputs": [
    {
     "data": {
      "text/plain": [
       "{'George': 'PERSON',\n",
       " 'rowan@gmail.net': 'EMAILADDRESS',\n",
       " 'extraction.com': 'WEBSITE',\n",
       " 'Google': 'ORG',\n",
       " 'Article III': 'PRODUCT',\n",
       " '(445) 7680099': 'PHONENUMBER'}"
      ]
     },
     "execution_count": 345,
     "metadata": {},
     "output_type": "execute_result"
    }
   ],
   "source": [
    "{e.text: e.label_ for e in doc.ents}"
   ]
  },
  {
   "cell_type": "code",
   "execution_count": 346,
   "metadata": {},
   "outputs": [
    {
     "data": {
      "text/plain": [
       "[Hey,\n",
       " George,\n",
       " ,,\n",
       " please,\n",
       " email,\n",
       " me,\n",
       " asap,\n",
       " at,\n",
       " rowan@gmail.net,\n",
       " .,\n",
       " Take,\n",
       " the,\n",
       " survey,\n",
       " at,\n",
       " extraction.com,\n",
       " .,\n",
       " Also,\n",
       " my,\n",
       " friend,\n",
       " at,\n",
       " Google,\n",
       " wants,\n",
       " you,\n",
       " to,\n",
       " edit,\n",
       " Article III,\n",
       " ,,\n",
       " and,\n",
       " call,\n",
       " him,\n",
       " at,\n",
       " (445) 7680099]"
      ]
     },
     "execution_count": 346,
     "metadata": {},
     "output_type": "execute_result"
    }
   ],
   "source": [
    "list(doc)"
   ]
  },
  {
   "cell_type": "code",
   "execution_count": 221,
   "metadata": {},
   "outputs": [
    {
     "data": {
      "text/plain": [
       "()"
      ]
     },
     "execution_count": 221,
     "metadata": {},
     "output_type": "execute_result"
    }
   ],
   "source": [
    "nlp('Term Sheet').ents"
   ]
  },
  {
   "cell_type": "code",
   "execution_count": null,
   "metadata": {},
   "outputs": [],
   "source": [
    "from spacy.tokenizer import wor"
   ]
  }
 ],
 "metadata": {
  "kernelspec": {
   "display_name": "Python 3",
   "language": "python",
   "name": "python3"
  },
  "language_info": {
   "codemirror_mode": {
    "name": "ipython",
    "version": 3
   },
   "file_extension": ".py",
   "mimetype": "text/x-python",
   "name": "python",
   "nbconvert_exporter": "python",
   "pygments_lexer": "ipython3",
   "version": "3.7.4"
  }
 },
 "nbformat": 4,
 "nbformat_minor": 2
}
