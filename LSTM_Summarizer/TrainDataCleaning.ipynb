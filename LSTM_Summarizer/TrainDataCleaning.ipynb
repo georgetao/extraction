{
 "cells": [
  {
   "cell_type": "code",
   "execution_count": 1,
   "metadata": {},
   "outputs": [
    {
     "name": "stderr",
     "output_type": "stream",
     "text": [
      "Using TensorFlow backend.\n"
     ]
    }
   ],
   "source": [
    "# Outside imports\n",
    "import os\n",
    "import importlib\n",
    "import warnings\n",
    "warnings.filterwarnings('ignore')\n",
    "\n",
    "import numpy as np\n",
    "import pandas as pd\n",
    "from sklearn.model_selection import train_test_split\n",
    "\n",
    "from keras.preprocessing.text import Tokenizer\n",
    "from keras.preprocessing.sequence import pad_sequences"
   ]
  },
  {
   "cell_type": "code",
   "execution_count": 18,
   "metadata": {},
   "outputs": [],
   "source": [
    "import data_util.preprocess \n",
    "importlib.reload(data_util.preprocess)\n",
    "from data_util.preprocess import *\n",
    "\n",
    "\n",
    "\n",
    "import model\n",
    "import train\n",
    "import evaluate\n",
    "import train_util\n",
    "import data_util.data\n",
    "import data_util.batcher\n",
    "import data_util.config\n",
    "\n",
    "importlib.reload(data_util.batcher)\n",
    "importlib.reload(model)\n",
    "importlib.reload(train)\n",
    "importlib.reload(evaluate)\n",
    "importlib.reload(train_util)\n",
    "importlib.reload(data_util.config)\n",
    "importlib.reload(data_util.data)\n",
    "\n",
    "from data_util.batcher import *\n",
    "from evaluate import *\n",
    "from model import *\n",
    "from train import *\n",
    "from train_util import *\n",
    "from data_util.data import *\n",
    "\n"
   ]
  },
  {
   "cell_type": "code",
   "execution_count": 3,
   "metadata": {},
   "outputs": [],
   "source": [
    "# load real data\n",
    "data_path = '/Users/rowancassius/Desktop/capstone/data/context_task_data.tsv'\n",
    "dat = pd.read_csv(data_path, sep='\\t')"
   ]
  },
  {
   "cell_type": "code",
   "execution_count": 4,
   "metadata": {},
   "outputs": [
    {
     "name": "stdout",
     "output_type": "stream",
     "text": [
      "/Users/rowancassius/Desktop/capstone/LSTM_Summarizer\r\n"
     ]
    }
   ],
   "source": [
    "!pwd"
   ]
  },
  {
   "cell_type": "code",
   "execution_count": 5,
   "metadata": {},
   "outputs": [],
   "source": [
    "# load real data\n",
    "data_path = '/Users/rowancassius/Desktop/capstone/data/context_task_data.tsv'\n",
    "dat = pd.read_csv(data_path, sep='\\t')\n",
    "\n",
    "# fill nas\n",
    "dat.fillna('', inplace=True)\n",
    "\n",
    "# train/test split\n",
    "np.random.seed(111)\n",
    "dat = dat.sample(frac=1)\n",
    "train_size = int(.8*dat.shape[0])\n",
    "train_data = dat[:train_size]\n",
    "test_data = dat[train_size:]\n"
   ]
  },
  {
   "cell_type": "code",
   "execution_count": 6,
   "metadata": {},
   "outputs": [],
   "source": [
    "pd.set_option('display.max_colwidth', -1)"
   ]
  },
  {
   "cell_type": "code",
   "execution_count": 7,
   "metadata": {},
   "outputs": [
    {
     "data": {
      "text/html": [
       "<div>\n",
       "<style scoped>\n",
       "    .dataframe tbody tr th:only-of-type {\n",
       "        vertical-align: middle;\n",
       "    }\n",
       "\n",
       "    .dataframe tbody tr th {\n",
       "        vertical-align: top;\n",
       "    }\n",
       "\n",
       "    .dataframe thead th {\n",
       "        text-align: right;\n",
       "    }\n",
       "</style>\n",
       "<table border=\"1\" class=\"dataframe\">\n",
       "  <thead>\n",
       "    <tr style=\"text-align: right;\">\n",
       "      <th></th>\n",
       "      <th>#</th>\n",
       "      <th>Task</th>\n",
       "      <th>Context</th>\n",
       "      <th>TaskSentence</th>\n",
       "      <th>Summary</th>\n",
       "      <th>Labeler</th>\n",
       "      <th>NoRequestInContext</th>\n",
       "      <th>Urgent</th>\n",
       "      <th>NotRequest</th>\n",
       "      <th>Unsure/Discuss</th>\n",
       "      <th>RandomNumber</th>\n",
       "    </tr>\n",
       "  </thead>\n",
       "  <tbody>\n",
       "    <tr>\n",
       "      <td>1166</td>\n",
       "      <td>5482</td>\n",
       "      <td>Please add Angela Davis to all e-mails regarding Project Tahiti.</td>\n",
       "      <td></td>\n",
       "      <td>Please add Angela Davis to all e-mails regarding Project Tahiti.</td>\n",
       "      <td>Add Angela Davis to emails regarding Project Tahiti</td>\n",
       "      <td>Natalie</td>\n",
       "      <td>1</td>\n",
       "      <td>0</td>\n",
       "      <td>0</td>\n",
       "      <td></td>\n",
       "      <td>0.504486</td>\n",
       "    </tr>\n",
       "    <tr>\n",
       "      <td>93</td>\n",
       "      <td>94</td>\n",
       "      <td>Susan: Please change the signature block as set forth below and I'll</td>\n",
       "      <td></td>\n",
       "      <td>Susan: Please change the signature block as set forth below and I'll review.</td>\n",
       "      <td>Change signature block</td>\n",
       "      <td>Rowan</td>\n",
       "      <td></td>\n",
       "      <td></td>\n",
       "      <td></td>\n",
       "      <td></td>\n",
       "      <td>0.555939</td>\n",
       "    </tr>\n",
       "    <tr>\n",
       "      <td>915</td>\n",
       "      <td>5231</td>\n",
       "      <td>comments, please call Jack Cashin at 202/ 5085-499 .</td>\n",
       "      <td>The FERC staff report on western markets and the causes of the Summer 2000 Price Abormalities, entitled, Part I of Staff Report on U.S.. Bulk Power Markets, is available at the following website: http://www.FERC.Fed.US/Electric/BulkPower.htm.</td>\n",
       "      <td>If you have any questions or comments, please call Jack Cashin at 202/ 5085-499 .</td>\n",
       "      <td>Call Jack Cashin at 202-5085-499 with questions</td>\n",
       "      <td>Natalie</td>\n",
       "      <td>1</td>\n",
       "      <td>0</td>\n",
       "      <td>0</td>\n",
       "      <td></td>\n",
       "      <td>0.619421</td>\n",
       "    </tr>\n",
       "    <tr>\n",
       "      <td>782</td>\n",
       "      <td>5098</td>\n",
       "      <td>Could you get me a copy please?</td>\n",
       "      <td>I'm going over the Park &amp; Loan discounts on CNG for May.. I need to see the invoice to compare what we were billed to what CNG is showing on the discount letter.. Gloria, Terry does not have the invoice.</td>\n",
       "      <td>Could you get me a copy please?</td>\n",
       "      <td>Give SENDER a copy of the invoice for CNG</td>\n",
       "      <td>Natalie</td>\n",
       "      <td>1</td>\n",
       "      <td>0</td>\n",
       "      <td>0</td>\n",
       "      <td></td>\n",
       "      <td>0.420132</td>\n",
       "    </tr>\n",
       "    <tr>\n",
       "      <td>162</td>\n",
       "      <td>163</td>\n",
       "      <td>Review the space plans and give your comments</td>\n",
       "      <td>Let's schedule a meeting for Mark Taylor, you and me with the consultant who we already had conversations with.. We can formulate our response.. Mark. Pursuant to your request, I called Deborah Bubenko regarding what information she needs from you regarding space planning for the new building.. Deborah had Kim Kaase extension 35349 return my call.. Listed below are the next steps:</td>\n",
       "      <td>Review the space plans and give your comments</td>\n",
       "      <td>Review space plans</td>\n",
       "      <td>Rowan</td>\n",
       "      <td>1</td>\n",
       "      <td></td>\n",
       "      <td></td>\n",
       "      <td></td>\n",
       "      <td>0.104132</td>\n",
       "    </tr>\n",
       "    <tr>\n",
       "      <td>917</td>\n",
       "      <td>5233</td>\n",
       "      <td>If interested, please submit app to yeah@haas by</td>\n",
       "      <td>@ Promotes students' academic and personal development in a safe, nurturing environment..  Benefits for Mentors:.  -Enhance the financial education and academic preparedness of under-served students;. -Get a crash course in stock market basics, investment strategies, macroecon issues, etc.. ;. -Earn a unit of academic credit for volunteering with Haas' youth outreach program..  font face Times New Roman, Times size 4 color #0000FF div align center Attached are the Saturday Session calendar and the Mentor/Coach application.&amp;nbsp;</td>\n",
       "      <td>If interested, please submit app to yeah@haas</td>\n",
       "      <td>Submit app to yeah@haas</td>\n",
       "      <td>Natalie</td>\n",
       "      <td>1</td>\n",
       "      <td>0</td>\n",
       "      <td>1</td>\n",
       "      <td></td>\n",
       "      <td>0.192327</td>\n",
       "    </tr>\n",
       "    <tr>\n",
       "      <td>1058</td>\n",
       "      <td>5374</td>\n",
       "      <td>Please contact me if you can inform me on any of the following subjects.</td>\n",
       "      <td>I am working on a report aimed at Energy Marketers that will examine Natural Gas Storage: Effects on Energy Trading.. I am looking for people who can talk about the importance of this subject to power marketers.</td>\n",
       "      <td>Please contact me if you can inform me on any of the following subjects.</td>\n",
       "      <td>Contact SENDER with information about Natural Gas Storage: Effects on Energy Trading report</td>\n",
       "      <td>Natalie</td>\n",
       "      <td>1</td>\n",
       "      <td>0</td>\n",
       "      <td>0</td>\n",
       "      <td></td>\n",
       "      <td>0.483459</td>\n",
       "    </tr>\n",
       "    <tr>\n",
       "      <td>707</td>\n",
       "      <td>3474</td>\n",
       "      <td>PS. Sean, please forward this to Richard.</td>\n",
       "      <td></td>\n",
       "      <td>Please plan to meet on Wed. see below to discuss the Deal Profitability Analysis with Kim Kouri.</td>\n",
       "      <td>Plan to meet on Wednesday.</td>\n",
       "      <td>George</td>\n",
       "      <td></td>\n",
       "      <td></td>\n",
       "      <td></td>\n",
       "      <td></td>\n",
       "      <td>0.186233</td>\n",
       "    </tr>\n",
       "    <tr>\n",
       "      <td>1228</td>\n",
       "      <td>5544</td>\n",
       "      <td>Vince, could you follow this up and</td>\n",
       "      <td>Hi Vince, I talked to Tom Gros today and metioned our desire to estabilish a strategic relationship with Nick Bambos and his research effort.. Tom is very excited about the idea and was willing to cut the check.. I suggested that we have more of a strategic relationship in mine Enron / Stanford and he agreed to that as well.. Tom mentioned that Greg Whalley was interested in estabilishing such a relationship.</td>\n",
       "      <td>Vince, could you follow this up and ground this?</td>\n",
       "      <td>Follow up on strategic relationship with Greg Whalley</td>\n",
       "      <td>Natalie</td>\n",
       "      <td>1</td>\n",
       "      <td>0</td>\n",
       "      <td>0</td>\n",
       "      <td></td>\n",
       "      <td>0.344668</td>\n",
       "    </tr>\n",
       "    <tr>\n",
       "      <td>507</td>\n",
       "      <td>508</td>\n",
       "      <td>Please fill out the</td>\n",
       "      <td>The Raptor I structure requires that certian information be included with the confirmation of derivative transactions with Talon.</td>\n",
       "      <td>Please fill out the attached form for the Avici swap on August 3 and submit it to me.</td>\n",
       "      <td>Complete form for Avici swap</td>\n",
       "      <td>Rowan</td>\n",
       "      <td>1</td>\n",
       "      <td>0</td>\n",
       "      <td></td>\n",
       "      <td></td>\n",
       "      <td>0.682989</td>\n",
       "    </tr>\n",
       "  </tbody>\n",
       "</table>\n",
       "</div>"
      ],
      "text/plain": [
       "         #  \\\n",
       "1166  5482   \n",
       "93    94     \n",
       "915   5231   \n",
       "782   5098   \n",
       "162   163    \n",
       "917   5233   \n",
       "1058  5374   \n",
       "707   3474   \n",
       "1228  5544   \n",
       "507   508    \n",
       "\n",
       "                                                                          Task  \\\n",
       "1166  Please add Angela Davis to all e-mails regarding Project Tahiti.           \n",
       "93    Susan: Please change the signature block as set forth below and I'll       \n",
       "915   comments, please call Jack Cashin at 202/ 5085-499 .                       \n",
       "782   Could you get me a copy please?                                            \n",
       "162   Review the space plans and give your comments                              \n",
       "917   If interested, please submit app to yeah@haas by                           \n",
       "1058  Please contact me if you can inform me on any of the following subjects.   \n",
       "707   PS. Sean, please forward this to Richard.                                  \n",
       "1228  Vince, could you follow this up and                                        \n",
       "507   Please fill out the                                                        \n",
       "\n",
       "                                                                                                                                                                                                                                                                                                                                                                                                                                                                                                                                                     Context  \\\n",
       "1166                                                                                                                                                                                                                                                                                                                                                                                                                                                                                                                                                           \n",
       "93                                                                                                                                                                                                                                                                                                                                                                                                                                                                                                                                                             \n",
       "915   The FERC staff report on western markets and the causes of the Summer 2000 Price Abormalities, entitled, Part I of Staff Report on U.S.. Bulk Power Markets, is available at the following website: http://www.FERC.Fed.US/Electric/BulkPower.htm.                                                                                                                                                                                                                                                                                                       \n",
       "782   I'm going over the Park & Loan discounts on CNG for May.. I need to see the invoice to compare what we were billed to what CNG is showing on the discount letter.. Gloria, Terry does not have the invoice.                                                                                                                                                                                                                                                                                                                                              \n",
       "162   Let's schedule a meeting for Mark Taylor, you and me with the consultant who we already had conversations with.. We can formulate our response.. Mark. Pursuant to your request, I called Deborah Bubenko regarding what information she needs from you regarding space planning for the new building.. Deborah had Kim Kaase extension 35349 return my call.. Listed below are the next steps:                                                                                                                                                          \n",
       "917   @ Promotes students' academic and personal development in a safe, nurturing environment..  Benefits for Mentors:.  -Enhance the financial education and academic preparedness of under-served students;. -Get a crash course in stock market basics, investment strategies, macroecon issues, etc.. ;. -Earn a unit of academic credit for volunteering with Haas' youth outreach program..  font face Times New Roman, Times size 4 color #0000FF div align center Attached are the Saturday Session calendar and the Mentor/Coach application.&nbsp;   \n",
       "1058  I am working on a report aimed at Energy Marketers that will examine Natural Gas Storage: Effects on Energy Trading.. I am looking for people who can talk about the importance of this subject to power marketers.                                                                                                                                                                                                                                                                                                                                      \n",
       "707                                                                                                                                                                                                                                                                                                                                                                                                                                                                                                                                                            \n",
       "1228  Hi Vince, I talked to Tom Gros today and metioned our desire to estabilish a strategic relationship with Nick Bambos and his research effort.. Tom is very excited about the idea and was willing to cut the check.. I suggested that we have more of a strategic relationship in mine Enron / Stanford and he agreed to that as well.. Tom mentioned that Greg Whalley was interested in estabilishing such a relationship.                                                                                                                             \n",
       "507   The Raptor I structure requires that certian information be included with the confirmation of derivative transactions with Talon.                                                                                                                                                                                                                                                                                                                                                                                                                        \n",
       "\n",
       "                                                                                          TaskSentence  \\\n",
       "1166  Please add Angela Davis to all e-mails regarding Project Tahiti.                                   \n",
       "93    Susan: Please change the signature block as set forth below and I'll review.                       \n",
       "915   If you have any questions or comments, please call Jack Cashin at 202/ 5085-499 .                  \n",
       "782   Could you get me a copy please?                                                                    \n",
       "162   Review the space plans and give your comments                                                      \n",
       "917   If interested, please submit app to yeah@haas                                                      \n",
       "1058  Please contact me if you can inform me on any of the following subjects.                           \n",
       "707   Please plan to meet on Wed. see below to discuss the Deal Profitability Analysis with Kim Kouri.   \n",
       "1228  Vince, could you follow this up and ground this?                                                   \n",
       "507   Please fill out the attached form for the Avici swap on August 3 and submit it to me.              \n",
       "\n",
       "                                                                                          Summary  \\\n",
       "1166  Add Angela Davis to emails regarding Project Tahiti                                           \n",
       "93    Change signature block                                                                        \n",
       "915   Call Jack Cashin at 202-5085-499 with questions                                               \n",
       "782   Give SENDER a copy of the invoice for CNG                                                     \n",
       "162   Review space plans                                                                            \n",
       "917   Submit app to yeah@haas                                                                       \n",
       "1058  Contact SENDER with information about Natural Gas Storage: Effects on Energy Trading report   \n",
       "707   Plan to meet on Wednesday.                                                                    \n",
       "1228  Follow up on strategic relationship with Greg Whalley                                         \n",
       "507   Complete form for Avici swap                                                                  \n",
       "\n",
       "      Labeler NoRequestInContext Urgent NotRequest Unsure/Discuss  \\\n",
       "1166  Natalie  1                  0      0                          \n",
       "93    Rowan                                                         \n",
       "915   Natalie  1                  0      0                          \n",
       "782   Natalie  1                  0      0                          \n",
       "162   Rowan    1                                                    \n",
       "917   Natalie  1                  0      1                          \n",
       "1058  Natalie  1                  0      0                          \n",
       "707   George                                                        \n",
       "1228  Natalie  1                  0      0                          \n",
       "507   Rowan    1                  0                                 \n",
       "\n",
       "      RandomNumber  \n",
       "1166  0.504486      \n",
       "93    0.555939      \n",
       "915   0.619421      \n",
       "782   0.420132      \n",
       "162   0.104132      \n",
       "917   0.192327      \n",
       "1058  0.483459      \n",
       "707   0.186233      \n",
       "1228  0.344668      \n",
       "507   0.682989      "
      ]
     },
     "execution_count": 7,
     "metadata": {},
     "output_type": "execute_result"
    }
   ],
   "source": [
    "train_data.sample(10)"
   ]
  },
  {
   "cell_type": "markdown",
   "metadata": {},
   "source": [
    "##  Vocabulary Curation"
   ]
  },
  {
   "cell_type": "code",
   "execution_count": 8,
   "metadata": {},
   "outputs": [],
   "source": [
    "vocab_sents = [vocab_process_text(s) for s in \n",
    "               train_data.Context.values + train_data.TaskSentence.values]"
   ]
  },
  {
   "cell_type": "code",
   "execution_count": 9,
   "metadata": {},
   "outputs": [],
   "source": [
    "# fit tokenizer\n",
    "tokenizer = Tokenizer(lower=False, filters='')\n",
    "tokenizer.fit_on_texts(vocab_sents + list(ENT_TAGS))\n",
    "assert all([t in tokenizer.word_index for t in ENT_TAGS])"
   ]
  },
  {
   "cell_type": "code",
   "execution_count": 10,
   "metadata": {},
   "outputs": [],
   "source": [
    "words2vocabfile(tokenizer.word_index.keys(), os.path.join(config.log_root, 'data/vocab.txt'))"
   ]
  },
  {
   "cell_type": "code",
   "execution_count": 11,
   "metadata": {},
   "outputs": [
    {
     "name": "stdout",
     "output_type": "stream",
     "text": [
      "Finished constructing vocabulary of 4178 total words. Last word added: a\n"
     ]
    }
   ],
   "source": [
    "vocab = Vocab.from_vocab_file(os.path.join(config.log_root, 'data/vocab.txt'))"
   ]
  },
  {
   "cell_type": "code",
   "execution_count": 25,
   "metadata": {},
   "outputs": [],
   "source": [
    "i= 1060\n",
    "context = train_data.loc[i]['Context']\n",
    "task    = train_data.loc[i]['TaskSentence']\n",
    "summary = train_data.loc[i]['Summary']"
   ]
  },
  {
   "cell_type": "code",
   "execution_count": 26,
   "metadata": {},
   "outputs": [
    {
     "data": {
      "text/plain": [
       "\"Please verify if this is some other c/p's deal.\""
      ]
     },
     "execution_count": 26,
     "metadata": {},
     "output_type": "execute_result"
    }
   ],
   "source": [
    "task"
   ]
  },
  {
   "cell_type": "code",
   "execution_count": 27,
   "metadata": {},
   "outputs": [
    {
     "data": {
      "text/plain": [
       "\"Please verify if this is some other c/p's deal.\""
      ]
     },
     "execution_count": 27,
     "metadata": {},
     "output_type": "execute_result"
    }
   ],
   "source": [
    "task"
   ]
  },
  {
   "cell_type": "code",
   "execution_count": 28,
   "metadata": {},
   "outputs": [
    {
     "data": {
      "text/plain": [
       "\"please verify if this is some other c / p 's deal .\""
      ]
     },
     "execution_count": 28,
     "metadata": {},
     "output_type": "execute_result"
    }
   ],
   "source": [
    "# TODO write a unit test for these\n",
    "vocab_process_text(task)"
   ]
  },
  {
   "cell_type": "code",
   "execution_count": 29,
   "metadata": {},
   "outputs": [
    {
     "data": {
      "text/plain": [
       "\"Please verify if this is some other c/p's deal.\""
      ]
     },
     "execution_count": 29,
     "metadata": {},
     "output_type": "execute_result"
    }
   ],
   "source": [
    "article_process_text(task)"
   ]
  },
  {
   "cell_type": "code",
   "execution_count": 30,
   "metadata": {},
   "outputs": [
    {
     "data": {
      "text/plain": [
       "\"please verify if this is some other c / p 's deal\""
      ]
     },
     "execution_count": 30,
     "metadata": {},
     "output_type": "execute_result"
    }
   ],
   "source": [
    "summary_process_text(task)"
   ]
  },
  {
   "cell_type": "code",
   "execution_count": 501,
   "metadata": {},
   "outputs": [],
   "source": [
    "import data_util.batcher\n",
    "importlib.reload(data_util.batcher)\n",
    "from data_util.batcher import *"
   ]
  },
  {
   "cell_type": "code",
   "execution_count": 502,
   "metadata": {},
   "outputs": [],
   "source": [
    "ex = TaskExample(context, task, summary, vocab)"
   ]
  },
  {
   "cell_type": "code",
   "execution_count": 503,
   "metadata": {},
   "outputs": [
    {
     "data": {
      "text/plain": [
       "92"
      ]
     },
     "execution_count": 503,
     "metadata": {},
     "output_type": "execute_result"
    }
   ],
   "source": [
    "len(ex.enc_input)"
   ]
  },
  {
   "cell_type": "code",
   "execution_count": 504,
   "metadata": {},
   "outputs": [],
   "source": [
    "# list(zip(ex.enc_input_extend_vocab, ex.enc_input))"
   ]
  },
  {
   "cell_type": "code",
   "execution_count": 505,
   "metadata": {},
   "outputs": [
    {
     "data": {
      "text/plain": [
       "[2, 0, 13, 64, 3481, 3615, 3932, 3944, 0, 331]"
      ]
     },
     "execution_count": 505,
     "metadata": {},
     "output_type": "execute_result"
    }
   ],
   "source": [
    "ex.dec_input"
   ]
  },
  {
   "cell_type": "code",
   "execution_count": 506,
   "metadata": {},
   "outputs": [
    {
     "data": {
      "text/plain": [
       "['the Office of the', 'PhoneMail Box', '713-8537-294', ' ', '20 or']"
      ]
     },
     "execution_count": 506,
     "metadata": {},
     "output_type": "execute_result"
    }
   ],
   "source": [
    "ex.article_oovs"
   ]
  },
  {
   "cell_type": "code",
   "execution_count": 507,
   "metadata": {},
   "outputs": [
    {
     "data": {
      "text/plain": [
       "['Submit',\n",
       " 'name',\n",
       " 'and',\n",
       " 'number',\n",
       " 'with',\n",
       " 'message',\n",
       " 'to',\n",
       " 'Office of the',\n",
       " 'chairman']"
      ]
     },
     "execution_count": 507,
     "metadata": {},
     "output_type": "execute_result"
    }
   ],
   "source": [
    "ex.summary_tokens"
   ]
  },
  {
   "cell_type": "code",
   "execution_count": 499,
   "metadata": {},
   "outputs": [
    {
     "data": {
      "text/plain": [
       "[0, 13, 64, 3481, 3615, 3932, 3944, 4178, 331]"
      ]
     },
     "execution_count": 499,
     "metadata": {},
     "output_type": "execute_result"
    }
   ],
   "source": [
    "ex.sum_ids_extend_vocab"
   ]
  },
  {
   "cell_type": "code",
   "execution_count": 500,
   "metadata": {},
   "outputs": [
    {
     "data": {
      "text/plain": [
       "[2, 0, 13, 64, 3481, 3615, 3932, 3944, 0, 331]"
      ]
     },
     "execution_count": 500,
     "metadata": {},
     "output_type": "execute_result"
    }
   ],
   "source": [
    "ex.dec_input"
   ]
  },
  {
   "cell_type": "code",
   "execution_count": 510,
   "metadata": {},
   "outputs": [
    {
     "data": {
      "text/plain": [
       "(Submit, Office of the)"
      ]
     },
     "execution_count": 510,
     "metadata": {},
     "output_type": "execute_result"
    }
   ],
   "source": [
    "ex.summary.ents"
   ]
  },
  {
   "cell_type": "code",
   "execution_count": 513,
   "metadata": {},
   "outputs": [
    {
     "data": {
      "text/plain": [
       "['Carl,',\n",
       " 'my phone was lost. Would you ask SENDER to look into another and spam my website: www.car.com. Additional this person might have a lead: Joe Anderson.']"
      ]
     },
     "execution_count": 513,
     "metadata": {},
     "output_type": "execute_result"
    }
   ],
   "source": [
    "text.split(' ', 1)"
   ]
  },
  {
   "cell_type": "code",
   "execution_count": null,
   "metadata": {},
   "outputs": [],
   "source": []
  }
 ],
 "metadata": {
  "kernelspec": {
   "display_name": "Python 3",
   "language": "python",
   "name": "python3"
  },
  "language_info": {
   "codemirror_mode": {
    "name": "ipython",
    "version": 3
   },
   "file_extension": ".py",
   "mimetype": "text/x-python",
   "name": "python",
   "nbconvert_exporter": "python",
   "pygments_lexer": "ipython3",
   "version": "3.7.4"
  }
 },
 "nbformat": 4,
 "nbformat_minor": 2
}
